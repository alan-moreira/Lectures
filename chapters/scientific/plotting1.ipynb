{
 "cells": [
  {
   "cell_type": "markdown",
   "metadata": {},
   "source": [
    "# Plotting\n",
    "\n",
    "\n"
   ]
  },
  {
   "cell_type": "markdown",
   "metadata": {},
   "source": [
    "## Visualization\n",
    "\n",
    "One of the most important outputs of your analysis will be the visualizations that you choose to\n",
    "communicate what you’ve discovered.\n",
    "\n",
    "Here are what some people – whom we think have earned the right to an opinion on this\n",
    "material – have said with respect to data visualizations.\n",
    "\n",
    "> Above all else, show the data – Edward Tufte\n",
    "\n",
    "> By visualizing information, we turn it into a landscape that you can explore with your eyes. A sort of information map. And when you’re lost in information, an information map is kind of useful – David McCandless\n",
    "\n",
    "> I spend hours thinking about how to get the story across in my visualizations. I don’t mind taking that long because it’s that five minutes of presenting it or someone getting it that can make or break a deal – Goldman Sachs executive\n",
    "\n",
    "\n",
    "\n",
    "\n",
    "We won’t have time to cover “how to make a compelling data visualization” in this lecture.\n",
    "\n",
    "Instead, we will focus on the basics of creating visualizations in Python.\n",
    "\n",
    "This will be a fast introduction, but this material appears in almost every\n",
    "lecture going forward, which will help the concepts sink in.\n",
    "\n",
    "In almost any profession that you pursue, much of what you do involves communicating ideas to others.\n",
    "\n",
    "Data visualization can help you communicate these ideas effectively, and we encourage you to learn\n",
    "more about what makes a useful visualization.\n",
    "\n",
    "We include some references that we have found useful below. \n",
    "\n",
    "- [Introduction to Data Visualization](http://paldhous.github.io/ucb/2016/dataviz/index.html)  \n",
    "\n",
    "\n"
   ]
  }
 ],
 "metadata": {
  "date": 1595397099.8827949,
  "download_nb": false,
  "filename": "plotting.rst",
  "filename_with_path": "scientific/plotting",
  "kernelspec": {
   "display_name": "Python 3",
   "language": "python",
   "name": "python3"
  },
  "language_info": {
   "codemirror_mode": {
    "name": "ipython",
    "version": 3
   },
   "file_extension": ".py",
   "mimetype": "text/x-python",
   "name": "python",
   "nbconvert_exporter": "python",
   "pygments_lexer": "ipython3",
   "version": "3.8.5"
  },
  "title": "Plotting"
 },
 "nbformat": 4,
 "nbformat_minor": 4
}
