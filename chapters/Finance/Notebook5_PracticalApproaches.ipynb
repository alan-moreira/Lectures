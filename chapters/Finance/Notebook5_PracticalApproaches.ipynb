{
 "cells": [
  {
   "cell_type": "markdown",
   "metadata": {
    "colab_type": "text",
    "id": "QgykM3kZhHqj"
   },
   "source": [
    "<img src='https://www.dropbox.com/s/125k1wnxkl6bgs0/class_logo.jpg?dl=1' alt=\"Smiley face\" align=\"center\" style=\"width: 600px;\"/>\n",
    "\n",
    "\n",
    "# Notebook 5\n",
    "\n",
    "\n"
   ]
  },
  {
   "cell_type": "markdown",
   "metadata": {
    "colab_type": "text",
    "id": "1GAZf2ZBhHql"
   },
   "source": [
    "### Topics covered\n",
    "* * *\n",
    " * Portfolio optimization with constraints\n",
    " * Estimation uncertainty\n",
    " * Statistical tests\n",
    " * Minimum-Variance investing\n",
    " * Risk-parity investing\n",
    " * Portfolio choice using equilibirum thinking\n"
   ]
  },
  {
   "cell_type": "code",
   "execution_count": 1,
   "metadata": {
    "colab": {
     "base_uri": "https://localhost:8080/",
     "height": 235
    },
    "colab_type": "code",
    "executionInfo": {
     "elapsed": 7090,
     "status": "ok",
     "timestamp": 1576771469964,
     "user": {
      "displayName": "yuchi yao",
      "photoUrl": "",
      "userId": "00457884373990713813"
     },
     "user_tz": 300
    },
    "id": "vI1xySqDhHqm",
    "outputId": "7d785476-d21c-4ef3-bf1b-274e8900fcb4"
   },
   "outputs": [
    {
     "data": {
      "text/html": [
       "<div>\n",
       "<style scoped>\n",
       "    .dataframe tbody tr th:only-of-type {\n",
       "        vertical-align: middle;\n",
       "    }\n",
       "\n",
       "    .dataframe tbody tr th {\n",
       "        vertical-align: top;\n",
       "    }\n",
       "\n",
       "    .dataframe thead th {\n",
       "        text-align: right;\n",
       "    }\n",
       "</style>\n",
       "<table border=\"1\" class=\"dataframe\">\n",
       "  <thead>\n",
       "    <tr style=\"text-align: right;\">\n",
       "      <th></th>\n",
       "      <th>MKTUS</th>\n",
       "      <th>BondUS</th>\n",
       "      <th>EM</th>\n",
       "      <th>MKTxUS</th>\n",
       "      <th>BondxUS</th>\n",
       "    </tr>\n",
       "    <tr>\n",
       "      <th>Date</th>\n",
       "      <th></th>\n",
       "      <th></th>\n",
       "      <th></th>\n",
       "      <th></th>\n",
       "      <th></th>\n",
       "    </tr>\n",
       "  </thead>\n",
       "  <tbody>\n",
       "    <tr>\n",
       "      <th>2016-08-31</th>\n",
       "      <td>0.0050</td>\n",
       "      <td>-0.008617</td>\n",
       "      <td>0.024986</td>\n",
       "      <td>0.000638</td>\n",
       "      <td>-0.009752</td>\n",
       "    </tr>\n",
       "    <tr>\n",
       "      <th>2016-09-30</th>\n",
       "      <td>0.0025</td>\n",
       "      <td>-0.016617</td>\n",
       "      <td>0.012953</td>\n",
       "      <td>0.012536</td>\n",
       "      <td>0.009779</td>\n",
       "    </tr>\n",
       "    <tr>\n",
       "      <th>2016-10-31</th>\n",
       "      <td>-0.0202</td>\n",
       "      <td>-0.049660</td>\n",
       "      <td>0.002274</td>\n",
       "      <td>-0.020583</td>\n",
       "      <td>-0.043676</td>\n",
       "    </tr>\n",
       "    <tr>\n",
       "      <th>2016-11-30</th>\n",
       "      <td>0.0486</td>\n",
       "      <td>-0.081736</td>\n",
       "      <td>-0.046071</td>\n",
       "      <td>-0.019898</td>\n",
       "      <td>-0.050459</td>\n",
       "    </tr>\n",
       "    <tr>\n",
       "      <th>2016-12-31</th>\n",
       "      <td>0.0182</td>\n",
       "      <td>-0.005596</td>\n",
       "      <td>0.002604</td>\n",
       "      <td>0.034083</td>\n",
       "      <td>-0.023507</td>\n",
       "    </tr>\n",
       "  </tbody>\n",
       "</table>\n",
       "</div>"
      ],
      "text/plain": [
       "             MKTUS    BondUS        EM    MKTxUS   BondxUS\n",
       "Date                                                      \n",
       "2016-08-31  0.0050 -0.008617  0.024986  0.000638 -0.009752\n",
       "2016-09-30  0.0025 -0.016617  0.012953  0.012536  0.009779\n",
       "2016-10-31 -0.0202 -0.049660  0.002274 -0.020583 -0.043676\n",
       "2016-11-30  0.0486 -0.081736 -0.046071 -0.019898 -0.050459\n",
       "2016-12-31  0.0182 -0.005596  0.002604  0.034083 -0.023507"
      ]
     },
     "execution_count": 1,
     "metadata": {},
     "output_type": "execute_result"
    }
   ],
   "source": [
    "import pandas as pd\n",
    "import numpy as np\n",
    "import matplotlib.pyplot as plt\n",
    "%matplotlib inline\n",
    "#GlobalFinMonthly\n",
    "url=\"https://www.dropbox.com/s/3k35mt3t57ygff2/GlobalFinMonthly.csv?dl=1\"\n",
    "Data = pd.read_csv(url,na_values=-99)\n",
    "# tell python Date is date:\n",
    "Data['Date']=pd.to_datetime(Data['Date'])\n",
    "# set an an index\n",
    "Data=Data.set_index(['Date'])\n",
    "Data=Data.rename(columns={Data.columns[1]: \"MKTUS\",Data.columns[2]: \"BondUS\",\n",
    "                          Data.columns[3]: \"EM\",Data.columns[4]: \"MKTxUS\",Data.columns[5]: \"BondxUS\" })\n",
    "Re=(Data.drop('RF',axis=1)).subtract(Data['RF'],axis='index')\n",
    "Re.tail()"
   ]
  },
  {
   "cell_type": "markdown",
   "metadata": {
    "colab_type": "text",
    "id": "-M03qbL5hHrd"
   },
   "source": [
    "# Practical approaches to deal with Estimation Uncertainty\n",
    "\n",
    "\n",
    "\n",
    "\n",
    "* Never apply a Mean-variance optimizer to individual assets such as stocks while using sample moments as inputs\n",
    "\n",
    "  * Sample average are very bad estimators of a stock expected return going forward\n",
    "  \n",
    "> Why?\n",
    "\n",
    "* Using for broad asset classes is slightly better as we expect the expected return of broad asset classes to be more stable over time, but still the minimizer is sensitive with respect to expected returns, which still have considerable uncertainty\n",
    "\n",
    "> So what do people do?\n",
    "\n",
    "\n",
    "* Impose restrictions on parameters, specially the ones that are poorly estimated (individual assets expected returns)\n",
    "\n",
    "  * Minimum-variance investing\n",
    "  \n",
    "  * Risk parity\n",
    "  \n",
    "\n",
    "  \n",
    "* Impose economics resticitions on parameters,i.e., equilibrium logic.\n",
    "\n",
    "     * The Goldman Sachs/Black-Litterman approach\n",
    "\n",
    "     * Factor investing\n",
    "\n",
    "\n",
    "\n",
    "\n",
    "  \n",
    "\n"
   ]
  },
  {
   "cell_type": "markdown",
   "metadata": {
    "colab_type": "text",
    "id": "8Mw3JjFxhHre"
   },
   "source": [
    "## Minimum-variance investing\n",
    "\n",
    "\n",
    "* Mean-variance investing under the assumption that all assets have same expected returns, but uses covariance matrix to minimize risk\n",
    "\n",
    " * The idea is that expected returns signals are pure noise so we might as well assume there are no signals and all expected returns are the same\n",
    "  \n",
    " * Can be ueful when applied within asset class when assumption of same expected returns is plausible\n",
    "  \n",
    " * For example this is behind Minimum volatility investing [for example,https://investor.vanguard.com/mutual-funds/profile/VMVFX]\n",
    "  \n",
    "* Assumes all assets share the same expected return\n",
    "\n",
    "$$Min~ W'Var(R)W~ subject~ to~ \\mathbf{1}'W=1$$\n",
    "\n",
    "$$W_{minvariance}=Var(R)^{-1}\\mathbf{1}$$\n",
    "\n",
    "* I use this technique in \"hedging-risk factors\", a recent academic paper, to construct portfolios with Sharpe-ratios of 0.8 at the yearly horizon, which is very large\n",
    "> Why this might make sense?\n"
   ]
  },
  {
   "cell_type": "code",
   "execution_count": 2,
   "metadata": {
    "colab": {
     "base_uri": "https://localhost:8080/",
     "height": 204
    },
    "colab_type": "code",
    "executionInfo": {
     "elapsed": 505,
     "status": "ok",
     "timestamp": 1576783495932,
     "user": {
      "displayName": "yuchi yao",
      "photoUrl": "",
      "userId": "00457884373990713813"
     },
     "user_tz": 300
    },
    "id": "ThcN92cxhHre",
    "outputId": "04bbc3dc-c4db-4837-d272-5ec0d6dff11d"
   },
   "outputs": [
    {
     "ename": "NameError",
     "evalue": "name 'Wmve' is not defined",
     "output_type": "error",
     "traceback": [
      "\u001b[1;31m---------------------------------------------------------------------------\u001b[0m",
      "\u001b[1;31mNameError\u001b[0m                                 Traceback (most recent call last)",
      "\u001b[1;32m<ipython-input-2-84f76e42345f>\u001b[0m in \u001b[0;36m<module>\u001b[1;34m\u001b[0m\n\u001b[1;32m----> 1\u001b[1;33m \u001b[0mWmve\u001b[0m\u001b[1;33m\u001b[0m\u001b[1;33m\u001b[0m\u001b[0m\n\u001b[0m",
      "\u001b[1;31mNameError\u001b[0m: name 'Wmve' is not defined"
     ]
    }
   ],
   "source": [
    "Wmve"
   ]
  },
  {
   "cell_type": "code",
   "execution_count": null,
   "metadata": {},
   "outputs": [],
   "source": [
    "print(ERe.values)\n",
    "er= (ERe.values*0+1)\n",
    "print(er)"
   ]
  },
  {
   "cell_type": "code",
   "execution_count": null,
   "metadata": {
    "colab": {
     "base_uri": "https://localhost:8080/",
     "height": 204
    },
    "colab_type": "code",
    "executionInfo": {
     "elapsed": 424,
     "status": "ok",
     "timestamp": 1576784079390,
     "user": {
      "displayName": "yuchi yao",
      "photoUrl": "",
      "userId": "00457884373990713813"
     },
     "user_tz": 300
    },
    "id": "0AdWSIP9hHrh",
    "outputId": "f4952e56-2fa0-47e8-8941-d4b4cc838e9e",
    "scrolled": true
   },
   "outputs": [],
   "source": [
    "# to find the minimum variance weights simply replace  the vector of expected returns by a vector of constant.\n",
    "\n",
    "# in this case I am usign the average, but the value does not matter for the weights, why?\n",
    "Cove=Re.cov()\n",
    "er= (ERe.values*0+ERe.mean())\n",
    "Wminv =np.linalg.inv(Cove) @ er\n",
    "Wmve['minv']=Wminv/Wminv.sum()\n",
    "\n",
    "# \n",
    "\n",
    "Wmve"
   ]
  },
  {
   "cell_type": "markdown",
   "metadata": {
    "colab_type": "text",
    "id": "BMuVim0mpq_n"
   },
   "source": [
    ">why these weights look like this ? Why are they shorting some assets?"
   ]
  },
  {
   "cell_type": "code",
   "execution_count": null,
   "metadata": {
    "colab": {
     "base_uri": "https://localhost:8080/",
     "height": 34
    },
    "colab_type": "code",
    "executionInfo": {
     "elapsed": 428,
     "status": "ok",
     "timestamp": 1576784121832,
     "user": {
      "displayName": "yuchi yao",
      "photoUrl": "",
      "userId": "00457884373990713813"
     },
     "user_tz": 300
    },
    "id": "EmLfNo7khHrj",
    "outputId": "a9a61b96-4eef-45f1-8451-b4adbb94f6e0"
   },
   "outputs": [],
   "source": [
    "# what is the vol of the minimum-variance portfolio\n",
    "\n",
    "(Wmve['minv'].T @ Cove @ Wmve['minv'])**0.5*(12**0.5)"
   ]
  },
  {
   "cell_type": "code",
   "execution_count": null,
   "metadata": {
    "colab": {
     "base_uri": "https://localhost:8080/",
     "height": 51
    },
    "colab_type": "code",
    "executionInfo": {
     "elapsed": 856,
     "status": "ok",
     "timestamp": 1576784137998,
     "user": {
      "displayName": "yuchi yao",
      "photoUrl": "",
      "userId": "00457884373990713813"
     },
     "user_tz": 300
    },
    "id": "LKLngwo1hHrl",
    "outputId": "e5923305-7cd2-4347-bb2d-e79229ae4020"
   },
   "outputs": [],
   "source": [
    "er"
   ]
  },
  {
   "cell_type": "code",
   "execution_count": null,
   "metadata": {
    "colab": {
     "base_uri": "https://localhost:8080/",
     "height": 51
    },
    "colab_type": "code",
    "executionInfo": {
     "elapsed": 830,
     "status": "ok",
     "timestamp": 1576784222130,
     "user": {
      "displayName": "yuchi yao",
      "photoUrl": "",
      "userId": "00457884373990713813"
     },
     "user_tz": 300
    },
    "id": "rjRAE3kshHrm",
    "outputId": "65a5007d-62aa-4ddd-bad3-5da6896bf850"
   },
   "outputs": [],
   "source": [
    "# What is the expected return of the minimum variance portfolio?\n",
    "# made up expected return estimate\n",
    "# using the average across assets\n",
    "print(er @ Wmve['minv']*12)|\n",
    "\n",
    "# using each asset average return\n",
    "\n",
    "print(ERe.values @ Wmve['minv']*12)"
   ]
  },
  {
   "cell_type": "code",
   "execution_count": null,
   "metadata": {
    "colab": {
     "base_uri": "https://localhost:8080/",
     "height": 51
    },
    "colab_type": "code",
    "executionInfo": {
     "elapsed": 974,
     "status": "ok",
     "timestamp": 1576784410457,
     "user": {
      "displayName": "yuchi yao",
      "photoUrl": "",
      "userId": "00457884373990713813"
     },
     "user_tz": 300
    },
    "id": "cQZz0v89hHrp",
    "outputId": "896cb33b-f71e-4688-e518-b0a5a79e5baa"
   },
   "outputs": [],
   "source": [
    "# Sharpe ratio\n",
    "\n",
    "# using the average across assets\n",
    "print(((er @ Wmve['minv'])/(Wmve['minv'].T @ Cove @ Wmve['minv'])**0.5)*(12**0.5))\n",
    "\n",
    "#using each asset average return\n",
    "\n",
    "(ERe.values @ Wmve['minv'])/(Wmve['minv'].T @ Cove @ Wmve['minv'])**0.5*(12**0.5)"
   ]
  },
  {
   "cell_type": "code",
   "execution_count": null,
   "metadata": {
    "colab": {
     "base_uri": "https://localhost:8080/",
     "height": 34
    },
    "colab_type": "code",
    "executionInfo": {
     "elapsed": 393,
     "status": "ok",
     "timestamp": 1576784621731,
     "user": {
      "displayName": "yuchi yao",
      "photoUrl": "",
      "userId": "00457884373990713813"
     },
     "user_tz": 300
    },
    "id": "pk0rbOyPr2IG",
    "outputId": "7acd1b96-b91e-46d4-843a-64ae01049319"
   },
   "outputs": [],
   "source": [
    "# Compare with the Sharpe ratio of the tangency portfolio\n",
    "(ERe.values @ Wmve['samplemean'])/(Wmve['samplemean'].T @ Cove @ Wmve['samplemean'])**0.5*(12**0.5)"
   ]
  },
  {
   "cell_type": "code",
   "execution_count": null,
   "metadata": {},
   "outputs": [],
   "source": [
    "# compare minimum variance and tangency\n",
    "\n",
    "# Training sample goes up to 1990\n",
    "Re_estimate=Re['1960':'1990']\n",
    "\n",
    "ER=Re_estimate.mean()\n",
    "cov=Re_estimate.cov()\n",
    "Wmve0=ER @ np.linalg.inv(cov)\n",
    "Wmve0=Wmve/np.sum(Wmve)\n",
    "print(Wmve)\n",
    "#ER=1+0*Re_estimate.mean()\n",
    "ER=np.ones(5)\n",
    "cov=Re_estimate.cov()\n",
    "Wmin=ER @ np.linalg.inv(cov)\n",
    "Wmin=Wmin/np.sum(Wmin)\n",
    "print(Wmin)\n",
    "\n",
    "Re_test=Re['1991':]\n",
    "ER=Re_test.mean()\n",
    "cov=Re_test.cov()\n",
    "\n",
    "\n",
    "### Moments in the TEST sample that starts in 1991\n",
    "#average returns\n",
    "print(Wmve @ ER) #average return of tangency in the TEST sample\n",
    "print(Wmin @ ER) #average return of minimum variance in the TEST sample\n",
    "#variance\n",
    "print(Wmve @ cov @ Wmve) #variance return of tangency in the TEST sample\n",
    "print(Wmin @ cov @ Wmin)#variance return of min variance in the TEST sample\n",
    "# sharpe ratios\n",
    "print(12**0.5*(Wmve @ ER)/(Wmve @ cov @ Wmve)**0.5)\n",
    "print(12**0.5*(Wmin @ ER)/(Wmin @ cov @ Wmin)**0.5)"
   ]
  },
  {
   "cell_type": "code",
   "execution_count": null,
   "metadata": {},
   "outputs": [],
   "source": [
    "ER=1+0*Re_estimate.mean()\n",
    "ER=np.ones(5)\n",
    "ER"
   ]
  },
  {
   "cell_type": "markdown",
   "metadata": {
    "colab_type": "text",
    "id": "hAxCnILFhHrq"
   },
   "source": [
    "* Which one is right? \n",
    "\n",
    "* The one with the average acorss assets or the ones using each asset average return?\n",
    "\n",
    "* isn't using the average always right since it is the consistent with the data?\n",
    "\n",
    "* Does it make sense to compare the in-sample tangency and the minimum-variance using the sample?\n",
    "\n",
    "> Which one will always win?"
   ]
  },
  {
   "cell_type": "markdown",
   "metadata": {
    "colab_type": "text",
    "id": "U6GztILuhHrr"
   },
   "source": [
    "## Risk- Parity investing\n",
    "\n",
    "\n",
    "* Risk-parity investing: Mean-variance investing under the assumption that all expected returns are equal, and the correlations across all assets are zero\n",
    "  * This is the strategy behind the biggest hedge funds on the planet [https://www.bridgewater.com/resources/our-thoughts-about-risk-parity-and-all-weather.pdf]\n",
    "  \n",
    "\n",
    "* It assumes that the non-diagonal terms in the covariacne matrix are all zero.\n",
    "\n",
    "$$Var_{RP}(R)=diag(Var(R))=\\left[\\begin{array}{ccc}\\sigma_1^2 & 0 & 0\\\\0 & \\sigma_2^2 &0 \\\\0 & 0& \\sigma^2_3\\end{array}\\right]$$\n",
    "\n",
    "* we then have \n",
    "\n",
    "$$Min~ W'Var_{RP}(R)W ~ subject~ to~ \\mathbf{1}'W=1$$\n",
    "\n",
    "* it follows\n",
    "\n",
    "$$W_{RP}=Var(R)^{-1}\\mathbf{1}=\\left[\\begin{array}{c}\\frac{1}{\\sigma_1^2}\\\\\\frac{1}{\\sigma_2^2}\\\\\\frac{1}{\\sigma_3^2}\\end{array}\\right]$$\n",
    "\n",
    "> Why this might make sense?\n",
    "\n",
    "> Why does the assumption of ZERO correlation a conservative one? \n",
    "\n",
    "> Doesn't this underestimate the degree of comovement across stocks?"
   ]
  },
  {
   "cell_type": "code",
   "execution_count": null,
   "metadata": {
    "colab": {
     "base_uri": "https://localhost:8080/",
     "height": 102
    },
    "colab_type": "code",
    "executionInfo": {
     "elapsed": 846,
     "status": "ok",
     "timestamp": 1576785609759,
     "user": {
      "displayName": "yuchi yao",
      "photoUrl": "",
      "userId": "00457884373990713813"
     },
     "user_tz": 300
    },
    "id": "6c59Uq_ShHrr",
    "outputId": "9d731806-287e-4cbd-d8cc-8c71d981a2df"
   },
   "outputs": [],
   "source": [
    "Covrp=Cove.copy()\n",
    "print(Covrp)\n",
    "print(np.diag(Covrp))\n",
    "Covrp=np.diag(np.diag(Covrp))\n",
    "Covrp"
   ]
  },
  {
   "cell_type": "code",
   "execution_count": null,
   "metadata": {},
   "outputs": [],
   "source": [
    "er"
   ]
  },
  {
   "cell_type": "code",
   "execution_count": null,
   "metadata": {
    "colab": {
     "base_uri": "https://localhost:8080/",
     "height": 204
    },
    "colab_type": "code",
    "executionInfo": {
     "elapsed": 838,
     "status": "ok",
     "timestamp": 1576785612267,
     "user": {
      "displayName": "yuchi yao",
      "photoUrl": "",
      "userId": "00457884373990713813"
     },
     "user_tz": 300
    },
    "id": "2JMPEglnhHrt",
    "outputId": "60e1ded3-8b81-4440-b0f3-241bd4c24b0f"
   },
   "outputs": [],
   "source": [
    "\n",
    "Wrp =np.linalg.inv(Covrp) @ er\n",
    "Wmve['rp']=Wrp/Wrp.sum()\n",
    "Wmve"
   ]
  },
  {
   "cell_type": "code",
   "execution_count": null,
   "metadata": {
    "colab": {
     "base_uri": "https://localhost:8080/",
     "height": 51
    },
    "colab_type": "code",
    "executionInfo": {
     "elapsed": 849,
     "status": "ok",
     "timestamp": 1576785966038,
     "user": {
      "displayName": "yuchi yao",
      "photoUrl": "",
      "userId": "00457884373990713813"
     },
     "user_tz": 300
    },
    "id": "Obaqm9gphHru",
    "outputId": "606da86a-d507-456b-847b-68f8baa1f984"
   },
   "outputs": [],
   "source": [
    "# what is the vol of the risk portfolio, using the diagonal assumption\n",
    "#doesn' make any sense as a way to evaluate the strategy!!!!\n",
    "\n",
    "print((Wmve['rp'].T @ Covrp @ Wmve['rp'])**0.5)\n",
    "\n",
    "\n",
    "# using the actual covariance matrix\n",
    "\n",
    "(Wmve['rp'].T @ Cove @ Wmve['rp'])**0.5"
   ]
  },
  {
   "cell_type": "code",
   "execution_count": null,
   "metadata": {
    "colab": {
     "base_uri": "https://localhost:8080/",
     "height": 51
    },
    "colab_type": "code",
    "executionInfo": {
     "elapsed": 439,
     "status": "ok",
     "timestamp": 1576785967607,
     "user": {
      "displayName": "yuchi yao",
      "photoUrl": "",
      "userId": "00457884373990713813"
     },
     "user_tz": 300
    },
    "id": "sqEpELUHhHrw",
    "outputId": "c73b8574-9b3b-4af8-c595-d06607cbed96"
   },
   "outputs": [],
   "source": [
    "# What is the expected return of the minimum variance portfolio?\n",
    "\n",
    "# using the average across assets\n",
    "print(er @ Wmve['rp'])\n",
    "\n",
    "# using each asset average return\n",
    "\n",
    "ERe.values @ Wmve['rp']"
   ]
  },
  {
   "cell_type": "code",
   "execution_count": null,
   "metadata": {
    "colab": {
     "base_uri": "https://localhost:8080/",
     "height": 51
    },
    "colab_type": "code",
    "executionInfo": {
     "elapsed": 849,
     "status": "ok",
     "timestamp": 1576785970436,
     "user": {
      "displayName": "yuchi yao",
      "photoUrl": "",
      "userId": "00457884373990713813"
     },
     "user_tz": 300
    },
    "id": "A_ajCTILhHrx",
    "outputId": "7f68507c-fd34-43d0-ed00-3be73b137352"
   },
   "outputs": [],
   "source": [
    "# Sharpe ratio\n",
    "\n",
    "# using the average across assets, and diagnonal assumption\n",
    "print((er @ Wmve['rp'])/(Wmve['rp'].T @ Covrp @ Wmve['rp'])**0.5)\n",
    "\n",
    "# using each asset average return, actual covariacne matrix estimated from the data\n",
    "\n",
    "(ERe.values @ Wmve['rp'])/(Wmve['rp'].T @ Cove @ Wmve['rp'])**0.5"
   ]
  },
  {
   "cell_type": "markdown",
   "metadata": {
    "colab_type": "text",
    "id": "2FQKlQY6hHrz"
   },
   "source": [
    "* Which one is right? \n",
    "\n",
    "* The one that uses the assumptions or the ones that we actually find in the data?"
   ]
  },
  {
   "cell_type": "code",
   "execution_count": null,
   "metadata": {},
   "outputs": [],
   "source": [
    "Wmvec=Wmve.copy()\n",
    "Wmvec.loc['MKTUS','rp']=-3\n",
    "print(Wmvec['rp'])\n",
    "np.abs(Wmvec['rp'])/np.abs(Wmvec['rp'].sum())"
   ]
  },
  {
   "cell_type": "code",
   "execution_count": null,
   "metadata": {},
   "outputs": [],
   "source": [
    "# compare minimum variance and tangency\n",
    "\n",
    "# Training sample goes up to 1990\n",
    "Re_estimate=Re['1960':'1980']\n",
    "\n",
    "ER=Re_estimate.mean()\n",
    "cov=Re_estimate.cov()\n",
    "Wmve0=ER @ np.linalg.inv(cov)\n",
    "Wmve0=Wmve0/np.sum(Wmve0)\n",
    "print(Wmve)\n",
    "#ER=1+0*Re_estimate.mean()\n",
    "ER=np.ones(5)\n",
    "cov=np.diag(np.diag(Re_estimate.cov()))\n",
    "Wmin=ER @ np.linalg.inv(cov)\n",
    "Wmin=Wmin/np.sum(Wmin)\n",
    "print(Wmin)\n",
    "\n",
    "Re_test=Re['1981':]\n",
    "ER=Re_test.mean()\n",
    "cov=Re_test.cov()\n",
    "\n",
    "\n",
    "### Moments in the TEST sample that starts in 1991\n",
    "#average returns\n",
    "print(Wmve0 @ ER) #average return of tangency in the TEST sample\n",
    "print(Wmin @ ER) #average return of minimum variance in the TEST sample\n",
    "#variance\n",
    "print(Wmve0 @ cov @ Wmve0) #variance return of tangency in the TEST sample\n",
    "print(Wmin @ cov @ Wmin)#variance return of min variance in the TEST sample\n",
    "# sharpe ratios\n",
    "print(12**0.5*(Wmve0 @ ER)/(Wmve0 @ cov @ Wmve0)**0.5)\n",
    "print(12**0.5*(Wmin @ ER)/(Wmin @ cov @ Wmin)**0.5)"
   ]
  },
  {
   "cell_type": "markdown",
   "metadata": {},
   "source": [
    "# LEcture 11/24 ended here"
   ]
  },
  {
   "cell_type": "markdown",
   "metadata": {
    "colab_type": "text",
    "id": "bzWl3blrhHrz"
   },
   "source": [
    "Should this move somewhere else?aa\n",
    "\n",
    "# Equilibrium thinking as a response to estimation uncertainty\n",
    "\n",
    "* Another way that people response to the estimation uncertainty problem is to impose economic restrictions\n",
    "* Not everyone can invest in the higher expected return assets\n",
    "* If we were all to invest in the higher expected return assets, prices would go up and expected returns would go down\n",
    "* Imposing equilibrium– that is:\n",
    "  * Assume all investors in the world are choosing optimal portfolios, \n",
    "  * Then solve for the expected returns that make all the assets in the world be held\n",
    "  * This is imposing equilibrium: since all assets must be held, and investors must want to hold them\n",
    "  * Then expected returns have to adjust so everyone is happy and all assets are held\n",
    "      \n"
   ]
  }
 ],
 "metadata": {
  "colab": {
   "collapsed_sections": [],
   "name": "Notebook 5.ipynb",
   "provenance": [],
   "toc_visible": true
  },
  "kernelspec": {
   "display_name": "Python 3",
   "language": "python",
   "name": "python3"
  },
  "language_info": {
   "codemirror_mode": {
    "name": "ipython",
    "version": 3
   },
   "file_extension": ".py",
   "mimetype": "text/x-python",
   "name": "python",
   "nbconvert_exporter": "python",
   "pygments_lexer": "ipython3",
   "version": "3.8.5"
  }
 },
 "nbformat": 4,
 "nbformat_minor": 4
}
