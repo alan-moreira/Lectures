{
 "cells": [
  {
   "cell_type": "markdown",
   "metadata": {
    "colab_type": "text",
    "id": "-r3lhVD3dibU"
   },
   "source": [
    "# Strategy Evaluation\n",
    "* * *\n",
    "* Strategy Evaluation\n",
    "  * Time-series alpha \n",
    "  * Interpretation of alpha as a test of whether factor is tangency portfolio\n",
    "  * CAPM alpha\n",
    "\n",
    "\n",
    "* Tracking portfolios\n",
    "* Hedged portfolios\n",
    "* Alpha investing\n",
    "* Interpretation\n",
    "* Multi-factor models\n",
    "\n",
    "\n",
    " "
   ]
  },
  {
   "cell_type": "code",
   "execution_count": 1,
   "metadata": {
    "colab": {},
    "colab_type": "code",
    "id": "82IDb6GmdibW"
   },
   "outputs": [],
   "source": [
    "# First we start loading our favourite packages with the names we used to\n",
    "import numpy as np\n",
    "import pandas as pd\n",
    "%matplotlib inline\n",
    "import matplotlib.pyplot as plt\n",
    "# import regression package\n",
    "import statsmodels.api as sm"
   ]
  },
  {
   "cell_type": "markdown",
   "metadata": {
    "colab_type": "text",
    "id": "oDMq-1VldibV"
   },
   "source": [
    "## Time-Series Test \n",
    "\n",
    "\n",
    "\n",
    "* Start with a reference portfolio, $R^*$\n",
    "\n",
    "  - That is the \"portfolio\" to be beaten\n",
    "\n",
    "  - Loosely speaking, you can think as the benchmark\n",
    "\n",
    "  - To make it concrete you can think as the market portfolio\n",
    "\n",
    "  - But it does NOT need to be\n",
    "\n",
    "  - For asset $i$, where asset $i$ can be a portfolio, run the time series regression \n",
    "    $$R_{i,t}^e =\\alpha_i+\\beta_{i,*} R_{t}^{*,e}+\\epsilon_i,$$\n",
    "    where $e$ denotes that these are excess returns, returns in excess of the risk-free rate\n",
    "\n",
    "* Test if $\\alpha_i \\neq 0$\n",
    "\n",
    "  - It doesn't matter if positive or negative, since you can always go short\n",
    "\n",
    "  - You basically do a standard t-test \n",
    "\n",
    "  $$t=\\frac{\\alpha }{\\sigma(\\alpha)}$$\n",
    "\n",
    "* We say\n",
    "\n",
    " - if $|t|\\geq 1.64$ there is a 10% chance that the market is MVE\n",
    " - if $|t|\\geq 1.96$ there is a 5% chance that the market is MVE\n",
    " - if $|t|\\geq 2.1$ there is a 2.5% chance that the market is MVE\n",
    " - if $|t|\\geq 2.6$ there is a 1% chance that the market is MVE\n",
    " \n",
    " \n",
    "* The Time-series regression asks the following question:\n",
    "  > Can I replicate  the average return I get in asset $i$ by investing in the reference portfolio?\n",
    " \n",
    " * Having a non-zero alpha DOES NOT mean that you prefer asset $i$ to the reference portfolio!\n",
    " \n",
    " * But it does mean, that you can do better by investing in both assets\n",
    "   - Obviously with a negative weight if the alpha is negative\n",
    "   - and a positive weight if the alpha is positive\n",
    "   \n",
    " * The alpha test literally asks if the reference portfolio is the tangency portfolio with respect to the investment opportunity that includes the test asset (the asset in the left of the regression) and the reference portfolio (the asset on the right)\n",
    " \n",
    " * A differet way to put it is that a non-zero alpha means that the asset expands the mean-variance frontier relative to an opportunity set that only has the reference portfolio\n",
    "  \n",
    " > Recall that we proved in notebook 4 that if a portfolio is the tangency portfolio with respect to a set of assets then it must be the case that, for any of these assets we must have\n",
    "  $$E[R_i^e]=\\beta_{i,Tangency}E[R^{Tangency,e}]$$\n",
    "  where $R^{Tangency,e}$ are the excess returns on the tangency portfolio.\n",
    " \n",
    "  * Note that the regression alpha test is simply a test of whether this relationship is true or not\n",
    " \n",
    "* To see this, we look that the regression equation:\n",
    "  \n",
    "  $$R_{i,t}^e =\\alpha_i+\\beta_{i,*} R_{t}^{*,e}+\\epsilon_i$$\n",
    "\n",
    "  Taking expectation,\n",
    "\n",
    "  $$E[R_{i,t}^e] =\\alpha_i+\\beta_{i,*} E[R_{t}^{*,e}]+E[\\epsilon_i]$$\n",
    "\n",
    "  $$E[R_{i,t}^e] =\\alpha_i+\\beta_{i,*} E[R_{t}^{*,e}]$$\n",
    "\n",
    "  So the reference portfolio is tangecy if and only if $\\alpha_i=0$!\n",
    "\n",
    "\n"
   ]
  },
  {
   "cell_type": "markdown",
   "metadata": {
    "colab_type": "text",
    "id": "2v4sBDedjeIO"
   },
   "source": [
    "> Question: I show that Asset A has alpha with respect to Asset B. Does it mean that an investor should prefer asset A to asset B?"
   ]
  },
  {
   "cell_type": "markdown",
   "metadata": {
    "colab_type": "text",
    "id": "m3sM4EGkdibW"
   },
   "source": [
    "## CAPM prediction: Market portfolio is the tangency portfolio\n",
    "\n",
    "* The most used reference portfolio is the market portoflio\n",
    "\n",
    "* So we will do our first alpha test with respect to the market\n",
    "\n",
    "* The CAPM holds for a set of assets i=1...N if and only if\n",
    "\n",
    "\n",
    "  $$E[R_{i,t}^e] =\\alpha_i+\\beta_{i,MKT} E[R_{t}^{MKT,e}]$$\n",
    "  \n",
    "  with $\\alpha_i=0$ for all assets  i=1...N\n",
    " \n",
    "* So if you put any portfolio in $R_{t}^{*,e}$ instead of the market, then you are not testing the CAPM\n",
    "\n",
    "* In fact we know that there must be a portfolio * such that\n",
    "\n",
    "  $$E[R_{i,t}^e] =\\beta_{i,*} E[R_{t}^{*,e}]$$\n",
    "  \n",
    "  holds , such portfolio is the tangency portfolio\n",
    "  \n",
    " * Why alpha=0 is so special? Because it tells us that the expected return of any of these assets can be captured by varying the exposure to  the tangency * with the minimum increase in risk possible"
   ]
  },
  {
   "cell_type": "code",
   "execution_count": 2,
   "metadata": {
    "colab": {
     "base_uri": "https://localhost:8080/",
     "height": 235
    },
    "colab_type": "code",
    "executionInfo": {
     "elapsed": 2003,
     "status": "ok",
     "timestamp": 1577476010393,
     "user": {
      "displayName": "yuchi yao",
      "photoUrl": "",
      "userId": "00457884373990713813"
     },
     "user_tz": 300
    },
    "id": "sE_THszadibe",
    "outputId": "a12060d4-b357-4bc3-acd3-49a219aefc8b"
   },
   "outputs": [
    {
     "data": {
      "text/html": [
       "<div>\n",
       "<style scoped>\n",
       "    .dataframe tbody tr th:only-of-type {\n",
       "        vertical-align: middle;\n",
       "    }\n",
       "\n",
       "    .dataframe tbody tr th {\n",
       "        vertical-align: top;\n",
       "    }\n",
       "\n",
       "    .dataframe thead th {\n",
       "        text-align: right;\n",
       "    }\n",
       "</style>\n",
       "<table border=\"1\" class=\"dataframe\">\n",
       "  <thead>\n",
       "    <tr style=\"text-align: right;\">\n",
       "      <th></th>\n",
       "      <th>RF</th>\n",
       "      <th>MKT</th>\n",
       "    </tr>\n",
       "    <tr>\n",
       "      <th>Date</th>\n",
       "      <th></th>\n",
       "      <th></th>\n",
       "    </tr>\n",
       "  </thead>\n",
       "  <tbody>\n",
       "    <tr>\n",
       "      <th>1926-07-31</th>\n",
       "      <td>0.0022</td>\n",
       "      <td>0.0318</td>\n",
       "    </tr>\n",
       "    <tr>\n",
       "      <th>1926-08-31</th>\n",
       "      <td>0.0025</td>\n",
       "      <td>0.0289</td>\n",
       "    </tr>\n",
       "    <tr>\n",
       "      <th>1926-09-30</th>\n",
       "      <td>0.0023</td>\n",
       "      <td>0.0059</td>\n",
       "    </tr>\n",
       "    <tr>\n",
       "      <th>1926-10-31</th>\n",
       "      <td>0.0032</td>\n",
       "      <td>-0.0292</td>\n",
       "    </tr>\n",
       "    <tr>\n",
       "      <th>1926-11-30</th>\n",
       "      <td>0.0031</td>\n",
       "      <td>0.0284</td>\n",
       "    </tr>\n",
       "  </tbody>\n",
       "</table>\n",
       "</div>"
      ],
      "text/plain": [
       "                RF     MKT\n",
       "Date                      \n",
       "1926-07-31  0.0022  0.0318\n",
       "1926-08-31  0.0025  0.0289\n",
       "1926-09-30  0.0023  0.0059\n",
       "1926-10-31  0.0032 -0.0292\n",
       "1926-11-30  0.0031  0.0284"
      ]
     },
     "execution_count": 2,
     "metadata": {},
     "output_type": "execute_result"
    }
   ],
   "source": [
    "# import market factor as our reference portfolio\n",
    "url = \"https://www.dropbox.com/s/9346pp2iu5prv8s/MonthlyFactors.csv?dl=1\"\n",
    "Factors = pd.read_csv(url,index_col=0, \n",
    "                         parse_dates=True,na_values=-99)\n",
    "# keep only market and RF\n",
    "Factors=Factors.iloc[:,0:2]/100\n",
    "Factors.head()\n",
    "\n"
   ]
  },
  {
   "cell_type": "markdown",
   "metadata": {
    "colab_type": "text",
    "id": "SIj8KxKOdibi"
   },
   "source": [
    "- Import our test assets: Value portfolios (Book to Market sorted portfolios) from Ken French website\n",
    "\n",
    "- This is the same trading strategy that we did across industries but here is done across stocks"
   ]
  },
  {
   "cell_type": "code",
   "execution_count": 3,
   "metadata": {
    "colab": {},
    "colab_type": "code",
    "id": "A85TIeS8dibj"
   },
   "outputs": [],
   "source": [
    "# import BEME (Book-equity over Market equity) sorted portfolios\n",
    "# BEME 1 has low book to market- > Known as growth stocks (example: Tesla, Amazon, Facebook)\n",
    "\n",
    "# BEME 10 has high book to market -> Known as value stocks ( old firms: utilities, banks, insurance companies)\n",
    "\n",
    "# but it changes....\n",
    "\n",
    "url = \"https://www.dropbox.com/s/gds8ho9rt1imw03/Valueportfolios.csv?dl=1\"\n",
    "parser = lambda date: pd.to_datetime(date,format='%Y%m')\n",
    "Data = pd.read_csv(url,index_col=0, \n",
    "                         parse_dates=True,date_parser=parser,skiprows=23,nrows=1092,na_values=-99.99)\n",
    "\n",
    "\n",
    "# need to adjust the date to the end-of-month convention \n",
    "# (Even though both returns for a given month are end-of-month to end-of-month,\n",
    "# when we import the value portfolios, Python used the first day of the month as date. \n",
    "# To fix that, we will convert it to end-of-month\n",
    "# It is important to do that before the merge. Why? )\n",
    "Data.index=Data.index+pd.tseries.offsets.MonthEnd()\n",
    "(Data.head())\n",
    "# ready to merge with Market and RF\n",
    "\n",
    "Data=Data/100"
   ]
  },
  {
   "cell_type": "code",
   "execution_count": 4,
   "metadata": {
    "colab": {
     "base_uri": "https://localhost:8080/",
     "height": 204
    },
    "colab_type": "code",
    "executionInfo": {
     "elapsed": 941,
     "status": "ok",
     "timestamp": 1577476028957,
     "user": {
      "displayName": "yuchi yao",
      "photoUrl": "",
      "userId": "00457884373990713813"
     },
     "user_tz": 300
    },
    "id": "7Mgz9F_6dibm",
    "outputId": "78d7f872-d02b-4fe9-f5cb-9a4020d965ce"
   },
   "outputs": [
    {
     "data": {
      "text/html": [
       "<div>\n",
       "<style scoped>\n",
       "    .dataframe tbody tr th:only-of-type {\n",
       "        vertical-align: middle;\n",
       "    }\n",
       "\n",
       "    .dataframe tbody tr th {\n",
       "        vertical-align: top;\n",
       "    }\n",
       "\n",
       "    .dataframe thead th {\n",
       "        text-align: right;\n",
       "    }\n",
       "</style>\n",
       "<table border=\"1\" class=\"dataframe\">\n",
       "  <thead>\n",
       "    <tr style=\"text-align: right;\">\n",
       "      <th></th>\n",
       "      <th>BEME1</th>\n",
       "      <th>BEME2</th>\n",
       "      <th>BEME3</th>\n",
       "      <th>BEME4</th>\n",
       "      <th>BEME5</th>\n",
       "      <th>BEME6</th>\n",
       "      <th>BEME7</th>\n",
       "      <th>BEME8</th>\n",
       "      <th>BEME9</th>\n",
       "      <th>BEME10</th>\n",
       "      <th>RF</th>\n",
       "      <th>MKT</th>\n",
       "    </tr>\n",
       "  </thead>\n",
       "  <tbody>\n",
       "    <tr>\n",
       "      <th>1926-07-31</th>\n",
       "      <td>0.0463</td>\n",
       "      <td>0.0124</td>\n",
       "      <td>0.1140</td>\n",
       "      <td>0.0168</td>\n",
       "      <td>0.0150</td>\n",
       "      <td>0.0209</td>\n",
       "      <td>0.0273</td>\n",
       "      <td>0.0158</td>\n",
       "      <td>0.0063</td>\n",
       "      <td>0.0052</td>\n",
       "      <td>0.0022</td>\n",
       "      <td>0.0318</td>\n",
       "    </tr>\n",
       "    <tr>\n",
       "      <th>1926-08-31</th>\n",
       "      <td>0.0015</td>\n",
       "      <td>0.0218</td>\n",
       "      <td>0.0640</td>\n",
       "      <td>0.0238</td>\n",
       "      <td>0.0158</td>\n",
       "      <td>0.0263</td>\n",
       "      <td>0.0446</td>\n",
       "      <td>0.0494</td>\n",
       "      <td>0.0831</td>\n",
       "      <td>0.0392</td>\n",
       "      <td>0.0025</td>\n",
       "      <td>0.0289</td>\n",
       "    </tr>\n",
       "    <tr>\n",
       "      <th>1926-09-30</th>\n",
       "      <td>-0.0011</td>\n",
       "      <td>-0.0230</td>\n",
       "      <td>0.0632</td>\n",
       "      <td>0.0073</td>\n",
       "      <td>-0.0089</td>\n",
       "      <td>0.0038</td>\n",
       "      <td>-0.0028</td>\n",
       "      <td>0.0017</td>\n",
       "      <td>-0.0216</td>\n",
       "      <td>0.0044</td>\n",
       "      <td>0.0023</td>\n",
       "      <td>0.0059</td>\n",
       "    </tr>\n",
       "    <tr>\n",
       "      <th>1926-10-31</th>\n",
       "      <td>-0.0378</td>\n",
       "      <td>-0.0163</td>\n",
       "      <td>-0.0501</td>\n",
       "      <td>-0.0141</td>\n",
       "      <td>-0.0231</td>\n",
       "      <td>-0.0210</td>\n",
       "      <td>-0.0465</td>\n",
       "      <td>-0.0280</td>\n",
       "      <td>-0.0546</td>\n",
       "      <td>-0.0117</td>\n",
       "      <td>0.0032</td>\n",
       "      <td>-0.0292</td>\n",
       "    </tr>\n",
       "    <tr>\n",
       "      <th>1926-11-30</th>\n",
       "      <td>0.0603</td>\n",
       "      <td>0.0149</td>\n",
       "      <td>0.0111</td>\n",
       "      <td>0.0363</td>\n",
       "      <td>0.0197</td>\n",
       "      <td>0.0180</td>\n",
       "      <td>0.0400</td>\n",
       "      <td>0.0385</td>\n",
       "      <td>0.0277</td>\n",
       "      <td>0.0176</td>\n",
       "      <td>0.0031</td>\n",
       "      <td>0.0284</td>\n",
       "    </tr>\n",
       "  </tbody>\n",
       "</table>\n",
       "</div>"
      ],
      "text/plain": [
       "             BEME1   BEME2   BEME3   BEME4   BEME5   BEME6   BEME7   BEME8  \\\n",
       "1926-07-31  0.0463  0.0124  0.1140  0.0168  0.0150  0.0209  0.0273  0.0158   \n",
       "1926-08-31  0.0015  0.0218  0.0640  0.0238  0.0158  0.0263  0.0446  0.0494   \n",
       "1926-09-30 -0.0011 -0.0230  0.0632  0.0073 -0.0089  0.0038 -0.0028  0.0017   \n",
       "1926-10-31 -0.0378 -0.0163 -0.0501 -0.0141 -0.0231 -0.0210 -0.0465 -0.0280   \n",
       "1926-11-30  0.0603  0.0149  0.0111  0.0363  0.0197  0.0180  0.0400  0.0385   \n",
       "\n",
       "             BEME9  BEME10      RF     MKT  \n",
       "1926-07-31  0.0063  0.0052  0.0022  0.0318  \n",
       "1926-08-31  0.0831  0.0392  0.0025  0.0289  \n",
       "1926-09-30 -0.0216  0.0044  0.0023  0.0059  \n",
       "1926-10-31 -0.0546 -0.0117  0.0032 -0.0292  \n",
       "1926-11-30  0.0277  0.0176  0.0031  0.0284  "
      ]
     },
     "execution_count": 4,
     "metadata": {},
     "output_type": "execute_result"
    }
   ],
   "source": [
    "# merge with factors\n",
    "df=pd.merge(Data,Factors,left_index=True,right_index=True)\n",
    "df.head()"
   ]
  },
  {
   "cell_type": "code",
   "execution_count": 5,
   "metadata": {
    "colab": {
     "base_uri": "https://localhost:8080/",
     "height": 204
    },
    "colab_type": "code",
    "executionInfo": {
     "elapsed": 870,
     "status": "ok",
     "timestamp": 1577476048384,
     "user": {
      "displayName": "yuchi yao",
      "photoUrl": "",
      "userId": "00457884373990713813"
     },
     "user_tz": 300
    },
    "id": "nRpbpTt0dibr",
    "outputId": "89e5a0af-12b8-4a2a-8567-8d2b5ef2e0b7"
   },
   "outputs": [
    {
     "data": {
      "text/html": [
       "<div>\n",
       "<style scoped>\n",
       "    .dataframe tbody tr th:only-of-type {\n",
       "        vertical-align: middle;\n",
       "    }\n",
       "\n",
       "    .dataframe tbody tr th {\n",
       "        vertical-align: top;\n",
       "    }\n",
       "\n",
       "    .dataframe thead th {\n",
       "        text-align: right;\n",
       "    }\n",
       "</style>\n",
       "<table border=\"1\" class=\"dataframe\">\n",
       "  <thead>\n",
       "    <tr style=\"text-align: right;\">\n",
       "      <th></th>\n",
       "      <th>BEME1</th>\n",
       "      <th>BEME2</th>\n",
       "      <th>BEME3</th>\n",
       "      <th>BEME4</th>\n",
       "      <th>BEME5</th>\n",
       "      <th>BEME6</th>\n",
       "      <th>BEME7</th>\n",
       "      <th>BEME8</th>\n",
       "      <th>BEME9</th>\n",
       "      <th>BEME10</th>\n",
       "      <th>MKT</th>\n",
       "    </tr>\n",
       "  </thead>\n",
       "  <tbody>\n",
       "    <tr>\n",
       "      <th>1926-07-31</th>\n",
       "      <td>0.0441</td>\n",
       "      <td>0.0102</td>\n",
       "      <td>0.1118</td>\n",
       "      <td>0.0146</td>\n",
       "      <td>0.0128</td>\n",
       "      <td>0.0187</td>\n",
       "      <td>0.0251</td>\n",
       "      <td>0.0136</td>\n",
       "      <td>0.0041</td>\n",
       "      <td>0.0030</td>\n",
       "      <td>0.0296</td>\n",
       "    </tr>\n",
       "    <tr>\n",
       "      <th>1926-08-31</th>\n",
       "      <td>-0.0010</td>\n",
       "      <td>0.0193</td>\n",
       "      <td>0.0615</td>\n",
       "      <td>0.0213</td>\n",
       "      <td>0.0133</td>\n",
       "      <td>0.0238</td>\n",
       "      <td>0.0421</td>\n",
       "      <td>0.0469</td>\n",
       "      <td>0.0806</td>\n",
       "      <td>0.0367</td>\n",
       "      <td>0.0264</td>\n",
       "    </tr>\n",
       "    <tr>\n",
       "      <th>1926-09-30</th>\n",
       "      <td>-0.0034</td>\n",
       "      <td>-0.0253</td>\n",
       "      <td>0.0609</td>\n",
       "      <td>0.0050</td>\n",
       "      <td>-0.0112</td>\n",
       "      <td>0.0015</td>\n",
       "      <td>-0.0051</td>\n",
       "      <td>-0.0006</td>\n",
       "      <td>-0.0239</td>\n",
       "      <td>0.0021</td>\n",
       "      <td>0.0036</td>\n",
       "    </tr>\n",
       "    <tr>\n",
       "      <th>1926-10-31</th>\n",
       "      <td>-0.0410</td>\n",
       "      <td>-0.0195</td>\n",
       "      <td>-0.0533</td>\n",
       "      <td>-0.0173</td>\n",
       "      <td>-0.0263</td>\n",
       "      <td>-0.0242</td>\n",
       "      <td>-0.0497</td>\n",
       "      <td>-0.0312</td>\n",
       "      <td>-0.0578</td>\n",
       "      <td>-0.0149</td>\n",
       "      <td>-0.0324</td>\n",
       "    </tr>\n",
       "    <tr>\n",
       "      <th>1926-11-30</th>\n",
       "      <td>0.0572</td>\n",
       "      <td>0.0118</td>\n",
       "      <td>0.0080</td>\n",
       "      <td>0.0332</td>\n",
       "      <td>0.0166</td>\n",
       "      <td>0.0149</td>\n",
       "      <td>0.0369</td>\n",
       "      <td>0.0354</td>\n",
       "      <td>0.0246</td>\n",
       "      <td>0.0145</td>\n",
       "      <td>0.0253</td>\n",
       "    </tr>\n",
       "  </tbody>\n",
       "</table>\n",
       "</div>"
      ],
      "text/plain": [
       "             BEME1   BEME2   BEME3   BEME4   BEME5   BEME6   BEME7   BEME8  \\\n",
       "1926-07-31  0.0441  0.0102  0.1118  0.0146  0.0128  0.0187  0.0251  0.0136   \n",
       "1926-08-31 -0.0010  0.0193  0.0615  0.0213  0.0133  0.0238  0.0421  0.0469   \n",
       "1926-09-30 -0.0034 -0.0253  0.0609  0.0050 -0.0112  0.0015 -0.0051 -0.0006   \n",
       "1926-10-31 -0.0410 -0.0195 -0.0533 -0.0173 -0.0263 -0.0242 -0.0497 -0.0312   \n",
       "1926-11-30  0.0572  0.0118  0.0080  0.0332  0.0166  0.0149  0.0369  0.0354   \n",
       "\n",
       "             BEME9  BEME10     MKT  \n",
       "1926-07-31  0.0041  0.0030  0.0296  \n",
       "1926-08-31  0.0806  0.0367  0.0264  \n",
       "1926-09-30 -0.0239  0.0021  0.0036  \n",
       "1926-10-31 -0.0578 -0.0149 -0.0324  \n",
       "1926-11-30  0.0246  0.0145  0.0253  "
      ]
     },
     "execution_count": 5,
     "metadata": {},
     "output_type": "execute_result"
    }
   ],
   "source": [
    "# transfor in excess returns\n",
    "Re=df.copy()\n",
    "Re.iloc[:,0:10]=Re.iloc[:,0:10].subtract(Re['RF'],axis=0)\n",
    "Re.iloc[:,11]=Re.iloc[:,11].subtract(Re['RF'],axis=0)\n",
    "# take the risk-free rate column out of the database\n",
    "del Re['RF']\n",
    "Re.head()"
   ]
  },
  {
   "cell_type": "markdown",
   "metadata": {},
   "source": [
    "Note below how average returns increase in Book to market\n",
    "\n",
    "- Value (BEME10) stocks have higher average returns than growth stocks (BEME1)"
   ]
  },
  {
   "cell_type": "code",
   "execution_count": 6,
   "metadata": {},
   "outputs": [
    {
     "data": {
      "text/plain": [
       "<matplotlib.axes._subplots.AxesSubplot at 0x243789ee6a0>"
      ]
     },
     "execution_count": 6,
     "metadata": {},
     "output_type": "execute_result"
    },
    {
     "data": {
      "image/png": "[encoded data removed]",
      "text/plain": [
       "<Figure size 432x288 with 1 Axes>"
      ]
     },
     "metadata": {
      "needs_background": "light"
     },
     "output_type": "display_data"
    }
   ],
   "source": [
    "(Re.mean()*12).plot.bar()"
   ]
  },
  {
   "cell_type": "markdown",
   "metadata": {
    "colab_type": "text",
    "id": "R0-QUP8rINNS"
   },
   "source": [
    "### Lets do a time-series test of the CAPM using these 10 Book-to-market sorted portfolios "
   ]
  },
  {
   "cell_type": "code",
   "execution_count": 7,
   "metadata": {
    "colab": {},
    "colab_type": "code",
    "id": "l_T6DOvQdibv"
   },
   "outputs": [],
   "source": [
    "# Import regression package\n",
    "import statsmodels.api as sm"
   ]
  },
  {
   "cell_type": "markdown",
   "metadata": {},
   "source": [
    "We are interested in estiamting the alpha and the beta of the strategy BEME10 with respect to the market\n",
    "\n",
    "$$R^e_{BEME10,t}=\\alpha+\\beta R^e_{MKT,t}+\\epsilon_t$$"
   ]
  },
  {
   "cell_type": "code",
   "execution_count": 8,
   "metadata": {
    "colab": {
     "base_uri": "https://localhost:8080/",
     "height": 498
    },
    "colab_type": "code",
    "executionInfo": {
     "elapsed": 885,
     "status": "ok",
     "timestamp": 1577476053745,
     "user": {
      "displayName": "yuchi yao",
      "photoUrl": "",
      "userId": "00457884373990713813"
     },
     "user_tz": 300
    },
    "id": "10Em9orqdib0",
    "outputId": "f81083a0-78a7-42c5-9e98-3696e8031bcf"
   },
   "outputs": [
    {
     "data": {
      "text/html": [
       "<table class=\"simpletable\">\n",
       "<caption>OLS Regression Results</caption>\n",
       "<tr>\n",
       "  <th>Dep. Variable:</th>         <td>BEME10</td>      <th>  R-squared:         </th> <td>   0.677</td> \n",
       "</tr>\n",
       "<tr>\n",
       "  <th>Model:</th>                   <td>OLS</td>       <th>  Adj. R-squared:    </th> <td>   0.676</td> \n",
       "</tr>\n",
       "<tr>\n",
       "  <th>Method:</th>             <td>Least Squares</td>  <th>  F-statistic:       </th> <td>   1365.</td> \n",
       "</tr>\n",
       "<tr>\n",
       "  <th>Date:</th>             <td>Fri, 11 Dec 2020</td> <th>  Prob (F-statistic):</th> <td>4.64e-162</td>\n",
       "</tr>\n",
       "<tr>\n",
       "  <th>Time:</th>                 <td>08:19:38</td>     <th>  Log-Likelihood:    </th> <td>  1274.4</td> \n",
       "</tr>\n",
       "<tr>\n",
       "  <th>No. Observations:</th>      <td>   654</td>      <th>  AIC:               </th> <td>  -2545.</td> \n",
       "</tr>\n",
       "<tr>\n",
       "  <th>Df Residuals:</th>          <td>   652</td>      <th>  BIC:               </th> <td>  -2536.</td> \n",
       "</tr>\n",
       "<tr>\n",
       "  <th>Df Model:</th>              <td>     1</td>      <th>                     </th>     <td> </td>    \n",
       "</tr>\n",
       "<tr>\n",
       "  <th>Covariance Type:</th>      <td>nonrobust</td>    <th>                     </th>     <td> </td>    \n",
       "</tr>\n",
       "</table>\n",
       "<table class=\"simpletable\">\n",
       "<tr>\n",
       "    <td></td>       <th>coef</th>     <th>std err</th>      <th>t</th>      <th>P>|t|</th>  <th>[0.025</th>    <th>0.975]</th>  \n",
       "</tr>\n",
       "<tr>\n",
       "  <th>const</th> <td>    0.0033</td> <td>    0.001</td> <td>    2.456</td> <td> 0.014</td> <td>    0.001</td> <td>    0.006</td>\n",
       "</tr>\n",
       "<tr>\n",
       "  <th>MKT</th>   <td>    1.1358</td> <td>    0.031</td> <td>   36.950</td> <td> 0.000</td> <td>    1.075</td> <td>    1.196</td>\n",
       "</tr>\n",
       "</table>\n",
       "<table class=\"simpletable\">\n",
       "<tr>\n",
       "  <th>Omnibus:</th>       <td>122.691</td> <th>  Durbin-Watson:     </th> <td>   1.659</td> \n",
       "</tr>\n",
       "<tr>\n",
       "  <th>Prob(Omnibus):</th> <td> 0.000</td>  <th>  Jarque-Bera (JB):  </th> <td> 555.658</td> \n",
       "</tr>\n",
       "<tr>\n",
       "  <th>Skew:</th>          <td> 0.771</td>  <th>  Prob(JB):          </th> <td>2.19e-121</td>\n",
       "</tr>\n",
       "<tr>\n",
       "  <th>Kurtosis:</th>      <td> 7.244</td>  <th>  Cond. No.          </th> <td>    22.8</td> \n",
       "</tr>\n",
       "</table><br/><br/>Warnings:<br/>[1] Standard Errors assume that the covariance matrix of the errors is correctly specified."
      ],
      "text/plain": [
       "<class 'statsmodels.iolib.summary.Summary'>\n",
       "\"\"\"\n",
       "                            OLS Regression Results                            \n",
       "==============================================================================\n",
       "Dep. Variable:                 BEME10   R-squared:                       0.677\n",
       "Model:                            OLS   Adj. R-squared:                  0.676\n",
       "Method:                 Least Squares   F-statistic:                     1365.\n",
       "Date:                Fri, 11 Dec 2020   Prob (F-statistic):          4.64e-162\n",
       "Time:                        08:19:38   Log-Likelihood:                 1274.4\n",
       "No. Observations:                 654   AIC:                            -2545.\n",
       "Df Residuals:                     652   BIC:                            -2536.\n",
       "Df Model:                           1                                         \n",
       "Covariance Type:            nonrobust                                         \n",
       "==============================================================================\n",
       "                 coef    std err          t      P>|t|      [0.025      0.975]\n",
       "------------------------------------------------------------------------------\n",
       "const          0.0033      0.001      2.456      0.014       0.001       0.006\n",
       "MKT            1.1358      0.031     36.950      0.000       1.075       1.196\n",
       "==============================================================================\n",
       "Omnibus:                      122.691   Durbin-Watson:                   1.659\n",
       "Prob(Omnibus):                  0.000   Jarque-Bera (JB):              555.658\n",
       "Skew:                           0.771   Prob(JB):                    2.19e-121\n",
       "Kurtosis:                       7.244   Cond. No.                         22.8\n",
       "==============================================================================\n",
       "\n",
       "Warnings:\n",
       "[1] Standard Errors assume that the covariance matrix of the errors is correctly specified.\n",
       "\"\"\""
      ]
     },
     "execution_count": 8,
     "metadata": {},
     "output_type": "execute_result"
    }
   ],
   "source": [
    "temp=Re['1963':'2018'] \n",
    "# On the right hand side, we have 'MKT' portfolio, we will add an constant term to it\n",
    "x= sm.add_constant(temp['MKT'])\n",
    "# the coefficient on the constant is the \"alpha\"\n",
    "\n",
    "# On the left hand side, we have 'BEME10' portfolio\n",
    "y= temp['BEME10']\n",
    "results= sm.OLS(y,x).fit()\n",
    "results.summary()"
   ]
  },
  {
   "cell_type": "markdown",
   "metadata": {},
   "source": [
    "- What does this tell us about the market?\n",
    "- What does this tell us about BEME10?"
   ]
  },
  {
   "cell_type": "code",
   "execution_count": 9,
   "metadata": {
    "colab": {
     "base_uri": "https://localhost:8080/",
     "height": 68
    },
    "colab_type": "code",
    "executionInfo": {
     "elapsed": 1286,
     "status": "ok",
     "timestamp": 1577476061492,
     "user": {
      "displayName": "yuchi yao",
      "photoUrl": "",
      "userId": "00457884373990713813"
     },
     "user_tz": 300
    },
    "id": "MBqYhoUMlmtY",
    "outputId": "248354f3-1a70-41b3-c934-b9a47b71a5cf"
   },
   "outputs": [
    {
     "name": "stdout",
     "output_type": "stream",
     "text": [
      "0.039599999999999996\n"
     ]
    },
    {
     "data": {
      "text/plain": [
       "const    12.000000\n",
       "MKT       0.063508\n",
       "dtype: float64"
      ]
     },
     "execution_count": 9,
     "metadata": {},
     "output_type": "execute_result"
    }
   ],
   "source": [
    "# We have a monthly alpha of 0.0033\n",
    "print(0.0033*12)\n",
    "# yearly alpha is about 4%\n",
    "x.mean()*12\n",
    "# yearly market premium is about 6%"
   ]
  },
  {
   "cell_type": "code",
   "execution_count": 10,
   "metadata": {},
   "outputs": [
    {
     "data": {
      "text/html": [
       "<table class=\"simpletable\">\n",
       "<caption>OLS Regression Results</caption>\n",
       "<tr>\n",
       "  <th>Dep. Variable:</th>            <td>y</td>        <th>  R-squared:         </th> <td>   0.005</td>\n",
       "</tr>\n",
       "<tr>\n",
       "  <th>Model:</th>                   <td>OLS</td>       <th>  Adj. R-squared:    </th> <td>   0.003</td>\n",
       "</tr>\n",
       "<tr>\n",
       "  <th>Method:</th>             <td>Least Squares</td>  <th>  F-statistic:       </th> <td>   3.159</td>\n",
       "</tr>\n",
       "<tr>\n",
       "  <th>Date:</th>             <td>Fri, 11 Dec 2020</td> <th>  Prob (F-statistic):</th>  <td>0.0760</td> \n",
       "</tr>\n",
       "<tr>\n",
       "  <th>Time:</th>                 <td>08:19:39</td>     <th>  Log-Likelihood:    </th> <td>  1076.3</td>\n",
       "</tr>\n",
       "<tr>\n",
       "  <th>No. Observations:</th>      <td>   654</td>      <th>  AIC:               </th> <td>  -2149.</td>\n",
       "</tr>\n",
       "<tr>\n",
       "  <th>Df Residuals:</th>          <td>   652</td>      <th>  BIC:               </th> <td>  -2140.</td>\n",
       "</tr>\n",
       "<tr>\n",
       "  <th>Df Model:</th>              <td>     1</td>      <th>                     </th>     <td> </td>   \n",
       "</tr>\n",
       "<tr>\n",
       "  <th>Covariance Type:</th>      <td>nonrobust</td>    <th>                     </th>     <td> </td>   \n",
       "</tr>\n",
       "</table>\n",
       "<table class=\"simpletable\">\n",
       "<tr>\n",
       "    <td></td>       <th>coef</th>     <th>std err</th>      <th>t</th>      <th>P>|t|</th>  <th>[0.025</th>    <th>0.975]</th>  \n",
       "</tr>\n",
       "<tr>\n",
       "  <th>const</th> <td>    0.0045</td> <td>    0.002</td> <td>    2.445</td> <td> 0.015</td> <td>    0.001</td> <td>    0.008</td>\n",
       "</tr>\n",
       "<tr>\n",
       "  <th>MKT</th>   <td>    0.0740</td> <td>    0.042</td> <td>    1.777</td> <td> 0.076</td> <td>   -0.008</td> <td>    0.156</td>\n",
       "</tr>\n",
       "</table>\n",
       "<table class=\"simpletable\">\n",
       "<tr>\n",
       "  <th>Omnibus:</th>       <td>52.948</td> <th>  Durbin-Watson:     </th> <td>   1.645</td>\n",
       "</tr>\n",
       "<tr>\n",
       "  <th>Prob(Omnibus):</th> <td> 0.000</td> <th>  Jarque-Bera (JB):  </th> <td> 127.480</td>\n",
       "</tr>\n",
       "<tr>\n",
       "  <th>Skew:</th>          <td> 0.438</td> <th>  Prob(JB):          </th> <td>2.08e-28</td>\n",
       "</tr>\n",
       "<tr>\n",
       "  <th>Kurtosis:</th>      <td> 4.978</td> <th>  Cond. No.          </th> <td>    22.8</td>\n",
       "</tr>\n",
       "</table><br/><br/>Warnings:<br/>[1] Standard Errors assume that the covariance matrix of the errors is correctly specified."
      ],
      "text/plain": [
       "<class 'statsmodels.iolib.summary.Summary'>\n",
       "\"\"\"\n",
       "                            OLS Regression Results                            \n",
       "==============================================================================\n",
       "Dep. Variable:                      y   R-squared:                       0.005\n",
       "Model:                            OLS   Adj. R-squared:                  0.003\n",
       "Method:                 Least Squares   F-statistic:                     3.159\n",
       "Date:                Fri, 11 Dec 2020   Prob (F-statistic):             0.0760\n",
       "Time:                        08:19:39   Log-Likelihood:                 1076.3\n",
       "No. Observations:                 654   AIC:                            -2149.\n",
       "Df Residuals:                     652   BIC:                            -2140.\n",
       "Df Model:                           1                                         \n",
       "Covariance Type:            nonrobust                                         \n",
       "==============================================================================\n",
       "                 coef    std err          t      P>|t|      [0.025      0.975]\n",
       "------------------------------------------------------------------------------\n",
       "const          0.0045      0.002      2.445      0.015       0.001       0.008\n",
       "MKT            0.0740      0.042      1.777      0.076      -0.008       0.156\n",
       "==============================================================================\n",
       "Omnibus:                       52.948   Durbin-Watson:                   1.645\n",
       "Prob(Omnibus):                  0.000   Jarque-Bera (JB):              127.480\n",
       "Skew:                           0.438   Prob(JB):                     2.08e-28\n",
       "Kurtosis:                       4.978   Cond. No.                         22.8\n",
       "==============================================================================\n",
       "\n",
       "Warnings:\n",
       "[1] Standard Errors assume that the covariance matrix of the errors is correctly specified.\n",
       "\"\"\""
      ]
     },
     "execution_count": 10,
     "metadata": {},
     "output_type": "execute_result"
    }
   ],
   "source": [
    "temp=Re['1963':'2018'] \n",
    "# On the right hand side, we have 'MKT' portfolio, we will add an constant term to it\n",
    "x= sm.add_constant(temp['MKT'])\n",
    "# the coefficient on the constant is the \"alpha\"\n",
    "\n",
    "# On the left hand side, we have 'BEME10' portfolio\n",
    "y= temp['BEME10']-temp['BEME1']\n",
    "results= sm.OLS(y,x).fit()\n",
    "results.summary()"
   ]
  },
  {
   "cell_type": "markdown",
   "metadata": {},
   "source": [
    "# Lecture 12/4 ended here"
   ]
  },
  {
   "cell_type": "code",
   "execution_count": 11,
   "metadata": {},
   "outputs": [
    {
     "data": {
      "text/html": [
       "<div>\n",
       "<style scoped>\n",
       "    .dataframe tbody tr th:only-of-type {\n",
       "        vertical-align: middle;\n",
       "    }\n",
       "\n",
       "    .dataframe tbody tr th {\n",
       "        vertical-align: top;\n",
       "    }\n",
       "\n",
       "    .dataframe thead th {\n",
       "        text-align: right;\n",
       "    }\n",
       "</style>\n",
       "<table border=\"1\" class=\"dataframe\">\n",
       "  <thead>\n",
       "    <tr style=\"text-align: right;\">\n",
       "      <th></th>\n",
       "      <th>0</th>\n",
       "    </tr>\n",
       "  </thead>\n",
       "  <tbody>\n",
       "    <tr>\n",
       "      <th>BEME1</th>\n",
       "      <td>0.005859</td>\n",
       "    </tr>\n",
       "    <tr>\n",
       "      <th>BEME2</th>\n",
       "      <td>0.006873</td>\n",
       "    </tr>\n",
       "    <tr>\n",
       "      <th>BEME3</th>\n",
       "      <td>0.006907</td>\n",
       "    </tr>\n",
       "    <tr>\n",
       "      <th>BEME4</th>\n",
       "      <td>0.006643</td>\n",
       "    </tr>\n",
       "    <tr>\n",
       "      <th>BEME5</th>\n",
       "      <td>0.007234</td>\n",
       "    </tr>\n",
       "    <tr>\n",
       "      <th>BEME6</th>\n",
       "      <td>0.007923</td>\n",
       "    </tr>\n",
       "    <tr>\n",
       "      <th>BEME7</th>\n",
       "      <td>0.007247</td>\n",
       "    </tr>\n",
       "    <tr>\n",
       "      <th>BEME8</th>\n",
       "      <td>0.009139</td>\n",
       "    </tr>\n",
       "    <tr>\n",
       "      <th>BEME9</th>\n",
       "      <td>0.010582</td>\n",
       "    </tr>\n",
       "    <tr>\n",
       "      <th>BEME10</th>\n",
       "      <td>0.010701</td>\n",
       "    </tr>\n",
       "    <tr>\n",
       "      <th>MKT</th>\n",
       "      <td>0.006567</td>\n",
       "    </tr>\n",
       "  </tbody>\n",
       "</table>\n",
       "</div>"
      ],
      "text/plain": [
       "               0\n",
       "BEME1   0.005859\n",
       "BEME2   0.006873\n",
       "BEME3   0.006907\n",
       "BEME4   0.006643\n",
       "BEME5   0.007234\n",
       "BEME6   0.007923\n",
       "BEME7   0.007247\n",
       "BEME8   0.009139\n",
       "BEME9   0.010582\n",
       "BEME10  0.010701\n",
       "MKT     0.006567"
      ]
     },
     "execution_count": 11,
     "metadata": {},
     "output_type": "execute_result"
    }
   ],
   "source": [
    "E=pd.DataFrame(Re.mean())\n",
    "E"
   ]
  },
  {
   "cell_type": "code",
   "execution_count": 12,
   "metadata": {
    "colab": {},
    "colab_type": "code",
    "id": "fWWkpF6Odib2"
   },
   "outputs": [],
   "source": [
    "# now lets build a function that run the regression for all the portfolios and stores the info in a dataframe\n",
    "def TSregression(temp):\n",
    "    E=pd.DataFrame(temp.mean())\n",
    "    E.columns=['AvgReturns']\n",
    "    x= sm.add_constant(temp['MKT'])\n",
    "    E['std']=temp.std()\n",
    "    E['alpha']=E['AvgReturns']*0\n",
    "    E['std_alpha']=E['AvgReturns']*0\n",
    "    E['t-alpha']=E['AvgReturns']*0\n",
    "    E['beta']=E['AvgReturns']*0\n",
    "    E['std_beta']=E['AvgReturns']*0\n",
    "    E['std_e']=E['AvgReturns']*0\n",
    "    \n",
    "    for portfolios in E.index[0:10]:\n",
    "        y= temp[portfolios]\n",
    "        results= sm.OLS(y,x).fit()\n",
    "        E.at[portfolios,'alpha']=results.params[0]\n",
    "        E.at[portfolios,'beta']=results.params[1]\n",
    "        E.at[portfolios,'std_e']=results.resid.std()\n",
    "        E.at[portfolios,'std_alpha']=results.HC0_se[0]\n",
    "        E.at[portfolios,'std_beta']=results.HC0_se[1]\n",
    "        E.at[portfolios,'pvalues']=results.pvalues[0]\n",
    "    \n",
    "    E['t-alpha']=E['alpha']/E['std_alpha']\n",
    "    E.at['MKT','beta']=1 \n",
    "    return E"
   ]
  },
  {
   "cell_type": "code",
   "execution_count": 13,
   "metadata": {
    "colab": {
     "base_uri": "https://localhost:8080/",
     "height": 444
    },
    "colab_type": "code",
    "executionInfo": {
     "elapsed": 864,
     "status": "ok",
     "timestamp": 1577476070811,
     "user": {
      "displayName": "yuchi yao",
      "photoUrl": "",
      "userId": "00457884373990713813"
     },
     "user_tz": 300
    },
    "id": "y82q7RYkdib8",
    "outputId": "40db262c-d759-4fda-d79e-e5a4c34e645e"
   },
   "outputs": [
    {
     "data": {
      "text/html": [
       "<div>\n",
       "<style scoped>\n",
       "    .dataframe tbody tr th:only-of-type {\n",
       "        vertical-align: middle;\n",
       "    }\n",
       "\n",
       "    .dataframe tbody tr th {\n",
       "        vertical-align: top;\n",
       "    }\n",
       "\n",
       "    .dataframe thead th {\n",
       "        text-align: right;\n",
       "    }\n",
       "</style>\n",
       "<table border=\"1\" class=\"dataframe\">\n",
       "  <thead>\n",
       "    <tr style=\"text-align: right;\">\n",
       "      <th></th>\n",
       "      <th>AvgReturns</th>\n",
       "      <th>std</th>\n",
       "      <th>alpha</th>\n",
       "      <th>std_alpha</th>\n",
       "      <th>t-alpha</th>\n",
       "      <th>beta</th>\n",
       "      <th>std_beta</th>\n",
       "      <th>std_e</th>\n",
       "      <th>pvalues</th>\n",
       "    </tr>\n",
       "  </thead>\n",
       "  <tbody>\n",
       "    <tr>\n",
       "      <th>BEME1</th>\n",
       "      <td>0.003225</td>\n",
       "      <td>0.053380</td>\n",
       "      <td>-0.001581</td>\n",
       "      <td>0.000890</td>\n",
       "      <td>-1.776274</td>\n",
       "      <td>1.097840</td>\n",
       "      <td>0.024294</td>\n",
       "      <td>0.019468</td>\n",
       "      <td>0.077605</td>\n",
       "    </tr>\n",
       "    <tr>\n",
       "      <th>BEME2</th>\n",
       "      <td>0.004858</td>\n",
       "      <td>0.048438</td>\n",
       "      <td>0.000361</td>\n",
       "      <td>0.000623</td>\n",
       "      <td>0.578281</td>\n",
       "      <td>1.027575</td>\n",
       "      <td>0.017492</td>\n",
       "      <td>0.013486</td>\n",
       "      <td>0.560573</td>\n",
       "    </tr>\n",
       "    <tr>\n",
       "      <th>BEME3</th>\n",
       "      <td>0.004672</td>\n",
       "      <td>0.047969</td>\n",
       "      <td>0.000261</td>\n",
       "      <td>0.000680</td>\n",
       "      <td>0.383216</td>\n",
       "      <td>1.007874</td>\n",
       "      <td>0.018809</td>\n",
       "      <td>0.014794</td>\n",
       "      <td>0.701190</td>\n",
       "    </tr>\n",
       "    <tr>\n",
       "      <th>BEME4</th>\n",
       "      <td>0.004645</td>\n",
       "      <td>0.047198</td>\n",
       "      <td>0.000439</td>\n",
       "      <td>0.000845</td>\n",
       "      <td>0.519184</td>\n",
       "      <td>0.961090</td>\n",
       "      <td>0.027117</td>\n",
       "      <td>0.018285</td>\n",
       "      <td>0.601501</td>\n",
       "    </tr>\n",
       "    <tr>\n",
       "      <th>BEME5</th>\n",
       "      <td>0.004529</td>\n",
       "      <td>0.044331</td>\n",
       "      <td>0.000688</td>\n",
       "      <td>0.000900</td>\n",
       "      <td>0.764968</td>\n",
       "      <td>0.877361</td>\n",
       "      <td>0.025995</td>\n",
       "      <td>0.019683</td>\n",
       "      <td>0.446583</td>\n",
       "    </tr>\n",
       "    <tr>\n",
       "      <th>BEME6</th>\n",
       "      <td>0.006041</td>\n",
       "      <td>0.043503</td>\n",
       "      <td>0.002347</td>\n",
       "      <td>0.000968</td>\n",
       "      <td>2.424715</td>\n",
       "      <td>0.843970</td>\n",
       "      <td>0.029767</td>\n",
       "      <td>0.020797</td>\n",
       "      <td>0.014305</td>\n",
       "    </tr>\n",
       "    <tr>\n",
       "      <th>BEME7</th>\n",
       "      <td>0.006531</td>\n",
       "      <td>0.044530</td>\n",
       "      <td>0.002767</td>\n",
       "      <td>0.000992</td>\n",
       "      <td>2.790137</td>\n",
       "      <td>0.859885</td>\n",
       "      <td>0.033048</td>\n",
       "      <td>0.021618</td>\n",
       "      <td>0.005514</td>\n",
       "    </tr>\n",
       "    <tr>\n",
       "      <th>BEME8</th>\n",
       "      <td>0.007318</td>\n",
       "      <td>0.044255</td>\n",
       "      <td>0.003582</td>\n",
       "      <td>0.000981</td>\n",
       "      <td>3.650885</td>\n",
       "      <td>0.853580</td>\n",
       "      <td>0.030030</td>\n",
       "      <td>0.021566</td>\n",
       "      <td>0.000328</td>\n",
       "    </tr>\n",
       "    <tr>\n",
       "      <th>BEME9</th>\n",
       "      <td>0.007988</td>\n",
       "      <td>0.047929</td>\n",
       "      <td>0.003975</td>\n",
       "      <td>0.001091</td>\n",
       "      <td>3.644067</td>\n",
       "      <td>0.916861</td>\n",
       "      <td>0.035320</td>\n",
       "      <td>0.023961</td>\n",
       "      <td>0.000334</td>\n",
       "    </tr>\n",
       "    <tr>\n",
       "      <th>BEME10</th>\n",
       "      <td>0.009536</td>\n",
       "      <td>0.056103</td>\n",
       "      <td>0.005083</td>\n",
       "      <td>0.001461</td>\n",
       "      <td>3.479666</td>\n",
       "      <td>1.017468</td>\n",
       "      <td>0.047329</td>\n",
       "      <td>0.032025</td>\n",
       "      <td>0.000594</td>\n",
       "    </tr>\n",
       "    <tr>\n",
       "      <th>MKT</th>\n",
       "      <td>0.004377</td>\n",
       "      <td>0.045274</td>\n",
       "      <td>0.000000</td>\n",
       "      <td>0.000000</td>\n",
       "      <td>NaN</td>\n",
       "      <td>1.000000</td>\n",
       "      <td>0.000000</td>\n",
       "      <td>0.000000</td>\n",
       "      <td>NaN</td>\n",
       "    </tr>\n",
       "  </tbody>\n",
       "</table>\n",
       "</div>"
      ],
      "text/plain": [
       "        AvgReturns       std     alpha  std_alpha   t-alpha      beta  \\\n",
       "BEME1     0.003225  0.053380 -0.001581   0.000890 -1.776274  1.097840   \n",
       "BEME2     0.004858  0.048438  0.000361   0.000623  0.578281  1.027575   \n",
       "BEME3     0.004672  0.047969  0.000261   0.000680  0.383216  1.007874   \n",
       "BEME4     0.004645  0.047198  0.000439   0.000845  0.519184  0.961090   \n",
       "BEME5     0.004529  0.044331  0.000688   0.000900  0.764968  0.877361   \n",
       "BEME6     0.006041  0.043503  0.002347   0.000968  2.424715  0.843970   \n",
       "BEME7     0.006531  0.044530  0.002767   0.000992  2.790137  0.859885   \n",
       "BEME8     0.007318  0.044255  0.003582   0.000981  3.650885  0.853580   \n",
       "BEME9     0.007988  0.047929  0.003975   0.001091  3.644067  0.916861   \n",
       "BEME10    0.009536  0.056103  0.005083   0.001461  3.479666  1.017468   \n",
       "MKT       0.004377  0.045274  0.000000   0.000000       NaN  1.000000   \n",
       "\n",
       "        std_beta     std_e   pvalues  \n",
       "BEME1   0.024294  0.019468  0.077605  \n",
       "BEME2   0.017492  0.013486  0.560573  \n",
       "BEME3   0.018809  0.014794  0.701190  \n",
       "BEME4   0.027117  0.018285  0.601501  \n",
       "BEME5   0.025995  0.019683  0.446583  \n",
       "BEME6   0.029767  0.020797  0.014305  \n",
       "BEME7   0.033048  0.021618  0.005514  \n",
       "BEME8   0.030030  0.021566  0.000328  \n",
       "BEME9   0.035320  0.023961  0.000334  \n",
       "BEME10  0.047329  0.032025  0.000594  \n",
       "MKT     0.000000  0.000000       NaN  "
      ]
     },
     "execution_count": 13,
     "metadata": {},
     "output_type": "execute_result"
    }
   ],
   "source": [
    "# Lets select a sample to do our analysis\n",
    "\n",
    "# this is a sample that I know that the value puzzle is strong\n",
    "TSresults=TSregression(Re['1963':'2002'])\n",
    "TSresults"
   ]
  },
  {
   "cell_type": "code",
   "execution_count": 14,
   "metadata": {
    "colab": {
     "base_uri": "https://localhost:8080/",
     "height": 281
    },
    "colab_type": "code",
    "executionInfo": {
     "elapsed": 1106,
     "status": "ok",
     "timestamp": 1577476073994,
     "user": {
      "displayName": "yuchi yao",
      "photoUrl": "",
      "userId": "00457884373990713813"
     },
     "user_tz": 300
    },
    "id": "7mJcvEWUdib_",
    "outputId": "df28b12d-8f4a-4b37-fb96-93023058f4f8"
   },
   "outputs": [
    {
     "data": {
      "image/png": "[encoded data removed]",
      "text/plain": [
       "<Figure size 432x288 with 1 Axes>"
      ]
     },
     "metadata": {
      "needs_background": "light"
     },
     "output_type": "display_data"
    }
   ],
   "source": [
    "TSresults.plot.scatter(x='beta',y='AvgReturns')\n",
    "plt.show()"
   ]
  },
  {
   "cell_type": "markdown",
   "metadata": {
    "colab_type": "text",
    "id": "WDFlnIGmdicB"
   },
   "source": [
    "> How should this plot look like if the Market was tangency as predicted by the CAPM?\n",
    "\n",
    "> Is the market likely to be tangency?\n",
    "\n",
    "* The value strategy is interesting not because value stocks have higher expected returns\n",
    "\n",
    "* The Value strategy in interesting because these expected returns do not line up with market betas!\n",
    "\n",
    "* And therefore, an investor that only holds the market can benefit by tilting his portfolio towards value stocks\n",
    "\n",
    "* BOOK to MARKET sorted portfolios risk-return relation is not explained by the CAPM\n",
    "\n",
    "  1. Value portfolios have very large alphas with respect to the market portfolio.\n",
    "    - Portfolio 9 rejects the CAPM with a confidence of more than 99.99%\n",
    "  2. A long-short strategy is likely to blow the CAPM out of the water even more strongly\n",
    "    - Value and growth portfolios have similar betas but very different returns!\n",
    "    - One can use the growth portfolio to hedge market exposure cheaply since it has high beta but low returns!"
   ]
  },
  {
   "cell_type": "markdown",
   "metadata": {
    "colab_type": "text",
    "id": "4V_gQI1DdicC"
   },
   "source": [
    "### The \"Value\" minus \"growth\" strategy"
   ]
  },
  {
   "cell_type": "code",
   "execution_count": 15,
   "metadata": {},
   "outputs": [],
   "source": [
    "# I will select a sample where the results are particularly strong\n",
    "\n",
    "# you should then investignate tto see how well it did recently\n",
    "\n",
    "b='1963'\n",
    "e='2002'"
   ]
  },
  {
   "cell_type": "code",
   "execution_count": 16,
   "metadata": {
    "colab": {
     "base_uri": "https://localhost:8080/",
     "height": 498
    },
    "colab_type": "code",
    "executionInfo": {
     "elapsed": 972,
     "status": "ok",
     "timestamp": 1577476078286,
     "user": {
      "displayName": "yuchi yao",
      "photoUrl": "",
      "userId": "00457884373990713813"
     },
     "user_tz": 300
    },
    "id": "H19k-DrTdicD",
    "outputId": "d7cbbc6b-a16a-46a5-f562-9cdf1d9a8b10"
   },
   "outputs": [
    {
     "data": {
      "text/html": [
       "<table class=\"simpletable\">\n",
       "<caption>OLS Regression Results</caption>\n",
       "<tr>\n",
       "  <th>Dep. Variable:</th>            <td>y</td>        <th>  R-squared:         </th> <td>   0.006</td>\n",
       "</tr>\n",
       "<tr>\n",
       "  <th>Model:</th>                   <td>OLS</td>       <th>  Adj. R-squared:    </th> <td>   0.004</td>\n",
       "</tr>\n",
       "<tr>\n",
       "  <th>Method:</th>             <td>Least Squares</td>  <th>  F-statistic:       </th> <td>   3.066</td>\n",
       "</tr>\n",
       "<tr>\n",
       "  <th>Date:</th>             <td>Fri, 11 Dec 2020</td> <th>  Prob (F-statistic):</th>  <td>0.0806</td> \n",
       "</tr>\n",
       "<tr>\n",
       "  <th>Time:</th>                 <td>08:19:47</td>     <th>  Log-Likelihood:    </th> <td>  803.34</td>\n",
       "</tr>\n",
       "<tr>\n",
       "  <th>No. Observations:</th>      <td>   480</td>      <th>  AIC:               </th> <td>  -1603.</td>\n",
       "</tr>\n",
       "<tr>\n",
       "  <th>Df Residuals:</th>          <td>   478</td>      <th>  BIC:               </th> <td>  -1594.</td>\n",
       "</tr>\n",
       "<tr>\n",
       "  <th>Df Model:</th>              <td>     1</td>      <th>                     </th>     <td> </td>   \n",
       "</tr>\n",
       "<tr>\n",
       "  <th>Covariance Type:</th>      <td>nonrobust</td>    <th>                     </th>     <td> </td>   \n",
       "</tr>\n",
       "</table>\n",
       "<table class=\"simpletable\">\n",
       "<tr>\n",
       "    <td></td>       <th>coef</th>     <th>std err</th>      <th>t</th>      <th>P>|t|</th>  <th>[0.025</th>    <th>0.975]</th>  \n",
       "</tr>\n",
       "<tr>\n",
       "  <th>const</th> <td>    0.0067</td> <td>    0.002</td> <td>    3.195</td> <td> 0.001</td> <td>    0.003</td> <td>    0.011</td>\n",
       "</tr>\n",
       "<tr>\n",
       "  <th>MKT</th>   <td>   -0.0804</td> <td>    0.046</td> <td>   -1.751</td> <td> 0.081</td> <td>   -0.171</td> <td>    0.010</td>\n",
       "</tr>\n",
       "</table>\n",
       "<table class=\"simpletable\">\n",
       "<tr>\n",
       "  <th>Omnibus:</th>       <td>33.146</td> <th>  Durbin-Watson:     </th> <td>   1.666</td>\n",
       "</tr>\n",
       "<tr>\n",
       "  <th>Prob(Omnibus):</th> <td> 0.000</td> <th>  Jarque-Bera (JB):  </th> <td>  55.320</td>\n",
       "</tr>\n",
       "<tr>\n",
       "  <th>Skew:</th>          <td> 0.472</td> <th>  Prob(JB):          </th> <td>9.71e-13</td>\n",
       "</tr>\n",
       "<tr>\n",
       "  <th>Kurtosis:</th>      <td> 4.370</td> <th>  Cond. No.          </th> <td>    22.1</td>\n",
       "</tr>\n",
       "</table><br/><br/>Warnings:<br/>[1] Standard Errors assume that the covariance matrix of the errors is correctly specified."
      ],
      "text/plain": [
       "<class 'statsmodels.iolib.summary.Summary'>\n",
       "\"\"\"\n",
       "                            OLS Regression Results                            \n",
       "==============================================================================\n",
       "Dep. Variable:                      y   R-squared:                       0.006\n",
       "Model:                            OLS   Adj. R-squared:                  0.004\n",
       "Method:                 Least Squares   F-statistic:                     3.066\n",
       "Date:                Fri, 11 Dec 2020   Prob (F-statistic):             0.0806\n",
       "Time:                        08:19:47   Log-Likelihood:                 803.34\n",
       "No. Observations:                 480   AIC:                            -1603.\n",
       "Df Residuals:                     478   BIC:                            -1594.\n",
       "Df Model:                           1                                         \n",
       "Covariance Type:            nonrobust                                         \n",
       "==============================================================================\n",
       "                 coef    std err          t      P>|t|      [0.025      0.975]\n",
       "------------------------------------------------------------------------------\n",
       "const          0.0067      0.002      3.195      0.001       0.003       0.011\n",
       "MKT           -0.0804      0.046     -1.751      0.081      -0.171       0.010\n",
       "==============================================================================\n",
       "Omnibus:                       33.146   Durbin-Watson:                   1.666\n",
       "Prob(Omnibus):                  0.000   Jarque-Bera (JB):               55.320\n",
       "Skew:                           0.472   Prob(JB):                     9.71e-13\n",
       "Kurtosis:                       4.370   Cond. No.                         22.1\n",
       "==============================================================================\n",
       "\n",
       "Warnings:\n",
       "[1] Standard Errors assume that the covariance matrix of the errors is correctly specified.\n",
       "\"\"\""
      ]
     },
     "execution_count": 16,
     "metadata": {},
     "output_type": "execute_result"
    }
   ],
   "source": [
    "x= sm.add_constant(Re.loc[b:e,'MKT'])\n",
    "y= Re.loc[b:e,'BEME10']-Re.loc[b:e,'BEME1']\n",
    "results= sm.OLS(y,x).fit()\n",
    "results.summary()"
   ]
  },
  {
   "cell_type": "code",
   "execution_count": 17,
   "metadata": {
    "colab": {
     "base_uri": "https://localhost:8080/",
     "height": 119
    },
    "colab_type": "code",
    "executionInfo": {
     "elapsed": 891,
     "status": "ok",
     "timestamp": 1577476081886,
     "user": {
      "displayName": "yuchi yao",
      "photoUrl": "",
      "userId": "00457884373990713813"
     },
     "user_tz": 300
    },
    "id": "iY-cw2DLdicF",
    "outputId": "bfaf29c1-2173-4c1b-fc2b-75a5849dd5f0"
   },
   "outputs": [
    {
     "name": "stdout",
     "output_type": "stream",
     "text": [
      "average returns\n",
      "[0.07573999999999996, 0.052525000000000016]\n",
      "Sharpe\n",
      "[0.47970405899166946, 0.3349084775865454]\n",
      "correlation\n",
      "-0.0798349701693205\n"
     ]
    }
   ],
   "source": [
    "y= Re.loc[b:e].BEME10-Re.loc[b:e].BEME1\n",
    "print('average returns')\n",
    "print([y.mean()*12,Re.loc[b:e].MKT.mean()*12])\n",
    "print('Sharpe')\n",
    "print([(y.mean()/y.std())*12**0.5,Re.loc[b:e].MKT.mean()/Re.loc[b:e].MKT.std()*12**0.5])\n",
    "print('correlation')\n",
    "print(np.corrcoef(y,Re.loc[b:e].MKT)[1,0])"
   ]
  },
  {
   "cell_type": "markdown",
   "metadata": {
    "colab_type": "text",
    "id": "ZMRyoTJ_dicY"
   },
   "source": [
    "## Alpha Investing\n",
    "\n",
    "\n",
    "* Tracking portfolio\n",
    "* Hedged portfolio or portable alpha portfolio\n",
    "* Appraisal ratio can be recovered from the t-stat\n",
    "* Optimal portfolio combination of alpha and market\n",
    "\n",
    "\n"
   ]
  },
  {
   "cell_type": "markdown",
   "metadata": {
    "colab_type": "text",
    "id": "uYDit1Htdicc"
   },
   "source": [
    "## Tracking portfolio\n",
    "\n",
    "Tracking portfolios are the portfolios that use a set of factors to track the returns on an asset.\n",
    "\n",
    "* It can be used as a way to construct hedges for corporations, hedges for trading strategies, or a way to define a benchmark for an active management.\n",
    "\n",
    "* It is used to construct what people in the industry calls \"portable alpha\", because it allows one to separate the alpha of a trading strategy's factor exposure\n",
    "\n",
    "* The idea of the tracking portoflio is to track the component of an asset return that can be obtained by investing in a simple traded factor. For now, this means the market portfolio\n",
    "\n",
    "How to do it?\n",
    "\n",
    "* For a given trading strategy, consider the following relation\n",
    "\n",
    "  $$R^e_i=\\alpha_i+\\beta_iR^{MKT}+\\epsilon_i, $$\n",
    "\n",
    "  with $var(\\epsilon_i)=\\sigma_e^2$\n",
    "\n",
    "* the $i^{th}$ Tracking portfolio is $\\beta_iW^{MKT}$, where $W^{MKT}$ is the vector of weights of the market portfolio.\n",
    "\n",
    "* or if one is trading directly on the total market portfolio as an asset, the tracking portfolio weight on the market portfolio asset is simply $\\beta_i$\n"
   ]
  },
  {
   "cell_type": "code",
   "execution_count": 18,
   "metadata": {
    "colab": {
     "base_uri": "https://localhost:8080/",
     "height": 34
    },
    "colab_type": "code",
    "executionInfo": {
     "elapsed": 949,
     "status": "ok",
     "timestamp": 1577476104295,
     "user": {
      "displayName": "yuchi yao",
      "photoUrl": "",
      "userId": "00457884373990713813"
     },
     "user_tz": 300
    },
    "id": "_b-RdNhVdicd",
    "outputId": "9e3beadb-b4cb-4fe3-a62a-c3e70330f181"
   },
   "outputs": [
    {
     "data": {
      "text/plain": [
       "1.0174675347317637"
      ]
     },
     "execution_count": 18,
     "metadata": {},
     "output_type": "execute_result"
    }
   ],
   "source": [
    "TSresults.loc['BEME10','beta']"
   ]
  },
  {
   "cell_type": "code",
   "execution_count": 19,
   "metadata": {},
   "outputs": [
    {
     "data": {
      "image/png": "[encoded data removed]",
      "text/plain": [
       "<Figure size 432x288 with 1 Axes>"
      ]
     },
     "metadata": {
      "needs_background": "light"
     },
     "output_type": "display_data"
    }
   ],
   "source": [
    "# Returns on the tracking portfolio\n",
    "Portfolio=Re.loc[b:e,'BEME10']\n",
    "MKT=Re.loc[b:e,'MKT']\n",
    "Tracking=MKT*TSresults.loc['BEME10','beta']\n",
    "\n",
    "plt.scatter(x=Portfolio,y=Portfolio)\n",
    "plt.scatter(x=Portfolio,y=Tracking)\n",
    "plt.show()"
   ]
  },
  {
   "cell_type": "markdown",
   "metadata": {
    "colab_type": "text",
    "id": "1ty8s9Vodick"
   },
   "source": [
    "## Hedged portfolio\n",
    "\n",
    "The Hedged strategy return (also called portable alpha) is \n",
    "\n",
    " $$R^{hedged}_i=R^e_i-\\beta_iR^{MKT}$$\n",
    "\n",
    " * This portoflio can be constructed simply by $W^i-\\beta^iW^{MKT}$, the weights of the trading strategy minus the tracking portfolio weights. \n",
    "  \n",
    " * The excess returns take out risk-free rate effects, and the hedged portfolio takes out market factor effects\n",
    "\n",
    "A few observations\n",
    "\n",
    "- The mean return of the hedged portfolio is just the time series alpha!\n",
    "\n",
    "- The vol of the strategy is the vol of the residuals of the time series regression\n",
    "\n",
    "- If you run a regression on the market you will see that the hedged portfolios have $\\beta=0$, which is by construction. This is the reason why sometimes people call these portfolios \"Pure Alpha\", or as Bridgwater calls it, \"Portable Alpha\"\n",
    "\n",
    "- By construction, becuase we hedged market risk, the entire SR is enhancing the MV frontier relative to the CAPM\n"
   ]
  },
  {
   "cell_type": "code",
   "execution_count": 20,
   "metadata": {
    "colab": {
     "base_uri": "https://localhost:8080/",
     "height": 265
    },
    "colab_type": "code",
    "executionInfo": {
     "elapsed": 1131,
     "status": "ok",
     "timestamp": 1577476111974,
     "user": {
      "displayName": "yuchi yao",
      "photoUrl": "",
      "userId": "00457884373990713813"
     },
     "user_tz": 300
    },
    "id": "O7EUXvDudick",
    "outputId": "7b068a0a-13ef-4926-ba35-c087a4b15e64"
   },
   "outputs": [
    {
     "data": {
      "image/png": "[encoded data removed]",
      "text/plain": [
       "<Figure size 432x288 with 1 Axes>"
      ]
     },
     "metadata": {
      "needs_background": "light"
     },
     "output_type": "display_data"
    },
    {
     "data": {
      "image/png": "[encoded data removed]",
      "text/plain": [
       "<Figure size 432x288 with 1 Axes>"
      ]
     },
     "metadata": {
      "needs_background": "light"
     },
     "output_type": "display_data"
    }
   ],
   "source": [
    "# Returns on the hedged portfolio\n",
    "# portfolio - tracking portfoloio\n",
    "\n",
    "Hedged=Portfolio.subtract(Tracking,axis=0)\n",
    "\n",
    "plt.scatter(x=MKT,y=MKT)\n",
    "plt.scatter(x=MKT,y=Hedged)\n",
    "plt.show()\n",
    "(Hedged+1).cumprod().plot()\n",
    "plt.show()"
   ]
  },
  {
   "cell_type": "markdown",
   "metadata": {},
   "source": [
    "###### Insight: The average excess return on the hedged portfolio is the alpha of the unhedged portfolio!\n",
    "\n",
    "- Intution: The hedged portfolio has mechanically zero beta (in-sample) so it's excess return is \"pure\" alpha"
   ]
  },
  {
   "cell_type": "code",
   "execution_count": 21,
   "metadata": {
    "colab": {
     "base_uri": "https://localhost:8080/",
     "height": 85
    },
    "colab_type": "code",
    "executionInfo": {
     "elapsed": 913,
     "status": "ok",
     "timestamp": 1577476115149,
     "user": {
      "displayName": "yuchi yao",
      "photoUrl": "",
      "userId": "00457884373990713813"
     },
     "user_tz": 300
    },
    "id": "7kezIJ_udicm",
    "outputId": "7befb08d-1df8-440b-f323-760d3e986881"
   },
   "outputs": [
    {
     "name": "stdout",
     "output_type": "stream",
     "text": [
      "hedge portfolio excess returns\n",
      "0.060995017738214086\n",
      "alpha of unhedge portfolio\n",
      "0.06099501773821418\n"
     ]
    }
   ],
   "source": [
    "\n",
    "print('hedge portfolio excess returns')\n",
    "print(Hedged.mean()*12)\n",
    "print('alpha of unhedge portfolio')\n",
    "print(TSresults.loc['BEME10','alpha']*12)\n"
   ]
  },
  {
   "cell_type": "markdown",
   "metadata": {
    "colab_type": "text",
    "id": "F55eGFpNdicp"
   },
   "source": [
    "## Appraisal ratio\n",
    "\n",
    "Appraisal ratio is the Sharpe ratio of the hedged portfolio\n",
    "  \n",
    "$$Appraisal=AR=\\frac{\\alpha}{\\sigma_e}=\\frac{E[R^{Hedged}]}{\\sigma(R^{Hedged})},$$\n",
    "  \n",
    "  where $\\sigma_e$ is the standard deviation of the regression residual\n",
    "\n",
    "###### Appraisal ratio  is key because it tells you how much extra Sharpe ratio relative to the factor you can get by investing in this asset"
   ]
  },
  {
   "cell_type": "code",
   "execution_count": 22,
   "metadata": {
    "colab": {
     "base_uri": "https://localhost:8080/",
     "height": 51
    },
    "colab_type": "code",
    "executionInfo": {
     "elapsed": 913,
     "status": "ok",
     "timestamp": 1577476118447,
     "user": {
      "displayName": "yuchi yao",
      "photoUrl": "",
      "userId": "00457884373990713813"
     },
     "user_tz": 300
    },
    "id": "RUOQumKWdicp",
    "outputId": "013651b0-3793-43e8-c6ef-540ee1b7ed77"
   },
   "outputs": [
    {
     "name": "stdout",
     "output_type": "stream",
     "text": [
      "0.5498196242642078\n",
      "0.5498196242642086\n"
     ]
    }
   ],
   "source": [
    "# Aprraisal ratio is the sharpe ratio of hedged portfolio\n",
    "\n",
    "# sharpe ratio of the asset after you purge of market exposure\n",
    "\n",
    "print(Hedged.mean()/Hedged.std()*12**0.5)\n",
    "\n",
    "print(TSresults.loc['BEME10','alpha']/TSresults.loc['BEME10','std_e']*12**0.5)"
   ]
  },
  {
   "cell_type": "markdown",
   "metadata": {
    "colab_type": "text",
    "id": "yOVewBUrdidC"
   },
   "source": [
    "#### How much higher exactly you can get your Sharpe ratio to be by investing in the factor and the asset if you invest optimally (i.e Tangency weights)? \n",
    "\n",
    "- You can find the resulting SR of optimally combining any two strategies that are ORTHOGONAL to each other as follows\n",
    "\n",
    "- The Hedged and the market are orthogonal by construction--> we took out any beta exposure the asset might have!\n",
    "\n",
    "\n",
    "$$SR_{final}=\\sqrt{SR_{MKT}^2+SR_{Hedged}^2}$$\n",
    "\n",
    "Or \n",
    "\n",
    "$$SR_{final}=\\sqrt{SR_{MKT}^2+AR^2}$$\n",
    "  - This is very general and  can be used any time you run time-series test."
   ]
  },
  {
   "cell_type": "code",
   "execution_count": 23,
   "metadata": {},
   "outputs": [
    {
     "data": {
      "text/plain": [
       "0.3349084775865454"
      ]
     },
     "execution_count": 23,
     "metadata": {},
     "output_type": "execute_result"
    }
   ],
   "source": [
    "MKT.mean()/MKT.std()*12**0.5"
   ]
  },
  {
   "cell_type": "code",
   "execution_count": 24,
   "metadata": {},
   "outputs": [
    {
     "name": "stdout",
     "output_type": "stream",
     "text": [
      "1.175713238517809\n"
     ]
    }
   ],
   "source": [
    "print(((0.1*3)**2+(Hedged.mean()/Hedged.std())**2)**0.5*12**0.5)"
   ]
  },
  {
   "cell_type": "code",
   "execution_count": 25,
   "metadata": {
    "colab": {
     "base_uri": "https://localhost:8080/",
     "height": 51
    },
    "colab_type": "code",
    "executionInfo": {
     "elapsed": 971,
     "status": "ok",
     "timestamp": 1577476139654,
     "user": {
      "displayName": "yuchi yao",
      "photoUrl": "",
      "userId": "00457884373990713813"
     },
     "user_tz": 300
    },
    "id": "9XFjLLo7didC",
    "outputId": "7419852e-4f28-42c5-e09c-dedb1659ed02"
   },
   "outputs": [
    {
     "name": "stdout",
     "output_type": "stream",
     "text": [
      "0.6437898007776858\n"
     ]
    }
   ],
   "source": [
    "# Final SR\n",
    "\n",
    "\n",
    "# (2) analytical formula\n",
    "print(((MKT.mean()/MKT.std())**2+(Hedged.mean()/Hedged.std())**2)**0.5*12**0.5)\n"
   ]
  },
  {
   "cell_type": "markdown",
   "metadata": {
    "colab_type": "text",
    "id": "2joUBYhPdics"
   },
   "source": [
    "-----------------------------------------\n",
    "#### Bonus box\n",
    "There is a tight link between the t-stat of the time-series regression and the appraisal ratio\n",
    "\n",
    "* Not that \n",
    "\n",
    "$$\\sigma(\\alpha)=\\frac{\\sigma(\\epsilon)}{\\sqrt{T}}=\\frac{\\sigma_e}{\\sqrt{T}} $$\n",
    "\n",
    "* Therefore we have\n",
    "$$\n",
    "Appraisal=\\frac{\\alpha}{\\sigma_e}\n",
    "=\\frac{\\alpha}{\\sigma(\\alpha)\\sqrt{T}}\n",
    "=\\frac{\\text{t-stat}}{\\sqrt{T}}\n",
    "$$"
   ]
  },
  {
   "cell_type": "code",
   "execution_count": 26,
   "metadata": {
    "colab": {
     "base_uri": "https://localhost:8080/",
     "height": 102
    },
    "colab_type": "code",
    "executionInfo": {
     "elapsed": 946,
     "status": "ok",
     "timestamp": 1577476121712,
     "user": {
      "displayName": "yuchi yao",
      "photoUrl": "",
      "userId": "00457884373990713813"
     },
     "user_tz": 300
    },
    "id": "jSg4KE55dict",
    "outputId": "72c18a56-e586-4a33-ff28-b5586294e57a"
   },
   "outputs": [
    {
     "name": "stdout",
     "output_type": "stream",
     "text": [
      "appraisal ratio\n",
      "0.15871925403733966\n",
      "t-stat\n",
      "3.4796663154976013\n",
      "0.15882431113241036\n"
     ]
    }
   ],
   "source": [
    "# link with t-statistic\n",
    "\n",
    "print('appraisal ratio')\n",
    "print(Hedged.mean()/Hedged.std())\n",
    "T=Hedged.shape[0]\n",
    "tstat=TSresults.loc['BEME10','alpha']/TSresults.loc['BEME10','std_alpha']\n",
    "print('t-stat')\n",
    "print(tstat)\n",
    "print(tstat/(T**0.5))"
   ]
  },
  {
   "cell_type": "markdown",
   "metadata": {
    "colab_type": "text",
    "id": "qzMNAguIdidG"
   },
   "source": [
    "**How to go from regression Tables to Final Sharpe Ratios**\n",
    "\n",
    "Inputs\n",
    "- SR on the factor (market)\n",
    "- t-stat on the alpha of a particular strategy on the factor\n",
    "- T= total number of time-periods\n",
    "\n",
    "Steps\n",
    "\n",
    "  1. Run the following regression\n",
    "  \n",
    "  $$R^e_i=\\alpha_i+\\beta_iR^{MKT}+\\epsilon_i$$\n",
    "\n",
    "  2. Calculate the Sharpe ratio of the hedged portfolio using the t-stat on the alpha $t(\\alpha)$, and the total number of time periods $T$. \n",
    "\n",
    "  $$SR(R^{Hedged})=t(\\alpha)/\\sqrt{T}$$\n",
    "\n",
    "  3. Calculate the Sharpe ratio of the optimal portfolio.\n",
    "\n",
    "  \\begin{align}\n",
    "  SR_{final}&=\\sqrt{SR(R^{MKT})^2+SR(R^{Hedged})^2} \\\\\n",
    "  &=\\sqrt{SR(R^{MKT})^2+(t(\\alpha)/\\sqrt{T})^2}\n",
    "  \\end{align}\n",
    "\n",
    "Summary\n",
    "- This gives you a convenient way to evaluate whether or not a given anomaly meaningfully expands the investment opportunity set\n",
    "\n",
    "- Recall that a 10% increase in SR means you can either earn 10% higher return while bearing the same vol or get the same return while bearing 10% less vol\n",
    "\n",
    "___________________"
   ]
  },
  {
   "cell_type": "markdown",
   "metadata": {
    "colab_type": "text",
    "id": "YhdRcX10dicv"
   },
   "source": [
    "## Optimal  Combination of Hedged portfolio (alpha) and market (beta)\n",
    "\n",
    "\n",
    "- How to optimally combine the Hedged portfolio with the Market?\n",
    "\n",
    "- Recall our formula for the tangency portfolio weights derived in Lecture 3.\n",
    "\n",
    "$$W^*= Var(R^e)^{-1}E[R^e]$$\n",
    "\n",
    "- Now this becomes really simple because the covariance of the new Hedged-MVE strategy is zero with the market\n",
    "\n",
    "\n",
    "$$Var(R^e)=\\left[\\begin{array}{cc} \\sigma^2(R_{MKT}^e) & 0\\\\0 & \\sigma^2(R_{Hedged,i})\\end{array}\\right]$$\n",
    "\n",
    "\n",
    "\n",
    "- So the optimal weights are just\n",
    "\n",
    "$$W^* = \\left[\\begin{array}{c} \\frac{E[R^e_{MKT}]}{\\sigma^2(R_{MKT}^e)} \\\\ \\frac{\\alpha}{\\sigma^2(R_{Hedged,i})}\\end{array}\\right]$$\n",
    "\n",
    "\n",
    "- You invest in each strategy according to the strength of the risk-return trade-off in the strategy\n",
    "\n",
    "- Note that anything that invest proportionally in those two assets will still be tangency, i.e. if $W^*$ is tangency $0.3*W^*$ is tangency as well!\n",
    "\n",
    "- But how much you invest overall will depend on how much risk you want to take\n",
    "\n",
    "\n",
    "\n"
   ]
  },
  {
   "cell_type": "code",
   "execution_count": 27,
   "metadata": {
    "colab": {
     "base_uri": "https://localhost:8080/",
     "height": 34
    },
    "colab_type": "code",
    "executionInfo": {
     "elapsed": 428,
     "status": "ok",
     "timestamp": 1577476125381,
     "user": {
      "displayName": "yuchi yao",
      "photoUrl": "",
      "userId": "00457884373990713813"
     },
     "user_tz": 300
    },
    "id": "byHVaAXIdicw",
    "outputId": "2722e724-14fb-4fee-bc2d-a5f22f3d19fd"
   },
   "outputs": [],
   "source": [
    "# optimal combination\n",
    "\n",
    "W=np.array([MKT.mean()/MKT.var(),Hedged.mean()/Hedged.var()])\n",
    "W=W/np.sum(W)"
   ]
  },
  {
   "cell_type": "code",
   "execution_count": 28,
   "metadata": {},
   "outputs": [
    {
     "data": {
      "image/png": "[encoded data removed]",
      "text/plain": [
       "<Figure size 432x288 with 1 Axes>"
      ]
     },
     "metadata": {
      "needs_background": "light"
     },
     "output_type": "display_data"
    }
   ],
   "source": [
    "# optimal portfolio returns\n",
    "Optimalportfolio=W[0]*MKT+W[1]*Hedged\n",
    "# adjust optimal portfolio to have the same volatility as the market\n",
    "(Optimalportfolio+1).cumprod().plot()\n",
    "(MKT+1).cumprod().plot()\n",
    "plt.legend(['optimal','MKT'])\n",
    "plt.show()"
   ]
  },
  {
   "cell_type": "markdown",
   "metadata": {
    "colab_type": "text",
    "id": "wtDpN2Mfdic6"
   },
   "source": [
    "* Recall that what matters are the relative weights, so you always need to normalize the weights to make it comparable\n",
    "\n",
    "* Here we will reduce the level of weights so that ths vol of optimal portfolio is identical to the vol of the market\n"
   ]
  },
  {
   "cell_type": "code",
   "execution_count": 29,
   "metadata": {
    "colab": {
     "base_uri": "https://localhost:8080/",
     "height": 51
    },
    "colab_type": "code",
    "executionInfo": {
     "elapsed": 946,
     "status": "ok",
     "timestamp": 1577476131306,
     "user": {
      "displayName": "yuchi yao",
      "photoUrl": "",
      "userId": "00457884373990713813"
     },
     "user_tz": 300
    },
    "id": "artCzL4udic-",
    "outputId": "6793c4ee-8602-4ee4-c002-6ab3dce67a15"
   },
   "outputs": [
    {
     "name": "stdout",
     "output_type": "stream",
     "text": [
      "0.04527404487894542\n",
      "0.04527404487894544\n"
     ]
    }
   ],
   "source": [
    "# adjsut optimal portfolio to have the same volatility as the market\n",
    "\n",
    "constantfactor=MKT.std()/Optimalportfolio.std()\n",
    "\n",
    "Optimalportfolio_l=Optimalportfolio*constantfactor\n",
    "\n",
    "print(Optimalportfolio_l.std())\n",
    "print(MKT.std())"
   ]
  },
  {
   "cell_type": "code",
   "execution_count": 30,
   "metadata": {
    "colab": {
     "base_uri": "https://localhost:8080/",
     "height": 265
    },
    "colab_type": "code",
    "executionInfo": {
     "elapsed": 1117,
     "status": "ok",
     "timestamp": 1577476135574,
     "user": {
      "displayName": "yuchi yao",
      "photoUrl": "",
      "userId": "00457884373990713813"
     },
     "user_tz": 300
    },
    "id": "1NhVzevJPAgA",
    "outputId": "6a8f13e1-997d-4d21-b9d8-88005ba6cbdd"
   },
   "outputs": [
    {
     "data": {
      "image/png": "[encoded data removed]",
      "text/plain": [
       "<Figure size 432x288 with 1 Axes>"
      ]
     },
     "metadata": {
      "needs_background": "light"
     },
     "output_type": "display_data"
    }
   ],
   "source": [
    "(Optimalportfolio_l+1).cumprod().plot()\n",
    "(MKT+1).cumprod().plot()\n",
    "plt.legend(['optimal','MKT'])\n",
    "plt.show()"
   ]
  },
  {
   "cell_type": "markdown",
   "metadata": {
    "colab_type": "text",
    "id": "H16X6NspdidB"
   },
   "source": [
    "* Bear in mind that the above result is in-sample. You always need to think about what the out-of-sample results will be."
   ]
  },
  {
   "cell_type": "markdown",
   "metadata": {},
   "source": [
    "_____\n",
    "- We can now compute the SR of this optimal portfolio.\n",
    "\n",
    "- If our formula for maximum SR was correct it should match it's value"
   ]
  },
  {
   "cell_type": "code",
   "execution_count": 31,
   "metadata": {},
   "outputs": [
    {
     "name": "stdout",
     "output_type": "stream",
     "text": [
      "0.6437898007776852\n"
     ]
    }
   ],
   "source": [
    "# (1) empirical formula\n",
    "print(Optimalportfolio.mean()/Optimalportfolio.std()*12**0.5)\n"
   ]
  },
  {
   "cell_type": "markdown",
   "metadata": {},
   "source": [
    "# Lecture 12/8 ended here"
   ]
  },
  {
   "cell_type": "markdown",
   "metadata": {
    "colab_type": "text",
    "id": "iNueZG2rdidG"
   },
   "source": [
    "_______________\n",
    "## Bonus box\n",
    "#### Data mining considerations are always key in quant investing\n",
    "\n",
    "You have data up to 2002 and want to hedge market exposure on your trading strategy going forward\n",
    "\n",
    "You run a time-series regression using the entire sample and find your strategy had a beta of 0.7\n",
    "\n",
    "Does shorting 0.7*market portfolio guarantee that your strategy will have zero beta going forward?\n",
    "\n",
    "Only if:\n",
    "\n",
    "\n",
    " - The beta of the strategy does not change and\n",
    " - Your estimate is very close to the true beta\n",
    " \n",
    "\n",
    "**True value added is in finding techniques that work well out of sample. In data that the algorithm did not use**\n",
    "\n",
    "- There are lots of techiniques htat are developed to find more **robust** estimates\n",
    "- But that is as much art as science. It requires constant fine-tuning"
   ]
  },
  {
   "cell_type": "code",
   "execution_count": 95,
   "metadata": {},
   "outputs": [
    {
     "data": {
      "text/html": [
       "<table class=\"simpletable\">\n",
       "<caption>OLS Regression Results</caption>\n",
       "<tr>\n",
       "  <th>Dep. Variable:</th>            <td>y</td>        <th>  R-squared:         </th> <td>   0.272</td>\n",
       "</tr>\n",
       "<tr>\n",
       "  <th>Model:</th>                   <td>OLS</td>       <th>  Adj. R-squared:    </th> <td>   0.268</td>\n",
       "</tr>\n",
       "<tr>\n",
       "  <th>Method:</th>             <td>Least Squares</td>  <th>  F-statistic:       </th> <td>   64.40</td>\n",
       "</tr>\n",
       "<tr>\n",
       "  <th>Date:</th>             <td>Wed, 02 Dec 2020</td> <th>  Prob (F-statistic):</th> <td>1.52e-13</td>\n",
       "</tr>\n",
       "<tr>\n",
       "  <th>Time:</th>                 <td>09:43:23</td>     <th>  Log-Likelihood:    </th> <td>  333.97</td>\n",
       "</tr>\n",
       "<tr>\n",
       "  <th>No. Observations:</th>      <td>   174</td>      <th>  AIC:               </th> <td>  -663.9</td>\n",
       "</tr>\n",
       "<tr>\n",
       "  <th>Df Residuals:</th>          <td>   172</td>      <th>  BIC:               </th> <td>  -657.6</td>\n",
       "</tr>\n",
       "<tr>\n",
       "  <th>Df Model:</th>              <td>     1</td>      <th>                     </th>     <td> </td>   \n",
       "</tr>\n",
       "<tr>\n",
       "  <th>Covariance Type:</th>      <td>nonrobust</td>    <th>                     </th>     <td> </td>   \n",
       "</tr>\n",
       "</table>\n",
       "<table class=\"simpletable\">\n",
       "<tr>\n",
       "    <td></td>       <th>coef</th>     <th>std err</th>      <th>t</th>      <th>P>|t|</th>  <th>[0.025</th>    <th>0.975]</th>  \n",
       "</tr>\n",
       "<tr>\n",
       "  <th>const</th> <td>   -0.0034</td> <td>    0.003</td> <td>   -1.219</td> <td> 0.225</td> <td>   -0.009</td> <td>    0.002</td>\n",
       "</tr>\n",
       "<tr>\n",
       "  <th>MKT</th>   <td>    0.5432</td> <td>    0.068</td> <td>    8.025</td> <td> 0.000</td> <td>    0.410</td> <td>    0.677</td>\n",
       "</tr>\n",
       "</table>\n",
       "<table class=\"simpletable\">\n",
       "<tr>\n",
       "  <th>Omnibus:</th>       <td>49.570</td> <th>  Durbin-Watson:     </th> <td>   1.858</td>\n",
       "</tr>\n",
       "<tr>\n",
       "  <th>Prob(Omnibus):</th> <td> 0.000</td> <th>  Jarque-Bera (JB):  </th> <td> 175.626</td>\n",
       "</tr>\n",
       "<tr>\n",
       "  <th>Skew:</th>          <td> 1.061</td> <th>  Prob(JB):          </th> <td>7.30e-39</td>\n",
       "</tr>\n",
       "<tr>\n",
       "  <th>Kurtosis:</th>      <td> 7.441</td> <th>  Cond. No.          </th> <td>    25.0</td>\n",
       "</tr>\n",
       "</table><br/><br/>Warnings:<br/>[1] Standard Errors assume that the covariance matrix of the errors is correctly specified."
      ],
      "text/plain": [
       "<class 'statsmodels.iolib.summary.Summary'>\n",
       "\"\"\"\n",
       "                            OLS Regression Results                            \n",
       "==============================================================================\n",
       "Dep. Variable:                      y   R-squared:                       0.272\n",
       "Model:                            OLS   Adj. R-squared:                  0.268\n",
       "Method:                 Least Squares   F-statistic:                     64.40\n",
       "Date:                Wed, 02 Dec 2020   Prob (F-statistic):           1.52e-13\n",
       "Time:                        09:43:23   Log-Likelihood:                 333.97\n",
       "No. Observations:                 174   AIC:                            -663.9\n",
       "Df Residuals:                     172   BIC:                            -657.6\n",
       "Df Model:                           1                                         \n",
       "Covariance Type:            nonrobust                                         \n",
       "==============================================================================\n",
       "                 coef    std err          t      P>|t|      [0.025      0.975]\n",
       "------------------------------------------------------------------------------\n",
       "const         -0.0034      0.003     -1.219      0.225      -0.009       0.002\n",
       "MKT            0.5432      0.068      8.025      0.000       0.410       0.677\n",
       "==============================================================================\n",
       "Omnibus:                       49.570   Durbin-Watson:                   1.858\n",
       "Prob(Omnibus):                  0.000   Jarque-Bera (JB):              175.626\n",
       "Skew:                           1.061   Prob(JB):                     7.30e-39\n",
       "Kurtosis:                       7.441   Cond. No.                         25.0\n",
       "==============================================================================\n",
       "\n",
       "Warnings:\n",
       "[1] Standard Errors assume that the covariance matrix of the errors is correctly specified.\n",
       "\"\"\""
      ]
     },
     "execution_count": 95,
     "metadata": {},
     "output_type": "execute_result"
    }
   ],
   "source": [
    "# estimation sample\n",
    "b='1963'\n",
    "e='2002'\n",
    "TSresults=TSregression(Re[b:e])\n",
    "MKT=Re.loc[b:e,'MKT']\n",
    "Tracking=MKT*TSresults.loc['BEME10','beta']\n",
    "Hedged=Re.loc[b:e,'BEME10']-Tracking\n",
    "\n",
    "# testing sample\n",
    "b='2003'\n",
    "MKT=Re.loc[b:,'MKT']\n",
    "# cosntruct traching using estiamtion sample beta!\n",
    "Tracking=MKT*TSresults.loc['BEME10','beta']\n",
    "# construct hedged\n",
    "Hedged=Re.loc[b:,'BEME10']-Tracking\n",
    "x= sm.add_constant(MKT)\n",
    "y= Hedged\n",
    "results= sm.OLS(y,x).fit()\n",
    "results.summary()"
   ]
  },
  {
   "cell_type": "code",
   "execution_count": 96,
   "metadata": {},
   "outputs": [
    {
     "data": {
      "text/plain": [
       "1.0174675347317637"
      ]
     },
     "execution_count": 96,
     "metadata": {},
     "output_type": "execute_result"
    }
   ],
   "source": [
    "# compares with the original beta of the portfolio\n",
    "TSresults.loc['BEME10','beta']"
   ]
  },
  {
   "cell_type": "markdown",
   "metadata": {},
   "source": [
    "**Same thing applies to the alpha**\n",
    "\n",
    "When we construct the optimal weights we are relying on the stability of the covaraince matrix ( the betas) and also on the fact that we are getting average returns of the strategy righ, so that the alphas that we estimate reflect the truth\n",
    "\n",
    "So same Uncertianty issues that we explored in the context of the means of different portfolios in notebook 5 are also going to have implications for our uncertianty about the alpha.\n",
    "\n"
   ]
  },
  {
   "cell_type": "code",
   "execution_count": 51,
   "metadata": {},
   "outputs": [
    {
     "data": {
      "image/png": "[encoded data removed]",
      "text/plain": [
       "<Figure size 432x288 with 1 Axes>"
      ]
     },
     "metadata": {
      "needs_background": "light"
     },
     "output_type": "display_data"
    }
   ],
   "source": [
    "# estimation/training sample\n",
    "b='1963'\n",
    "e='2002'\n",
    "TSresults=TSregression(Re[b:e])\n",
    "MKT=Re.loc[b:e,'MKT']\n",
    "Tracking=MKT*TSresults.loc['BEME10','beta']\n",
    "Hedged=Re.loc[b:e,'BEME10']-Tracking\n",
    "W=np.array([MKT.mean()/MKT.var(),Hedged.mean()/Hedged.var()])\n",
    "\n",
    "Optimalportfolio=W[0]*MKT+W[1]*Hedged\n",
    "constantfactor=MKT.std()/Optimalportfolio.std()\n",
    "W=W*constantfactor\n",
    "\n",
    "# Testing sample\n",
    "b='2003'\n",
    "MKT=Re.loc[b:,'MKT']\n",
    "Tracking=MKT*TSresults.loc['BEME10','beta']\n",
    "Hedged=Re.loc[b:,'BEME10']-Tracking\n",
    "Optimalportfolio=(W[0]*MKT+W[1]*Hedged)\n",
    "# adjust optimal portfolio to have the same volatility as the market\n",
    "(Optimalportfolio+1).cumprod().plot()\n",
    "(MKT+1).cumprod().plot()\n",
    "plt.legend(['optimal','MKT'])\n",
    "plt.show()"
   ]
  },
  {
   "cell_type": "markdown",
   "metadata": {},
   "source": [
    "**optimal portfolio dramatically underperformed the market out of sample**\n",
    "\n",
    "Not surprising! We saw before that the out of sample alphas of the hedge portfolio were negative!\n",
    "\n",
    "Since the optimal portfolio used the training sample alphas (which were very positive), it had positive weights on it\n",
    "\n",
    "\n",
    "**This should be a big caution**\n",
    "\n",
    "If you had opened a fund in 2002 implementing this strategy, now you would have undeperformed the market fo 14 years!\n",
    "\n",
    "-------------------------------------"
   ]
  },
  {
   "cell_type": "markdown",
   "metadata": {},
   "source": [
    "# Interpretating  Factor models\n",
    "\n",
    "## The academic view\n",
    "\n",
    "- Factor models are models that describe how risk is priced in the economy\n",
    "\n",
    "- When you test a model, i.e., run a time-series regression you are testing if that model describes the risk-return trade-off in the economy\n",
    "\n",
    "- This a simultaneous test of (1) the proposed model and (2) whether markets are efficient\n",
    "\n",
    "- What does market efficiency means?\n",
    "\n",
    "- When you find an alpha that is statistically different from zero, you either\n",
    "   \n",
    "   1. reject the model\n",
    "   2. reject that markets are efficient\n",
    "   3. Or both\n",
    "   \n",
    "- **What you do with your portfolio really depends on what you believe**\n",
    "\n",
    "- If (2)--markets are inneficient-- then it is pretty clear what you should do. You should load on this \"anomaly\" because you believe that model describe how risk should be priced. So this alpha is mispricing. It is NOT a 100 dollar bill on the floor, becasue harvesting alpha is risky, but the higher the Appraisal ratio the more it * *looks* * like a 100 dollars bill. (An Arbitrage opportunity is the limit where this Appraisal ratio grows to infinity)\n",
    "    - In this (2) case you simply take into account the volatility and the comovement of the hedging portfolio with your portfolio\n",
    "\n",
    "- If (1) and you reject the model. Now it is not so clear what you should do. Because you do have a view on what the proper model of risk and return is. So you don't know if this alpha is proper compensation for risks that you dot know. You might investigate and add this hedged portfolio as a factor if you think it captures some dimensions of risks that are important and not captured by your original model \n",
    "     - For example there is tons of wealth that is not traded in the stock market: housing, private business,your human capital, firms that have not being born yet\n",
    "     - It can be capturing risks associated with the banking sector like financial crisis, which might not be fully reflected in the stock market\n",
    "     - The factor can be caputring exposure to such risks and therefore it is a much more subtle question of whether you think your appetite for this risk is higher that the price of it (the appraisal ratio)\n",
    "\n",
    "- **So after an rejection you need to do a post-morten to understand if you are in (1) or (2) and if you are in (1) what exactly is the kind of risk you are talkign about**\n",
    "\n",
    "\n",
    "\n",
    "## The Practicioner view\n",
    "\n",
    "- Factor models are used to describe invesestment strategies that are well known\n",
    "\n",
    "- Much less thought (incorrectly, imo) is given why these strategies work\n",
    "\n",
    "- For example: you add a value factor to your factor model (so a multi-factor model with  MKT and Value) not because you are taking a stand on the correct model, but simply to show that your strategy can add value even to someone that already has exposure to the market and the value factor. If your strategy has alpha, then you can claim that such investor can boost his Sharpe ratio by investing at least a bit in your strategy. The CAPM alpha by itself only answers this question for someone that has only an allocation to the market.\n",
    "\n",
    "- So factors are used as a way to \"summarize\" some general risk-return feaures of the stock market (or any asset market), and by using these set of factors as \"benchmarks\" you can cleanly show your value added.\n",
    "\n",
    "- The good practioner must have an understanding of where this alpha come from\n",
    "\n",
    "   - What are the mistakes that people are making?\n",
    "   - Why this persists?\n",
    "   - How would I be able to tell if this trade got \"crowded\" and will disappear going forward?\n",
    "   - Having a theory that is plausible and make sense is another way to guard agaisnt estiamtion uncertainty and data mining bias that we are always exposed to\n",
    "\n",
    "\n",
    "\n"
   ]
  },
  {
   "cell_type": "markdown",
   "metadata": {
    "colab_type": "text",
    "id": "bzWl3blrhHrz"
   },
   "source": [
    "\n",
    "## Investors\n",
    "\n",
    "But of course an investor must in the end take a stand on (1) vs (2). If a practiciner comes pitching a large alpha, then must be convinced that this is not fair compensation for some risk that he/she is unaware\n",
    "\n",
    "### Equilibrium thinking shoudl be used to to guard against estimation uncertainty (the in-sample vs out-sample problem)\n",
    "\n",
    "* Not everyone can invest in the higher expected return assets\n",
    "* If we were all to invest in the higher expected return assets, prices would go up and expected returns would go down\n",
    "* Imposing equilibrium– that is:\n",
    "  * Assume all investors in the world are choosing optimal portfolios, \n",
    "  * Then solve for the expected returns that make all the assets in the world be held\n",
    "  * This is imposing equilibrium: since all assets must be held, and investors must want to hold them\n",
    "  * Then expected returns have to adjust so everyone is happy and all assets are held\n",
    "      \n",
    "## Equilibrium in asset markets\n",
    "\n",
    "* Fundamental Question: \n",
    "  >If everybody wants higher returns, why some assets earn higher average returns than others? Or why the tangency portfolio has larger positions in some assets than other assets?\n",
    "\n",
    "* Finance theory: because these assets have low returns in bad times\n",
    "  >What are bad times?\n",
    "  \n",
    "  >How much more extra expected return to experience low returns during bad times? \n",
    "\n",
    "\n",
    "### The general answer\n",
    "\n",
    "* Investors' preferences, fears , and background risk exposures will aggregate to some notion of bad times\n",
    "\n",
    "* Assets that pay poorly during these periods will earn higher returns per unit of volatility, i.e. will have high Sharpe ratios and be in the tangency portfolio with a large weight\n",
    "\n",
    "* Assets that pay well during bad times, good hedges, will earn lower returns, possibly negative, and will be in the tangency portfolio with a negative weight\n",
    "\n",
    "* CAPM is a particular case of this general framework where the market return summarizes how bad the times are\n",
    "\n",
    "\n",
    "## The CAPM (again)\n",
    "\n",
    "* The Wealth portfolio is the tangency portfolio\n",
    "\n",
    "* The return on the wealth portfolio summarizes how Bad the times are\n",
    "\n",
    "* Assets that co-vary more with the market must earn higher returns\n",
    "\n",
    "* They pay poorly exactly when things are worse\n",
    "\n",
    "* What is the wealth portfolio? It is the portfolio that holds all assets in proportion to their value\n",
    "\n",
    "* We often use the equity market as a proxy for this, but that is not the CAPM\n",
    "\n",
    "* In a way that CAPM is untestable because it is impossible to construct the true wealth portfolio\n",
    "\n",
    "\n",
    "$$E[R_t^i-R_t^f]=\\beta_{i,mkt}E[R^{mkt}_t-R^f_t]$$\n",
    "\n",
    "\n",
    "\n",
    "## Multi-factor models\n",
    "\n",
    "\n",
    "  * APT: Arbitrage Price Theory\n",
    "  * ICAPM: Intertemporal Capital Asset Pricing Model\n",
    "\n",
    "* These models make less restrictive assumptions and predict that we will need additional factors beyond the market to \"span\" the tangency portfolio\n",
    "\n",
    "* What does \"span\" mean?\n",
    "\n",
    "\n",
    "\n",
    "$$E[R_t^i-R_t^f]=\\beta_{i,mkt}E[R^{mkt}_t-R^f_t]+\\sum_{j=1}^J\\beta_{i,j}E[Factor_j]$$\n",
    "\n",
    "\n",
    "- It is basically the same as before, but now we run a multivariate regression\n",
    "\n",
    "  $$R_{i,t}=\\alpha_i+\\beta_{mkt}R^{mkt}_t+\\beta_1 Factor_1+\\beta_2 Factor_2+\\beta_3 Factor_3+....+\\beta_n Factor_n+\\epsilon_{i,t}$$\n",
    "\n",
    "- As long as the factors **are also excess returns**, the time-series alpha test is still valid and indentical as before.\n",
    "\n",
    "- You can do single asset tests and simply use the alpha t-stat to test the model\n",
    "\n",
    "- Everything that we discussed with the hedging/tracking portfolios apply here as well, but now\n",
    "\n",
    "$$Hedged_{i,t}=R_{i,t}-(\\beta_{mkt}R^{mkt}_t+\\beta_1 Factor_1+\\beta_2 Factor_2+\\beta_3 Factor_3+....+\\beta_n Factor_n)$$\n",
    "\n",
    "where $(\\beta_{mkt}R^{mkt}_t+\\beta_1 Factor_1+\\beta_2 Factor_2+\\beta_3 Factor_3+....+\\beta_n Factor_n)$ is the tracking portfolio\n",
    "\n",
    "- You guys already learned Multi-factor theory (from Prof. Liu), but I will briefly discuss this next class as well.\n"
   ]
  },
  {
   "cell_type": "markdown",
   "metadata": {
    "colab_type": "text",
    "id": "LRIHdlK93MQF"
   },
   "source": [
    "## Time-series test for multi-factor models"
   ]
  },
  {
   "cell_type": "code",
   "execution_count": 32,
   "metadata": {
    "colab": {
     "base_uri": "https://localhost:8080/",
     "height": 235
    },
    "colab_type": "code",
    "executionInfo": {
     "elapsed": 1900,
     "status": "ok",
     "timestamp": 1577476296295,
     "user": {
      "displayName": "yuchi yao",
      "photoUrl": "",
      "userId": "00457884373990713813"
     },
     "user_tz": 300
    },
    "id": "c5yPE2q8didx",
    "outputId": "9689e448-2d2b-4f6f-cfa6-6123fd4bcbad"
   },
   "outputs": [
    {
     "data": {
      "text/html": [
       "<div>\n",
       "<style scoped>\n",
       "    .dataframe tbody tr th:only-of-type {\n",
       "        vertical-align: middle;\n",
       "    }\n",
       "\n",
       "    .dataframe tbody tr th {\n",
       "        vertical-align: top;\n",
       "    }\n",
       "\n",
       "    .dataframe thead th {\n",
       "        text-align: right;\n",
       "    }\n",
       "</style>\n",
       "<table border=\"1\" class=\"dataframe\">\n",
       "  <thead>\n",
       "    <tr style=\"text-align: right;\">\n",
       "      <th></th>\n",
       "      <th>HML</th>\n",
       "      <th>SMB</th>\n",
       "    </tr>\n",
       "    <tr>\n",
       "      <th>Date</th>\n",
       "      <th></th>\n",
       "      <th></th>\n",
       "    </tr>\n",
       "  </thead>\n",
       "  <tbody>\n",
       "    <tr>\n",
       "      <th>1926-07-31</th>\n",
       "      <td>-0.0287</td>\n",
       "      <td>-0.0230</td>\n",
       "    </tr>\n",
       "    <tr>\n",
       "      <th>1926-08-31</th>\n",
       "      <td>0.0419</td>\n",
       "      <td>-0.0140</td>\n",
       "    </tr>\n",
       "    <tr>\n",
       "      <th>1926-09-30</th>\n",
       "      <td>0.0001</td>\n",
       "      <td>-0.0132</td>\n",
       "    </tr>\n",
       "    <tr>\n",
       "      <th>1926-10-31</th>\n",
       "      <td>0.0051</td>\n",
       "      <td>0.0004</td>\n",
       "    </tr>\n",
       "    <tr>\n",
       "      <th>1926-11-30</th>\n",
       "      <td>-0.0035</td>\n",
       "      <td>-0.0020</td>\n",
       "    </tr>\n",
       "  </tbody>\n",
       "</table>\n",
       "</div>"
      ],
      "text/plain": [
       "               HML     SMB\n",
       "Date                      \n",
       "1926-07-31 -0.0287 -0.0230\n",
       "1926-08-31  0.0419 -0.0140\n",
       "1926-09-30  0.0001 -0.0132\n",
       "1926-10-31  0.0051  0.0004\n",
       "1926-11-30 -0.0035 -0.0020"
      ]
     },
     "execution_count": 32,
     "metadata": {},
     "output_type": "execute_result"
    }
   ],
   "source": [
    "url = \"https://www.dropbox.com/s/9346pp2iu5prv8s/MonthlyFactors.csv?dl=1\"\n",
    "Factors = pd.read_csv(url,index_col=0, \n",
    "                         parse_dates=True,na_values=-99)\n",
    "Factors=Factors/100\n",
    "# keep factors needed\n",
    "Factors=Factors[['HML','SMB']]\n",
    "Factors.head()"
   ]
  },
  {
   "cell_type": "code",
   "execution_count": 33,
   "metadata": {
    "colab": {
     "base_uri": "https://localhost:8080/",
     "height": 255
    },
    "colab_type": "code",
    "executionInfo": {
     "elapsed": 1354,
     "status": "ok",
     "timestamp": 1577476303569,
     "user": {
      "displayName": "yuchi yao",
      "photoUrl": "",
      "userId": "00457884373990713813"
     },
     "user_tz": 300
    },
    "id": "IEdqCcTSdid0",
    "outputId": "1afdd2ee-c30a-4be4-89ee-4f025e1b3d0c"
   },
   "outputs": [
    {
     "data": {
      "text/plain": [
       "BEME1     0.005859\n",
       "BEME2     0.006873\n",
       "BEME3     0.006907\n",
       "BEME4     0.006643\n",
       "BEME5     0.007234\n",
       "BEME6     0.007923\n",
       "BEME7     0.007247\n",
       "BEME8     0.009139\n",
       "BEME9     0.010582\n",
       "BEME10    0.010701\n",
       "MKT       0.006567\n",
       "HML       0.003881\n",
       "SMB       0.002101\n",
       "dtype: float64"
      ]
     },
     "execution_count": 33,
     "metadata": {},
     "output_type": "execute_result"
    }
   ],
   "source": [
    "df=pd.merge(Re,Factors,left_index=True,right_index=True)\n",
    "# no need to take out risk-free rate because these factors are already excess returns\n",
    "df.mean()"
   ]
  },
  {
   "cell_type": "markdown",
   "metadata": {
    "colab_type": "text",
    "id": "Eh4nHWPj6k0N"
   },
   "source": [
    "### Two-factor model"
   ]
  },
  {
   "cell_type": "code",
   "execution_count": 36,
   "metadata": {},
   "outputs": [
    {
     "data": {
      "text/plain": [
       "0.056815000000000025"
      ]
     },
     "execution_count": 36,
     "metadata": {},
     "output_type": "execute_result"
    }
   ],
   "source": [
    "df.HML.mean()*12"
   ]
  },
  {
   "cell_type": "code",
   "execution_count": 35,
   "metadata": {
    "colab": {
     "base_uri": "https://localhost:8080/",
     "height": 71
    },
    "colab_type": "code",
    "executionInfo": {
     "elapsed": 956,
     "status": "ok",
     "timestamp": 1577476747475,
     "user": {
      "displayName": "yuchi yao",
      "photoUrl": "",
      "userId": "00457884373990713813"
     },
     "user_tz": 300
    },
    "id": "2jWJJVHkdid3",
    "outputId": "dc9213ea-002d-40c4-d44b-81981f6b8a78"
   },
   "outputs": [
    {
     "data": {
      "text/html": [
       "<div>\n",
       "<style scoped>\n",
       "    .dataframe tbody tr th:only-of-type {\n",
       "        vertical-align: middle;\n",
       "    }\n",
       "\n",
       "    .dataframe tbody tr th {\n",
       "        vertical-align: top;\n",
       "    }\n",
       "\n",
       "    .dataframe thead th {\n",
       "        text-align: right;\n",
       "    }\n",
       "</style>\n",
       "<table border=\"1\" class=\"dataframe\">\n",
       "  <thead>\n",
       "    <tr style=\"text-align: right;\">\n",
       "      <th></th>\n",
       "      <th>avg</th>\n",
       "      <th>alpha</th>\n",
       "      <th>talpha</th>\n",
       "      <th>betamkt</th>\n",
       "      <th>tbetamkt</th>\n",
       "      <th>betahml</th>\n",
       "      <th>tbetahml</th>\n",
       "    </tr>\n",
       "  </thead>\n",
       "  <tbody>\n",
       "    <tr>\n",
       "      <th>BEME1</th>\n",
       "      <td>0.003225</td>\n",
       "      <td>0.001393</td>\n",
       "      <td>2.109877</td>\n",
       "      <td>0.967143</td>\n",
       "      <td>52.119242</td>\n",
       "      <td>-0.507248</td>\n",
       "      <td>-14.597779</td>\n",
       "    </tr>\n",
       "    <tr>\n",
       "      <th>BEME2</th>\n",
       "      <td>0.004858</td>\n",
       "      <td>0.000885</td>\n",
       "      <td>1.388941</td>\n",
       "      <td>1.004520</td>\n",
       "      <td>60.156797</td>\n",
       "      <td>-0.089476</td>\n",
       "      <td>-2.423715</td>\n",
       "    </tr>\n",
       "    <tr>\n",
       "      <th>BEME3</th>\n",
       "      <td>0.004672</td>\n",
       "      <td>-0.000260</td>\n",
       "      <td>-0.378600</td>\n",
       "      <td>1.030771</td>\n",
       "      <td>52.346628</td>\n",
       "      <td>0.088867</td>\n",
       "      <td>2.122085</td>\n",
       "    </tr>\n",
       "    <tr>\n",
       "      <th>BEME4</th>\n",
       "      <td>0.004645</td>\n",
       "      <td>-0.000993</td>\n",
       "      <td>-1.187726</td>\n",
       "      <td>1.024028</td>\n",
       "      <td>46.748675</td>\n",
       "      <td>0.244269</td>\n",
       "      <td>5.454014</td>\n",
       "    </tr>\n",
       "    <tr>\n",
       "      <th>BEME5</th>\n",
       "      <td>0.004529</td>\n",
       "      <td>-0.001320</td>\n",
       "      <td>-1.538633</td>\n",
       "      <td>0.965618</td>\n",
       "      <td>46.760283</td>\n",
       "      <td>0.342533</td>\n",
       "      <td>7.335649</td>\n",
       "    </tr>\n",
       "    <tr>\n",
       "      <th>BEME6</th>\n",
       "      <td>0.006041</td>\n",
       "      <td>-0.000452</td>\n",
       "      <td>-0.591644</td>\n",
       "      <td>0.966994</td>\n",
       "      <td>49.114372</td>\n",
       "      <td>0.477469</td>\n",
       "      <td>11.638150</td>\n",
       "    </tr>\n",
       "    <tr>\n",
       "      <th>BEME7</th>\n",
       "      <td>0.006531</td>\n",
       "      <td>-0.000669</td>\n",
       "      <td>-0.939706</td>\n",
       "      <td>1.010890</td>\n",
       "      <td>45.301070</td>\n",
       "      <td>0.586068</td>\n",
       "      <td>16.803902</td>\n",
       "    </tr>\n",
       "    <tr>\n",
       "      <th>BEME8</th>\n",
       "      <td>0.007318</td>\n",
       "      <td>-0.000066</td>\n",
       "      <td>-0.100727</td>\n",
       "      <td>1.013915</td>\n",
       "      <td>57.730463</td>\n",
       "      <td>0.622277</td>\n",
       "      <td>16.044578</td>\n",
       "    </tr>\n",
       "    <tr>\n",
       "      <th>BEME9</th>\n",
       "      <td>0.007988</td>\n",
       "      <td>0.000035</td>\n",
       "      <td>0.045016</td>\n",
       "      <td>1.090035</td>\n",
       "      <td>53.741509</td>\n",
       "      <td>0.672105</td>\n",
       "      <td>18.675487</td>\n",
       "    </tr>\n",
       "    <tr>\n",
       "      <th>BEME10</th>\n",
       "      <td>0.009536</td>\n",
       "      <td>0.000369</td>\n",
       "      <td>0.332300</td>\n",
       "      <td>1.224648</td>\n",
       "      <td>37.043688</td>\n",
       "      <td>0.804089</td>\n",
       "      <td>13.605419</td>\n",
       "    </tr>\n",
       "  </tbody>\n",
       "</table>\n",
       "</div>"
      ],
      "text/plain": [
       "             avg     alpha    talpha   betamkt   tbetamkt   betahml   tbetahml\n",
       "BEME1   0.003225  0.001393  2.109877  0.967143  52.119242 -0.507248 -14.597779\n",
       "BEME2   0.004858  0.000885  1.388941  1.004520  60.156797 -0.089476  -2.423715\n",
       "BEME3   0.004672 -0.000260 -0.378600  1.030771  52.346628  0.088867   2.122085\n",
       "BEME4   0.004645 -0.000993 -1.187726  1.024028  46.748675  0.244269   5.454014\n",
       "BEME5   0.004529 -0.001320 -1.538633  0.965618  46.760283  0.342533   7.335649\n",
       "BEME6   0.006041 -0.000452 -0.591644  0.966994  49.114372  0.477469  11.638150\n",
       "BEME7   0.006531 -0.000669 -0.939706  1.010890  45.301070  0.586068  16.803902\n",
       "BEME8   0.007318 -0.000066 -0.100727  1.013915  57.730463  0.622277  16.044578\n",
       "BEME9   0.007988  0.000035  0.045016  1.090035  53.741509  0.672105  18.675487\n",
       "BEME10  0.009536  0.000369  0.332300  1.224648  37.043688  0.804089  13.605419"
      ]
     },
     "execution_count": 35,
     "metadata": {},
     "output_type": "execute_result"
    }
   ],
   "source": [
    "# initiate a data frame with row labels given by the 10 portfolios and the columns of the moments that we will estimate\n",
    "df=df['1963':'2002']\n",
    "names=df.drop(['MKT','HML','SMB'],axis=1).columns\n",
    "FF2=pd.DataFrame([],index=names,\\\n",
    "                 columns=['avg','alpha','talpha','betamkt','tbetamkt','betahml','tbetahml']) \n",
    "\n",
    "\n",
    "# create empty dataframe to store residual\n",
    "# FF2Resid=df.drop(['MKT','HML','SMB'],axis=1).copy()\n",
    "# FF2Resid.loc[:,:]=np.nan\n",
    "\n",
    "#store avg return\n",
    "FF2['avg']=df.drop(['MKT','HML','SMB'],axis=1).mean()\n",
    "\n",
    "for portfolio in FF2.index:\n",
    "    y=df[portfolio]\n",
    "    \n",
    "    x=df[['MKT','HML']]\n",
    "    x=sm.add_constant(x)\n",
    "    results = sm.OLS(y,x).fit()\n",
    "    FF2.at[portfolio,['alpha','betamkt','betahml']]=results.params.values\n",
    "    FF2.at[portfolio,['talpha','tbetamkt','tbetahml']]=(results.params/results.HC0_se).values\n",
    "#     FF2Resid[portfolio]=results.resid\n",
    "    \n",
    "FF2=FF2.astype('float')  \n",
    "FF2"
   ]
  },
  {
   "cell_type": "code",
   "execution_count": 71,
   "metadata": {},
   "outputs": [
    {
     "data": {
      "text/html": [
       "<div>\n",
       "<style scoped>\n",
       "    .dataframe tbody tr th:only-of-type {\n",
       "        vertical-align: middle;\n",
       "    }\n",
       "\n",
       "    .dataframe tbody tr th {\n",
       "        vertical-align: top;\n",
       "    }\n",
       "\n",
       "    .dataframe thead th {\n",
       "        text-align: right;\n",
       "    }\n",
       "</style>\n",
       "<table border=\"1\" class=\"dataframe\">\n",
       "  <thead>\n",
       "    <tr style=\"text-align: right;\">\n",
       "      <th></th>\n",
       "      <th>AvgReturns</th>\n",
       "      <th>std</th>\n",
       "      <th>alpha</th>\n",
       "      <th>std_e</th>\n",
       "      <th>beta</th>\n",
       "      <th>std_beta</th>\n",
       "      <th>std_alpha</th>\n",
       "      <th>pvalues</th>\n",
       "      <th>t-stat</th>\n",
       "    </tr>\n",
       "  </thead>\n",
       "  <tbody>\n",
       "    <tr>\n",
       "      <th>BEME1</th>\n",
       "      <td>0.003225</td>\n",
       "      <td>0.053380</td>\n",
       "      <td>-0.001581</td>\n",
       "      <td>0.019468</td>\n",
       "      <td>1.097840</td>\n",
       "      <td>0.024294</td>\n",
       "      <td>0.000890</td>\n",
       "      <td>0.077605</td>\n",
       "      <td>-1.776274</td>\n",
       "    </tr>\n",
       "    <tr>\n",
       "      <th>BEME2</th>\n",
       "      <td>0.004858</td>\n",
       "      <td>0.048438</td>\n",
       "      <td>0.000361</td>\n",
       "      <td>0.013486</td>\n",
       "      <td>1.027575</td>\n",
       "      <td>0.017492</td>\n",
       "      <td>0.000623</td>\n",
       "      <td>0.560573</td>\n",
       "      <td>0.578281</td>\n",
       "    </tr>\n",
       "    <tr>\n",
       "      <th>BEME3</th>\n",
       "      <td>0.004672</td>\n",
       "      <td>0.047969</td>\n",
       "      <td>0.000261</td>\n",
       "      <td>0.014794</td>\n",
       "      <td>1.007874</td>\n",
       "      <td>0.018809</td>\n",
       "      <td>0.000680</td>\n",
       "      <td>0.701190</td>\n",
       "      <td>0.383216</td>\n",
       "    </tr>\n",
       "    <tr>\n",
       "      <th>BEME4</th>\n",
       "      <td>0.004645</td>\n",
       "      <td>0.047198</td>\n",
       "      <td>0.000439</td>\n",
       "      <td>0.018285</td>\n",
       "      <td>0.961090</td>\n",
       "      <td>0.027117</td>\n",
       "      <td>0.000845</td>\n",
       "      <td>0.601501</td>\n",
       "      <td>0.519184</td>\n",
       "    </tr>\n",
       "    <tr>\n",
       "      <th>BEME5</th>\n",
       "      <td>0.004529</td>\n",
       "      <td>0.044331</td>\n",
       "      <td>0.000688</td>\n",
       "      <td>0.019683</td>\n",
       "      <td>0.877361</td>\n",
       "      <td>0.025995</td>\n",
       "      <td>0.000900</td>\n",
       "      <td>0.446583</td>\n",
       "      <td>0.764968</td>\n",
       "    </tr>\n",
       "    <tr>\n",
       "      <th>BEME6</th>\n",
       "      <td>0.006041</td>\n",
       "      <td>0.043503</td>\n",
       "      <td>0.002347</td>\n",
       "      <td>0.020797</td>\n",
       "      <td>0.843970</td>\n",
       "      <td>0.029767</td>\n",
       "      <td>0.000968</td>\n",
       "      <td>0.014305</td>\n",
       "      <td>2.424715</td>\n",
       "    </tr>\n",
       "    <tr>\n",
       "      <th>BEME7</th>\n",
       "      <td>0.006531</td>\n",
       "      <td>0.044530</td>\n",
       "      <td>0.002767</td>\n",
       "      <td>0.021618</td>\n",
       "      <td>0.859885</td>\n",
       "      <td>0.033048</td>\n",
       "      <td>0.000992</td>\n",
       "      <td>0.005514</td>\n",
       "      <td>2.790137</td>\n",
       "    </tr>\n",
       "    <tr>\n",
       "      <th>BEME8</th>\n",
       "      <td>0.007318</td>\n",
       "      <td>0.044255</td>\n",
       "      <td>0.003582</td>\n",
       "      <td>0.021566</td>\n",
       "      <td>0.853580</td>\n",
       "      <td>0.030030</td>\n",
       "      <td>0.000981</td>\n",
       "      <td>0.000328</td>\n",
       "      <td>3.650885</td>\n",
       "    </tr>\n",
       "    <tr>\n",
       "      <th>BEME9</th>\n",
       "      <td>0.007988</td>\n",
       "      <td>0.047929</td>\n",
       "      <td>0.003975</td>\n",
       "      <td>0.023961</td>\n",
       "      <td>0.916861</td>\n",
       "      <td>0.035320</td>\n",
       "      <td>0.001091</td>\n",
       "      <td>0.000334</td>\n",
       "      <td>3.644067</td>\n",
       "    </tr>\n",
       "    <tr>\n",
       "      <th>BEME10</th>\n",
       "      <td>0.009536</td>\n",
       "      <td>0.056103</td>\n",
       "      <td>0.005083</td>\n",
       "      <td>0.032025</td>\n",
       "      <td>1.017468</td>\n",
       "      <td>0.047329</td>\n",
       "      <td>0.001461</td>\n",
       "      <td>0.000594</td>\n",
       "      <td>3.479666</td>\n",
       "    </tr>\n",
       "    <tr>\n",
       "      <th>MKT</th>\n",
       "      <td>0.004377</td>\n",
       "      <td>0.045274</td>\n",
       "      <td>0.000000</td>\n",
       "      <td>0.000000</td>\n",
       "      <td>1.000000</td>\n",
       "      <td>0.000000</td>\n",
       "      <td>0.000000</td>\n",
       "      <td>NaN</td>\n",
       "      <td>NaN</td>\n",
       "    </tr>\n",
       "  </tbody>\n",
       "</table>\n",
       "</div>"
      ],
      "text/plain": [
       "        AvgReturns       std     alpha     std_e      beta  std_beta  \\\n",
       "BEME1     0.003225  0.053380 -0.001581  0.019468  1.097840  0.024294   \n",
       "BEME2     0.004858  0.048438  0.000361  0.013486  1.027575  0.017492   \n",
       "BEME3     0.004672  0.047969  0.000261  0.014794  1.007874  0.018809   \n",
       "BEME4     0.004645  0.047198  0.000439  0.018285  0.961090  0.027117   \n",
       "BEME5     0.004529  0.044331  0.000688  0.019683  0.877361  0.025995   \n",
       "BEME6     0.006041  0.043503  0.002347  0.020797  0.843970  0.029767   \n",
       "BEME7     0.006531  0.044530  0.002767  0.021618  0.859885  0.033048   \n",
       "BEME8     0.007318  0.044255  0.003582  0.021566  0.853580  0.030030   \n",
       "BEME9     0.007988  0.047929  0.003975  0.023961  0.916861  0.035320   \n",
       "BEME10    0.009536  0.056103  0.005083  0.032025  1.017468  0.047329   \n",
       "MKT       0.004377  0.045274  0.000000  0.000000  1.000000  0.000000   \n",
       "\n",
       "        std_alpha   pvalues    t-stat  \n",
       "BEME1    0.000890  0.077605 -1.776274  \n",
       "BEME2    0.000623  0.560573  0.578281  \n",
       "BEME3    0.000680  0.701190  0.383216  \n",
       "BEME4    0.000845  0.601501  0.519184  \n",
       "BEME5    0.000900  0.446583  0.764968  \n",
       "BEME6    0.000968  0.014305  2.424715  \n",
       "BEME7    0.000992  0.005514  2.790137  \n",
       "BEME8    0.000981  0.000328  3.650885  \n",
       "BEME9    0.001091  0.000334  3.644067  \n",
       "BEME10   0.001461  0.000594  3.479666  \n",
       "MKT      0.000000       NaN       NaN  "
      ]
     },
     "execution_count": 71,
     "metadata": {},
     "output_type": "execute_result"
    }
   ],
   "source": [
    "CAPM"
   ]
  },
  {
   "cell_type": "markdown",
   "metadata": {
    "colab_type": "text",
    "id": "jKAW6Ad9did7"
   },
   "source": [
    "- How to think about the CAPM alpha versus the multi-factor alpha? \n",
    "- Is there a more correct one?\n",
    "- Does adding a factor reduces \"mispricing\"?  what does that mean?\n"
   ]
  },
  {
   "cell_type": "code",
   "execution_count": 37,
   "metadata": {
    "colab": {
     "base_uri": "https://localhost:8080/",
     "height": 161
    },
    "colab_type": "code",
    "executionInfo": {
     "elapsed": 902,
     "status": "ok",
     "timestamp": 1577476760184,
     "user": {
      "displayName": "yuchi yao",
      "photoUrl": "",
      "userId": "00457884373990713813"
     },
     "user_tz": 300
    },
    "id": "sjwk64Jkdid8",
    "outputId": "2ee46a03-2a66-40af-e1dc-bc125052b394"
   },
   "outputs": [
    {
     "data": {
      "image/png": "[encoded data removed]",
      "text/plain": [
       "<Figure size 432x288 with 1 Axes>"
      ]
     },
     "metadata": {
      "needs_background": "light"
     },
     "output_type": "display_data"
    }
   ],
   "source": [
    "CAPM=TSresults.copy()\n",
    "fig = plt.figure()\n",
    "ax1 = plt.subplot(2,1,1)\n",
    "FF2.alpha.abs().plot(ax=ax1,style='o')\n",
    "CAPM.alpha.abs().plot(ax=ax1,style='o')\n",
    "\n",
    "plt.legend(['FF2','CAPM'])\n",
    "plt.ylabel('alpha') \n",
    "plt.xlabel('portfolios') \n",
    "plt.show()"
   ]
  },
  {
   "cell_type": "markdown",
   "metadata": {
    "colab_type": "text",
    "id": "OvIK07S37ZUo"
   },
   "source": [
    "______________________________________________\n",
    "\n",
    "### Bonus Box:  A Three-factor model"
   ]
  },
  {
   "cell_type": "code",
   "execution_count": 38,
   "metadata": {
    "colab": {
     "base_uri": "https://localhost:8080/",
     "height": 71
    },
    "colab_type": "code",
    "executionInfo": {
     "elapsed": 924,
     "status": "ok",
     "timestamp": 1577476798068,
     "user": {
      "displayName": "yuchi yao",
      "photoUrl": "",
      "userId": "00457884373990713813"
     },
     "user_tz": 300
    },
    "id": "yCxZoScD7dmX",
    "outputId": "b6579c13-7151-4b1f-d89c-03e76921d545"
   },
   "outputs": [
    {
     "data": {
      "text/html": [
       "<div>\n",
       "<style scoped>\n",
       "    .dataframe tbody tr th:only-of-type {\n",
       "        vertical-align: middle;\n",
       "    }\n",
       "\n",
       "    .dataframe tbody tr th {\n",
       "        vertical-align: top;\n",
       "    }\n",
       "\n",
       "    .dataframe thead th {\n",
       "        text-align: right;\n",
       "    }\n",
       "</style>\n",
       "<table border=\"1\" class=\"dataframe\">\n",
       "  <thead>\n",
       "    <tr style=\"text-align: right;\">\n",
       "      <th></th>\n",
       "      <th>avg</th>\n",
       "      <th>alpha</th>\n",
       "      <th>talpha</th>\n",
       "      <th>betamkt</th>\n",
       "      <th>tbetamkt</th>\n",
       "      <th>betahml</th>\n",
       "      <th>tbetahml</th>\n",
       "      <th>betasmb</th>\n",
       "      <th>tbetasmb</th>\n",
       "    </tr>\n",
       "  </thead>\n",
       "  <tbody>\n",
       "    <tr>\n",
       "      <th>BEME1</th>\n",
       "      <td>0.003225</td>\n",
       "      <td>0.001743</td>\n",
       "      <td>2.858402</td>\n",
       "      <td>0.986598</td>\n",
       "      <td>55.182834</td>\n",
       "      <td>-0.536490</td>\n",
       "      <td>-17.386493</td>\n",
       "      <td>-0.134760</td>\n",
       "      <td>-5.312898</td>\n",
       "    </tr>\n",
       "    <tr>\n",
       "      <th>BEME2</th>\n",
       "      <td>0.004858</td>\n",
       "      <td>0.000991</td>\n",
       "      <td>1.583049</td>\n",
       "      <td>1.010419</td>\n",
       "      <td>61.038715</td>\n",
       "      <td>-0.098341</td>\n",
       "      <td>-2.783742</td>\n",
       "      <td>-0.040855</td>\n",
       "      <td>-1.686404</td>\n",
       "    </tr>\n",
       "    <tr>\n",
       "      <th>BEME3</th>\n",
       "      <td>0.004672</td>\n",
       "      <td>-0.000190</td>\n",
       "      <td>-0.283986</td>\n",
       "      <td>1.034663</td>\n",
       "      <td>50.746516</td>\n",
       "      <td>0.083017</td>\n",
       "      <td>2.074329</td>\n",
       "      <td>-0.026960</td>\n",
       "      <td>-0.858285</td>\n",
       "    </tr>\n",
       "    <tr>\n",
       "      <th>BEME4</th>\n",
       "      <td>0.004645</td>\n",
       "      <td>-0.000924</td>\n",
       "      <td>-1.107970</td>\n",
       "      <td>1.027891</td>\n",
       "      <td>44.083883</td>\n",
       "      <td>0.238463</td>\n",
       "      <td>5.286738</td>\n",
       "      <td>-0.026757</td>\n",
       "      <td>-0.827511</td>\n",
       "    </tr>\n",
       "    <tr>\n",
       "      <th>BEME5</th>\n",
       "      <td>0.004529</td>\n",
       "      <td>-0.001088</td>\n",
       "      <td>-1.301458</td>\n",
       "      <td>0.978513</td>\n",
       "      <td>44.493451</td>\n",
       "      <td>0.323152</td>\n",
       "      <td>7.466797</td>\n",
       "      <td>-0.089319</td>\n",
       "      <td>-2.460703</td>\n",
       "    </tr>\n",
       "    <tr>\n",
       "      <th>BEME6</th>\n",
       "      <td>0.006041</td>\n",
       "      <td>-0.000400</td>\n",
       "      <td>-0.526854</td>\n",
       "      <td>0.969879</td>\n",
       "      <td>47.707327</td>\n",
       "      <td>0.473133</td>\n",
       "      <td>11.590126</td>\n",
       "      <td>-0.019985</td>\n",
       "      <td>-0.688658</td>\n",
       "    </tr>\n",
       "    <tr>\n",
       "      <th>BEME7</th>\n",
       "      <td>0.006531</td>\n",
       "      <td>-0.000670</td>\n",
       "      <td>-0.937915</td>\n",
       "      <td>1.010806</td>\n",
       "      <td>45.789553</td>\n",
       "      <td>0.586194</td>\n",
       "      <td>16.506778</td>\n",
       "      <td>0.000584</td>\n",
       "      <td>0.022704</td>\n",
       "    </tr>\n",
       "    <tr>\n",
       "      <th>BEME8</th>\n",
       "      <td>0.007318</td>\n",
       "      <td>-0.000537</td>\n",
       "      <td>-0.920447</td>\n",
       "      <td>0.987756</td>\n",
       "      <td>62.376607</td>\n",
       "      <td>0.661595</td>\n",
       "      <td>24.375635</td>\n",
       "      <td>0.181196</td>\n",
       "      <td>6.793609</td>\n",
       "    </tr>\n",
       "    <tr>\n",
       "      <th>BEME9</th>\n",
       "      <td>0.007988</td>\n",
       "      <td>-0.000443</td>\n",
       "      <td>-0.617529</td>\n",
       "      <td>1.063450</td>\n",
       "      <td>54.156043</td>\n",
       "      <td>0.712062</td>\n",
       "      <td>22.735360</td>\n",
       "      <td>0.184141</td>\n",
       "      <td>6.724677</td>\n",
       "    </tr>\n",
       "    <tr>\n",
       "      <th>BEME10</th>\n",
       "      <td>0.009536</td>\n",
       "      <td>-0.000783</td>\n",
       "      <td>-0.891318</td>\n",
       "      <td>1.160606</td>\n",
       "      <td>48.446541</td>\n",
       "      <td>0.900347</td>\n",
       "      <td>23.345170</td>\n",
       "      <td>0.443602</td>\n",
       "      <td>13.312943</td>\n",
       "    </tr>\n",
       "  </tbody>\n",
       "</table>\n",
       "</div>"
      ],
      "text/plain": [
       "             avg     alpha    talpha   betamkt   tbetamkt   betahml  \\\n",
       "BEME1   0.003225  0.001743  2.858402  0.986598  55.182834 -0.536490   \n",
       "BEME2   0.004858  0.000991  1.583049  1.010419  61.038715 -0.098341   \n",
       "BEME3   0.004672 -0.000190 -0.283986  1.034663  50.746516  0.083017   \n",
       "BEME4   0.004645 -0.000924 -1.107970  1.027891  44.083883  0.238463   \n",
       "BEME5   0.004529 -0.001088 -1.301458  0.978513  44.493451  0.323152   \n",
       "BEME6   0.006041 -0.000400 -0.526854  0.969879  47.707327  0.473133   \n",
       "BEME7   0.006531 -0.000670 -0.937915  1.010806  45.789553  0.586194   \n",
       "BEME8   0.007318 -0.000537 -0.920447  0.987756  62.376607  0.661595   \n",
       "BEME9   0.007988 -0.000443 -0.617529  1.063450  54.156043  0.712062   \n",
       "BEME10  0.009536 -0.000783 -0.891318  1.160606  48.446541  0.900347   \n",
       "\n",
       "         tbetahml   betasmb   tbetasmb  \n",
       "BEME1  -17.386493 -0.134760  -5.312898  \n",
       "BEME2   -2.783742 -0.040855  -1.686404  \n",
       "BEME3    2.074329 -0.026960  -0.858285  \n",
       "BEME4    5.286738 -0.026757  -0.827511  \n",
       "BEME5    7.466797 -0.089319  -2.460703  \n",
       "BEME6   11.590126 -0.019985  -0.688658  \n",
       "BEME7   16.506778  0.000584   0.022704  \n",
       "BEME8   24.375635  0.181196   6.793609  \n",
       "BEME9   22.735360  0.184141   6.724677  \n",
       "BEME10  23.345170  0.443602  13.312943  "
      ]
     },
     "execution_count": 38,
     "metadata": {},
     "output_type": "execute_result"
    }
   ],
   "source": [
    "# indentical code as before. Just add the new factor to the regression\n",
    "FF3=pd.DataFrame([],index=df.drop(['MKT','HML','SMB'],axis=1).columns,\\\n",
    "                 columns=['avg','alpha','talpha','betamkt','tbetamkt','betahml','tbetahml','betasmb','tbetasmb']) \n",
    "# create dataframe to store residual\n",
    "# FF3Resid=df.drop(['MKT','HML','SMB'],axis=1).copy()\n",
    "#store avg return\n",
    "FF3['avg']=df.drop(['MKT','HML','SMB'],axis=1).mean()\n",
    "\n",
    "for portfolio in FF3.index:\n",
    "    y=df[portfolio]\n",
    "    x=df[['MKT','HML','SMB']]\n",
    "    x=sm.add_constant(x)\n",
    "    results = sm.OLS(y,x).fit()\n",
    "    FF3.at[portfolio,['alpha','betamkt','betahml','betasmb']]=results.params.values\n",
    "    FF3.at[portfolio,['talpha','tbetamkt','tbetahml','tbetasmb']]=(results.params/results.HC0_se).values\n",
    "#     FF3Resid[portfolio]=results.resid\n",
    "    \n",
    "FF3=FF3.astype('float') \n",
    "FF3"
   ]
  },
  {
   "cell_type": "markdown",
   "metadata": {},
   "source": [
    "___________________________________"
   ]
  },
  {
   "cell_type": "markdown",
   "metadata": {},
   "source": [
    "# Additional discussion"
   ]
  },
  {
   "cell_type": "markdown",
   "metadata": {
    "colab_type": "text",
    "id": "cqiZCrUA-iWH"
   },
   "source": [
    "\n",
    "##  Portfolio implications of the equilibrium view\n",
    "\n",
    "* If you are like the average investor, you should simply hold the market portfolio\n",
    "\n",
    "* You deviate from holding the market only if you are different from the average investor\n",
    "\n",
    "* Examples with preferences:\n",
    "\n",
    "  * If you are more risk-averse than the average investor you should hold some safe bonds as well\n",
    "  * If you are more risk-tolerant you should borrow and invest more in the market than the average investor\n",
    "  \n",
    "* Example with \"Background risk\":(background risks are risks that investors are exposed to indepedently of their financial portfolio)\n",
    "\n",
    "   * If you work in the automobile industry and your skill set is highly specialized to automobiles, you are more exposed to the automobile industry risk than the average investor.\n",
    "   * Advice is to hold the market *after you hedge your automobile exposure*\n",
    "   * in practice this could be investing in the market portoflio while avoiding auto-indistry stocks (and other stocks that are strongly correlated with it)\n",
    "   \n",
    "* This logic extends to multipl-factors as well, as we will see. \n",
    "   * So even if the CAPM does not work and you need addiitonal factors to explain differences in expected returns across assets, the equilbrium view still implies that if you are just like the average investors, you should simply hold the market portfolio.\n",
    "   * So you will tilt your portfolio to a high expected return factor only if you are less exposed to it than the average investor\n",
    "   * The intuition here is that this factor earns high returns relative to the CAPM because it earns fair compensation for risks that the average investors are exposed to"
   ]
  },
  {
   "cell_type": "markdown",
   "metadata": {
    "colab_type": "text",
    "id": "mCQvjFNbdieN"
   },
   "source": [
    "## Quantitative investing is going from \"names\"  to characteristics\n",
    "\n",
    "The  sorting by date keeps the stocks inside the portfolios with similar characteristics\n",
    "\n",
    "* This sorting will \"work\" if these chracteristics are good proxies for risks that the average investor cares about\n",
    "\n",
    "  - will lead to spread in returns\n",
    "  - will lead to a factor\n",
    "\n",
    "* But it doesn't work always, if you use the first letter of stock ticker to construct 26 portfolios you are unlikely to get spread in average returns and most likely each portfolio will resemble the market portfolio but with much more volatility.\n",
    "\n",
    "* And even if you do find something--> likely garbage, very hard to think about an economic model that would deliver that pattern!\n",
    "\n",
    "Lets look at the portfolios' characteristics, i.e. Size, Book-to-Market, momentum,... of the different portfolios\n",
    "\n",
    "* These are the characterisitcs that were used to create the portfolios. \n",
    "\n",
    "* Indeed, the key is that each portfolio has stocks of vastly different characterisitcs and keeps churning as firms change\n",
    "\n",
    "  * Let's take MSFT (microsoft) as an example:\n",
    "\n",
    "  * MSFT transitioned from being small in the 80's to be gigantic in the 90's, as a result, it moved up from the small portfolio to the big portfolio\n",
    "\n",
    "  * Duing the Tech boom when MSFT had a huge valuation relative to it's book value, it went to the low BM portfolio\n",
    "\n",
    "  * But then MSFT transtioned back to the high BM portfolio once it's market valuation collapsed in the aftermath of the techbubble\n",
    "\n",
    "* The key is that firms' characteristics change over time, by constructing  portfolios, we hope to estimate some stable relationship between risk and return\n",
    "\n",
    "* The fact that the market value is above or below the book value does not mean that the firm is mispriced. It is natural that the expectation of future earnings changed (which is not in book value), or investors' perception of risk changed.\n",
    "\n",
    "* Even in a CAPM world you can see that happening: suppose the beta of a firm increases, then in equilibrium it's excess return must also increase! \n",
    "\n",
    "  - This would mean if it's market value goes down, Book-to-Market would go up at the same time, making expected returns going forward go up!\n",
    "\n",
    "  - But in the data we see when BM changes (as firms swing across portfolios), the market beta does not, which is inconsitent with the CAPM\n",
    "\n",
    "* Expected return alone is not a puzzle (for the CAPM). All puzzles are joint puzzles of expected return and beta — either high expected returns not matched with high betas, or high/low betas not matched with expected returns.\n",
    "\n",
    "* The lower residual risk provides you a sharper exploration of the model mistakes\n",
    "\n",
    "* There is always a way to make small-looking errors big (and profitable.)"
   ]
  },
  {
   "cell_type": "markdown",
   "metadata": {
    "colab_type": "text",
    "id": "DBdj1i9pdieN"
   },
   "source": [
    "## Why test with portfolios rather than just look at stocks?\n",
    "\n",
    "1. Individual stocks have $\\sigma$ = 40 − 80%, so $\\sigma/\\sqrt{T}$ makes it \n",
    "nearly impossible to accurately measure E(R). Portfolios have lower $\\sigma$ by diversification.\n",
    "\n",
    "2. Betas are badly measured too, and vary over time. \n",
    "        \n",
    "   - Example: every firm starts small and risky, but eventually some of them become big and safe\n",
    "        \n",
    "3. You need an interesting alternative. Group stocks together that might have a violation,\n",
    "this gives much more power.\n",
    "\n",
    "4. This is what people do to (try to) make money. They don’t randomly buy stocks.\n",
    "They buy stocks with certain characteristics that they think will outperform. Thus,\n",
    "keep tests and practice close.\n",
    "\n",
    "5. The CAPM seemed fine (and still does) until stocks were grouped by B/M. The\n",
    "CAPM still works fine for some groupings (size), not others (value) .\n",
    "\n",
    "But of course you need to know how to form portfolios based on which characteristcs to use.\n",
    "\n",
    "And here the sky is the limit, as long you are careful about false discovery!\n",
    "\n",
    "Examples:\n",
    "\n",
    "- Stocks talked about in the media\n",
    "- Stocks of CEOs tweeted by the President\n",
    "- Stocks with recent deal annoucements\n",
    "- Stocks with a lot of google search traffic (google trends)\n",
    "- Stocks with a lot of Tweeter activity\n",
    "- Stocks that are investing a lot\n",
    "- Stocks that are very profitable\n",
    "- Stocks that doing a lot of R&D\n",
    "- Stocks invested by famous hedge fund managers\n",
    "- Stocks invested by less famous managers\n",
    "- Stokcs invested by Warren Buffet\n"
   ]
  },
  {
   "cell_type": "markdown",
   "metadata": {
    "colab_type": "text",
    "id": "kj9hmnGVdieM"
   },
   "source": [
    "## Economic vs statistical rejection\n",
    "\n",
    "We see that the FF3 reduces pricing erros by a lot.\n",
    "\n",
    "- Variation in the betas of the 3 factor model can explain much more of the variation in average returns across assets\n",
    "\n",
    "Asset pricing tests are always about Sharpe ratios\n",
    "\n",
    "- The FF3 model explains much more of the variation in average returns-- that is true-- but at the same time explains also a lot of the variation in realized returns\n",
    "\n",
    "- This means that the unexplained risk is much smaller-- making Appraisal ratios not that different from the CAPM.\n",
    "\n",
    "For a practioner: it is very different to have SR of 1 with an alpha of 5%, vs SR of 1 with alpha of 0.5%\n",
    "\n",
    "- Why?\n",
    "\n",
    "- Because you will have to use much more leverage to exploit mispricing from the FF3 model!\n",
    "\n",
    "- The t-stats test treats these two things as equal, but they are only the same if you don't face any costs of leveraging up\n"
   ]
  },
  {
   "cell_type": "code",
   "execution_count": null,
   "metadata": {},
   "outputs": [],
   "source": []
  }
 ],
 "metadata": {
  "colab": {
   "collapsed_sections": [],
   "name": "Notebook 8.ipynb",
   "provenance": []
  },
  "kernelspec": {
   "display_name": "Python 3",
   "language": "python",
   "name": "python3"
  },
  "language_info": {
   "codemirror_mode": {
    "name": "ipython",
    "version": 3
   },
   "file_extension": ".py",
   "mimetype": "text/x-python",
   "name": "python",
   "nbconvert_exporter": "python",
   "pygments_lexer": "ipython3",
   "version": "3.8.5"
  }
 },
 "nbformat": 4,
 "nbformat_minor": 4
}
