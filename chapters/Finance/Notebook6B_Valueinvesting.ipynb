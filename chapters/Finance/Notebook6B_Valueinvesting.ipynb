{
 "cells": [
  {
   "cell_type": "code",
   "execution_count": 1,
   "metadata": {},
   "outputs": [],
   "source": [
    "# start by loading data on the returns of the market portfolio and the risk-free rate\n",
    "import pandas as pd\n",
    "import numpy as np\n",
    "import matplotlib.pyplot as plt\n",
    "%matplotlib inline"
   ]
  },
  {
   "cell_type": "markdown",
   "metadata": {
    "colab_type": "text",
    "id": "p_u5EtCuitSf"
   },
   "source": [
    "\n",
    "# Value Investing\n",
    "\n",
    "One of the most popular quantitative investing strategies is broadly refered to as \"value investing\"\n",
    "\n",
    "* It consists of tilting the portfolio towards stocks that have a low price relative to a proxy for it's fundamental value\n",
    "\n",
    "* and tilt away form stocks with high price relative to fundamentals\n",
    "\n",
    "* Broadly speaking: Buy cheap, sell expensive\n",
    "\n",
    "* weights: \n",
    "\n",
    "$$W_t \\propto \\frac{F_t}{P_t}$$\n",
    "\n",
    "* Where $F_t$ is some proxy for the firm's fundamental value\n",
    "\n",
    "* typically some accounting measure\n",
    "\n",
    "* There is a vast number of proxys for fundamentals\n",
    "\n",
    "  * Dividends\n",
    "  * Book value\n",
    "  * Earnings\n",
    "  * Cash flows\n",
    "  * Sales\n",
    "\n",
    "* The strategy is the \"cross-sectional\" counterpart of market timing strategies that rely on dividend yield of aggregate market as a proxy for whether the market is expensive.\n",
    "\n",
    "* However, the evidence is that cross-sectional strategy is more reliable, even if it still quite risky. It actually has done terribly in the last 10 years!\n",
    "\n",
    "\n",
    "**Why this might work?**\n",
    "\n",
    "* Lots of theories that attempt to explain the value-growth spread, both \"rational\" and \"behavioral\"\n",
    "\n",
    "* Here is a flavor of a few of these theories\n",
    "   \n",
    "    - Behavioral: Growth firms are firms in \"sexy\" sectors with tons of media/investor attention, Value are boring/old firms that no one wants to talk about. The end resul is that these sexy firms end up with extreme expensive valuations and the boring firms with very cheap valautions ()[paper]\n",
    "    - Rational: Value firms are riskier than growth because the tend to do poorly in recessions (for example value did terribly in 2008 and 2020) ()[paper]\n",
    "    \n",
    "    \n",
    "    \n",
    "* Overall most academics think there is a behavioral component in value, but quite a bit has to do with more rational factors, i.e. value is riskier than growth in a variety of ways\n",
    " \n",
    "\n",
    "**Construction**\n",
    "\n",
    "* In these notes we will get the \"value signal\" ready and focus on building our portfolios\n",
    "\n",
    "* In the subsection \"Value Signal Construction\" we show one way to construct the \"Book-To-Market\" value signal from the ground up\n",
    "\n",
    "\n"
   ]
  },
  {
   "cell_type": "markdown",
   "metadata": {
    "colab_type": "text",
    "id": "m81efhwtBS44"
   },
   "source": [
    " "
   ]
  },
  {
   "cell_type": "code",
   "execution_count": 70,
   "metadata": {
    "colab": {
     "base_uri": "https://localhost:8080/",
     "height": 309
    },
    "colab_type": "code",
    "executionInfo": {
     "elapsed": 2208,
     "status": "ok",
     "timestamp": 1576987712075,
     "user": {
      "displayName": "yuchi yao",
      "photoUrl": "",
      "userId": "00457884373990713813"
     },
     "user_tz": 300
    },
    "id": "zufYrD34BS44",
    "outputId": "ce7ca053-28c6-4a46-9ab1-4baa1c85959f"
   },
   "outputs": [
    {
     "data": {
      "text/html": [
       "<div>\n",
       "<style scoped>\n",
       "    .dataframe tbody tr th:only-of-type {\n",
       "        vertical-align: middle;\n",
       "    }\n",
       "\n",
       "    .dataframe tbody tr th {\n",
       "        vertical-align: top;\n",
       "    }\n",
       "\n",
       "    .dataframe thead th {\n",
       "        text-align: right;\n",
       "    }\n",
       "</style>\n",
       "<table border=\"1\" class=\"dataframe\">\n",
       "  <thead>\n",
       "    <tr style=\"text-align: right;\">\n",
       "      <th></th>\n",
       "      <th>date</th>\n",
       "      <th>permno</th>\n",
       "      <th>re</th>\n",
       "      <th>rf</th>\n",
       "      <th>log_mcap</th>\n",
       "      <th>value</th>\n",
       "    </tr>\n",
       "  </thead>\n",
       "  <tbody>\n",
       "    <tr>\n",
       "      <th>0</th>\n",
       "      <td>1972-07-31</td>\n",
       "      <td>10006</td>\n",
       "      <td>0.028600</td>\n",
       "      <td>0.0031</td>\n",
       "      <td>12.399869</td>\n",
       "      <td>-0.125361</td>\n",
       "    </tr>\n",
       "    <tr>\n",
       "      <th>1</th>\n",
       "      <td>1972-07-31</td>\n",
       "      <td>10102</td>\n",
       "      <td>0.039757</td>\n",
       "      <td>0.0031</td>\n",
       "      <td>12.217334</td>\n",
       "      <td>0.354954</td>\n",
       "    </tr>\n",
       "    <tr>\n",
       "      <th>2</th>\n",
       "      <td>1972-07-31</td>\n",
       "      <td>10137</td>\n",
       "      <td>-0.044767</td>\n",
       "      <td>0.0031</td>\n",
       "      <td>13.069874</td>\n",
       "      <td>-0.088697</td>\n",
       "    </tr>\n",
       "    <tr>\n",
       "      <th>3</th>\n",
       "      <td>1972-07-31</td>\n",
       "      <td>10145</td>\n",
       "      <td>-0.062422</td>\n",
       "      <td>0.0031</td>\n",
       "      <td>13.608366</td>\n",
       "      <td>0.075484</td>\n",
       "    </tr>\n",
       "    <tr>\n",
       "      <th>4</th>\n",
       "      <td>1972-07-31</td>\n",
       "      <td>10153</td>\n",
       "      <td>-0.065600</td>\n",
       "      <td>0.0031</td>\n",
       "      <td>11.752572</td>\n",
       "      <td>0.944457</td>\n",
       "    </tr>\n",
       "    <tr>\n",
       "      <th>...</th>\n",
       "      <td>...</td>\n",
       "      <td>...</td>\n",
       "      <td>...</td>\n",
       "      <td>...</td>\n",
       "      <td>...</td>\n",
       "      <td>...</td>\n",
       "    </tr>\n",
       "    <tr>\n",
       "      <th>486422</th>\n",
       "      <td>2016-12-31</td>\n",
       "      <td>93420</td>\n",
       "      <td>0.011056</td>\n",
       "      <td>0.0003</td>\n",
       "      <td>14.337515</td>\n",
       "      <td>1.049163</td>\n",
       "    </tr>\n",
       "    <tr>\n",
       "      <th>486423</th>\n",
       "      <td>2016-12-31</td>\n",
       "      <td>93422</td>\n",
       "      <td>-0.063881</td>\n",
       "      <td>0.0003</td>\n",
       "      <td>15.256946</td>\n",
       "      <td>0.829353</td>\n",
       "    </tr>\n",
       "    <tr>\n",
       "      <th>486424</th>\n",
       "      <td>2016-12-31</td>\n",
       "      <td>93423</td>\n",
       "      <td>0.039950</td>\n",
       "      <td>0.0003</td>\n",
       "      <td>15.502888</td>\n",
       "      <td>-2.128977</td>\n",
       "    </tr>\n",
       "    <tr>\n",
       "      <th>486425</th>\n",
       "      <td>2016-12-31</td>\n",
       "      <td>93429</td>\n",
       "      <td>0.072124</td>\n",
       "      <td>0.0003</td>\n",
       "      <td>15.504722</td>\n",
       "      <td>-3.001095</td>\n",
       "    </tr>\n",
       "    <tr>\n",
       "      <th>486426</th>\n",
       "      <td>2016-12-31</td>\n",
       "      <td>93436</td>\n",
       "      <td>0.127947</td>\n",
       "      <td>0.0003</td>\n",
       "      <td>17.262975</td>\n",
       "      <td>-3.328269</td>\n",
       "    </tr>\n",
       "  </tbody>\n",
       "</table>\n",
       "<p>486427 rows × 6 columns</p>\n",
       "</div>"
      ],
      "text/plain": [
       "             date  permno        re      rf   log_mcap     value\n",
       "0      1972-07-31   10006  0.028600  0.0031  12.399869 -0.125361\n",
       "1      1972-07-31   10102  0.039757  0.0031  12.217334  0.354954\n",
       "2      1972-07-31   10137 -0.044767  0.0031  13.069874 -0.088697\n",
       "3      1972-07-31   10145 -0.062422  0.0031  13.608366  0.075484\n",
       "4      1972-07-31   10153 -0.065600  0.0031  11.752572  0.944457\n",
       "...           ...     ...       ...     ...        ...       ...\n",
       "486422 2016-12-31   93420  0.011056  0.0003  14.337515  1.049163\n",
       "486423 2016-12-31   93422 -0.063881  0.0003  15.256946  0.829353\n",
       "486424 2016-12-31   93423  0.039950  0.0003  15.502888 -2.128977\n",
       "486425 2016-12-31   93429  0.072124  0.0003  15.504722 -3.001095\n",
       "486426 2016-12-31   93436  0.127947  0.0003  17.262975 -3.328269\n",
       "\n",
       "[486427 rows x 6 columns]"
      ]
     },
     "execution_count": 70,
     "metadata": {},
     "output_type": "execute_result"
    }
   ],
   "source": [
    "url = \"https://www.dropbox.com/s/lyvzy649na6p8su/value_characteristic.csv?dl=1\"\n",
    "parser = lambda date: pd.to_datetime(date,format='%m%y')\n",
    "Data = pd.read_csv(url,parse_dates=[0])\n",
    "# This simply shits the date to be in an end of month basis\n",
    "Data.date=Data.date+pd.tseries.offsets.MonthEnd()\n",
    "Data.rename(columns={'size':'log_mcap'},inplace=True)\n",
    "Data"
   ]
  },
  {
   "cell_type": "markdown",
   "metadata": {},
   "source": [
    "- above we load a data set with our value signal, Book-to-Market already constructed. Here is the definition of the value variable:\n",
    "     \n",
    "     >Value (annual) (value). Follows Fama and French (1993). value = log(BE/ME). At the end of June of each year, we use book equity from the previous fiscal year and market equity from December of the previous year. Rebalanced annually. \n",
    "\n",
    "- The data set also containts a size variable:\n",
    "\n",
    "   > Size (size). Follows Fama and French (1993). size = MEJun. The CRSP end of June price times shares outstanding. Rebalanced annually.\n",
    "   \n",
    "   **I believe this is in logs as well. Need to check**\n",
    "   \n",
    "And contains excess returns (re) for individual stocks and the risk-free rate  of the relvant date\n",
    "\n",
    "- permno is an identifier for the stock\n",
    "\n",
    "- Note the format of the data set where stock and dates are stacked vertically\n",
    "\n",
    "- We will need two indexes (date and permno) to perfectly identify an observation\n",
    "\n",
    "\n",
    "**->This means we will start with step 1 already done for us (signal construction), and we will move directly to step 2**"
   ]
  },
  {
   "cell_type": "markdown",
   "metadata": {},
   "source": [
    "**Details on how the value signal was constructed**\n",
    "\n",
    "* Value portfolios are typically rebalanced every July using Book-to-Market data from the year before    \n",
    "* This means that from July/2006 to June/2007 you use Book-to-Market data from December/2005\n",
    "* Because the way we construct the data, the BM data is the same from Jan/2005 to December/2005\n",
    "\n",
    "**What is important is that it is lagged by at least 12 months, to make sure that the BM data was available at the day of portfolio formation!**"
   ]
  },
  {
   "cell_type": "markdown",
   "metadata": {
    "colab_type": "text",
    "id": "FS8M_EFEBS48"
   },
   "source": [
    "**What does the value signal look like?**"
   ]
  },
  {
   "cell_type": "code",
   "execution_count": 3,
   "metadata": {
    "colab": {
     "base_uri": "https://localhost:8080/",
     "height": 489
    },
    "colab_type": "code",
    "executionInfo": {
     "elapsed": 1321,
     "status": "ok",
     "timestamp": 1576954472406,
     "user": {
      "displayName": "yuchi yao",
      "photoUrl": "",
      "userId": "00457884373990713813"
     },
     "user_tz": 300
    },
    "id": "F9dLYTwCBS48",
    "outputId": "3dfd357a-4ee6-41fb-e74d-291f33ca7573"
   },
   "outputs": [
    {
     "data": {
      "text/plain": [
       "<AxesSubplot:>"
      ]
     },
     "execution_count": 3,
     "metadata": {},
     "output_type": "execute_result"
    },
    {
     "data": {
      "image/png": "[encoded data removed]",
      "text/plain": [
       "<Figure size 432x288 with 1 Axes>"
      ]
     },
     "metadata": {
      "needs_background": "light"
     },
     "output_type": "display_data"
    }
   ],
   "source": [
    "# lets look at what out value measure looks like for a particular date:\n",
    "np.exp(Data[Data.date=='2016-12-31'].value).hist(bins=100)\n"
   ]
  },
  {
   "cell_type": "markdown",
   "metadata": {},
   "source": [
    "- A lot of cross-section variation across firms\n",
    "\n",
    "- some firms have very low book-to-market: accounting value low relative to market value\n",
    "\n",
    "- Other firms have high book to market: accounting value high relative to market value"
   ]
  },
  {
   "cell_type": "code",
   "execution_count": 4,
   "metadata": {},
   "outputs": [
    {
     "data": {
      "text/plain": [
       "<AxesSubplot:xlabel='date'>"
      ]
     },
     "execution_count": 4,
     "metadata": {},
     "output_type": "execute_result"
    },
    {
     "data": {
      "image/png": "[encoded data removed]",
      "text/plain": [
       "<Figure size 432x288 with 1 Axes>"
      ]
     },
     "metadata": {
      "needs_background": "light"
     },
     "output_type": "display_data"
    }
   ],
   "source": [
    "# lets look overtime\n",
    "Data.groupby(by='date').value.apply(lambda x: np.exp(x).mean()).plot()"
   ]
  },
  {
   "cell_type": "markdown",
   "metadata": {
    "colab_type": "text",
    "id": "cxtQPoj3BS4-"
   },
   "source": [
    "* a lot of time-variation in it\n",
    "\n",
    "  * everything tends to be value at the same time \n",
    "  \n",
    "* instead of time-variation, strategy that we want to construct want to explore variation across stocks\n",
    "\n",
    "* lets look at how the signal dispersion changed\n",
    "\n"
   ]
  },
  {
   "cell_type": "code",
   "execution_count": 8,
   "metadata": {},
   "outputs": [
    {
     "data": {
      "text/plain": [
       "<matplotlib.axes._subplots.AxesSubplot at 0x1fdd12de220>"
      ]
     },
     "execution_count": 8,
     "metadata": {},
     "output_type": "execute_result"
    },
    {
     "data": {
      "image/png": "[encoded data removed]",
      "text/plain": [
       "<Figure size 432x288 with 1 Axes>"
      ]
     },
     "metadata": {
      "needs_background": "light"
     },
     "output_type": "display_data"
    }
   ],
   "source": [
    "Data.groupby(by='date').value.apply(lambda x: np.exp(x).std()).plot()"
   ]
  },
  {
   "cell_type": "markdown",
   "metadata": {
    "colab_type": "text",
    "id": "MQIGl_qhBS5B"
   },
   "source": [
    "**Quantitative investing is all about ranking**\n",
    "\n",
    "* [$\\checkmark$] Get returns for each asset\n",
    "\n",
    "* [$\\checkmark$] Construct the signals for each asset\n",
    "\n",
    "- \\[X\\]  Rank the signals in each date\n",
    "\n",
    "- \\[X\\]  Choose how many assets to pool together. Trade-off between signal strength and diversification\n",
    "\n",
    "     * If you only buy the highest signal asset, you lose diversification"
   ]
  },
  {
   "cell_type": "markdown",
   "metadata": {},
   "source": [
    "**How to rank?**\n",
    "\n",
    "\n",
    "- We will assign the stocks in to quantiles according to it's relative characteristic position in the particular date"
   ]
  },
  {
   "cell_type": "code",
   "execution_count": 72,
   "metadata": {},
   "outputs": [],
   "source": [
    "df=Data.copy()"
   ]
  },
  {
   "cell_type": "markdown",
   "metadata": {},
   "source": [
    "We now do both the ranking and grouping in one single command\n",
    "\n",
    "* Here we use `qdcut` to split the portfolios by Book-to-Market into 10 quantiles\n",
    "\n",
    "  (https://pandas.pydata.org/pandas-docs/stable/reference/api/pandas.qcut.html)\n",
    "  \n",
    "* The key here is to use the groupby operation to group things by date and do the quantile grouping in each date\n",
    "\n",
    "* For each date, Pandas ranks portfolios and labels the lowest portfolio $0$\n",
    "\n",
    "* Because Pandas ranking starts at 0, we add 1 so our portfolio ranks are from 1 to 5"
   ]
  },
  {
   "cell_type": "code",
   "execution_count": 7,
   "metadata": {},
   "outputs": [
    {
     "data": {
      "text/html": [
       "<div>\n",
       "<style scoped>\n",
       "    .dataframe tbody tr th:only-of-type {\n",
       "        vertical-align: middle;\n",
       "    }\n",
       "\n",
       "    .dataframe tbody tr th {\n",
       "        vertical-align: top;\n",
       "    }\n",
       "\n",
       "    .dataframe thead th {\n",
       "        text-align: right;\n",
       "    }\n",
       "</style>\n",
       "<table border=\"1\" class=\"dataframe\">\n",
       "  <thead>\n",
       "    <tr style=\"text-align: right;\">\n",
       "      <th></th>\n",
       "      <th>date</th>\n",
       "      <th>permno</th>\n",
       "      <th>re</th>\n",
       "      <th>rf</th>\n",
       "      <th>size</th>\n",
       "      <th>value</th>\n",
       "    </tr>\n",
       "  </thead>\n",
       "  <tbody>\n",
       "    <tr>\n",
       "      <th>678</th>\n",
       "      <td>1972-07-31</td>\n",
       "      <td>42753</td>\n",
       "      <td>-0.191779</td>\n",
       "      <td>0.0031</td>\n",
       "      <td>11.485841</td>\n",
       "      <td>-3.347548</td>\n",
       "    </tr>\n",
       "    <tr>\n",
       "      <th>560</th>\n",
       "      <td>1972-07-31</td>\n",
       "      <td>34649</td>\n",
       "      <td>-0.450313</td>\n",
       "      <td>0.0031</td>\n",
       "      <td>12.852010</td>\n",
       "      <td>-3.321926</td>\n",
       "    </tr>\n",
       "    <tr>\n",
       "      <th>767</th>\n",
       "      <td>1972-07-31</td>\n",
       "      <td>47335</td>\n",
       "      <td>0.059757</td>\n",
       "      <td>0.0031</td>\n",
       "      <td>13.506375</td>\n",
       "      <td>-2.901124</td>\n",
       "    </tr>\n",
       "    <tr>\n",
       "      <th>631</th>\n",
       "      <td>1972-07-31</td>\n",
       "      <td>40416</td>\n",
       "      <td>0.040664</td>\n",
       "      <td>0.0031</td>\n",
       "      <td>15.698746</td>\n",
       "      <td>-2.885152</td>\n",
       "    </tr>\n",
       "    <tr>\n",
       "      <th>541</th>\n",
       "      <td>1972-07-31</td>\n",
       "      <td>31659</td>\n",
       "      <td>0.060031</td>\n",
       "      <td>0.0031</td>\n",
       "      <td>12.844695</td>\n",
       "      <td>-2.804002</td>\n",
       "    </tr>\n",
       "  </tbody>\n",
       "</table>\n",
       "</div>"
      ],
      "text/plain": [
       "          date  permno        re      rf       size     value\n",
       "678 1972-07-31   42753 -0.191779  0.0031  11.485841 -3.347548\n",
       "560 1972-07-31   34649 -0.450313  0.0031  12.852010 -3.321926\n",
       "767 1972-07-31   47335  0.059757  0.0031  13.506375 -2.901124\n",
       "631 1972-07-31   40416  0.040664  0.0031  15.698746 -2.885152\n",
       "541 1972-07-31   31659  0.060031  0.0031  12.844695 -2.804002"
      ]
     },
     "execution_count": 7,
     "metadata": {},
     "output_type": "execute_result"
    }
   ],
   "source": [
    "df[df.date=='1972-07-31'].sort_values(by='value').head(5)"
   ]
  },
  {
   "cell_type": "code",
   "execution_count": 8,
   "metadata": {},
   "outputs": [
    {
     "data": {
      "text/html": [
       "<div>\n",
       "<style scoped>\n",
       "    .dataframe tbody tr th:only-of-type {\n",
       "        vertical-align: middle;\n",
       "    }\n",
       "\n",
       "    .dataframe tbody tr th {\n",
       "        vertical-align: top;\n",
       "    }\n",
       "\n",
       "    .dataframe thead th {\n",
       "        text-align: right;\n",
       "    }\n",
       "</style>\n",
       "<table border=\"1\" class=\"dataframe\">\n",
       "  <thead>\n",
       "    <tr style=\"text-align: right;\">\n",
       "      <th></th>\n",
       "      <th>date</th>\n",
       "      <th>permno</th>\n",
       "      <th>re</th>\n",
       "      <th>rf</th>\n",
       "      <th>size</th>\n",
       "      <th>value</th>\n",
       "    </tr>\n",
       "  </thead>\n",
       "  <tbody>\n",
       "    <tr>\n",
       "      <th>4</th>\n",
       "      <td>1972-07-31</td>\n",
       "      <td>10153</td>\n",
       "      <td>-0.065600</td>\n",
       "      <td>0.0031</td>\n",
       "      <td>11.752572</td>\n",
       "      <td>0.944457</td>\n",
       "    </tr>\n",
       "    <tr>\n",
       "      <th>28</th>\n",
       "      <td>1972-07-31</td>\n",
       "      <td>11092</td>\n",
       "      <td>-0.039464</td>\n",
       "      <td>0.0031</td>\n",
       "      <td>11.664380</td>\n",
       "      <td>1.081444</td>\n",
       "    </tr>\n",
       "    <tr>\n",
       "      <th>93</th>\n",
       "      <td>1972-07-31</td>\n",
       "      <td>14189</td>\n",
       "      <td>0.025636</td>\n",
       "      <td>0.0031</td>\n",
       "      <td>12.770898</td>\n",
       "      <td>1.191488</td>\n",
       "    </tr>\n",
       "    <tr>\n",
       "      <th>455</th>\n",
       "      <td>1972-07-31</td>\n",
       "      <td>26569</td>\n",
       "      <td>-0.094009</td>\n",
       "      <td>0.0031</td>\n",
       "      <td>11.498644</td>\n",
       "      <td>1.347299</td>\n",
       "    </tr>\n",
       "    <tr>\n",
       "      <th>416</th>\n",
       "      <td>1972-07-31</td>\n",
       "      <td>25507</td>\n",
       "      <td>-0.112011</td>\n",
       "      <td>0.0031</td>\n",
       "      <td>11.410826</td>\n",
       "      <td>1.561624</td>\n",
       "    </tr>\n",
       "  </tbody>\n",
       "</table>\n",
       "</div>"
      ],
      "text/plain": [
       "          date  permno        re      rf       size     value\n",
       "4   1972-07-31   10153 -0.065600  0.0031  11.752572  0.944457\n",
       "28  1972-07-31   11092 -0.039464  0.0031  11.664380  1.081444\n",
       "93  1972-07-31   14189  0.025636  0.0031  12.770898  1.191488\n",
       "455 1972-07-31   26569 -0.094009  0.0031  11.498644  1.347299\n",
       "416 1972-07-31   25507 -0.112011  0.0031  11.410826  1.561624"
      ]
     },
     "execution_count": 8,
     "metadata": {},
     "output_type": "execute_result"
    }
   ],
   "source": [
    "df[df.date=='1972-07-31'].sort_values(by='value').tail(5)"
   ]
  },
  {
   "cell_type": "code",
   "execution_count": 73,
   "metadata": {},
   "outputs": [
    {
     "data": {
      "text/html": [
       "<div>\n",
       "<style scoped>\n",
       "    .dataframe tbody tr th:only-of-type {\n",
       "        vertical-align: middle;\n",
       "    }\n",
       "\n",
       "    .dataframe tbody tr th {\n",
       "        vertical-align: top;\n",
       "    }\n",
       "\n",
       "    .dataframe thead th {\n",
       "        text-align: right;\n",
       "    }\n",
       "</style>\n",
       "<table border=\"1\" class=\"dataframe\">\n",
       "  <thead>\n",
       "    <tr style=\"text-align: right;\">\n",
       "      <th></th>\n",
       "      <th>date</th>\n",
       "      <th>permno</th>\n",
       "      <th>re</th>\n",
       "      <th>rf</th>\n",
       "      <th>log_mcap</th>\n",
       "      <th>value</th>\n",
       "      <th>value_group</th>\n",
       "    </tr>\n",
       "  </thead>\n",
       "  <tbody>\n",
       "    <tr>\n",
       "      <th>0</th>\n",
       "      <td>1972-07-31</td>\n",
       "      <td>10006</td>\n",
       "      <td>0.028600</td>\n",
       "      <td>0.0031</td>\n",
       "      <td>12.399869</td>\n",
       "      <td>-0.125361</td>\n",
       "      <td>7</td>\n",
       "    </tr>\n",
       "    <tr>\n",
       "      <th>1</th>\n",
       "      <td>1972-07-31</td>\n",
       "      <td>10102</td>\n",
       "      <td>0.039757</td>\n",
       "      <td>0.0031</td>\n",
       "      <td>12.217334</td>\n",
       "      <td>0.354954</td>\n",
       "      <td>9</td>\n",
       "    </tr>\n",
       "    <tr>\n",
       "      <th>2</th>\n",
       "      <td>1972-07-31</td>\n",
       "      <td>10137</td>\n",
       "      <td>-0.044767</td>\n",
       "      <td>0.0031</td>\n",
       "      <td>13.069874</td>\n",
       "      <td>-0.088697</td>\n",
       "      <td>7</td>\n",
       "    </tr>\n",
       "    <tr>\n",
       "      <th>3</th>\n",
       "      <td>1972-07-31</td>\n",
       "      <td>10145</td>\n",
       "      <td>-0.062422</td>\n",
       "      <td>0.0031</td>\n",
       "      <td>13.608366</td>\n",
       "      <td>0.075484</td>\n",
       "      <td>8</td>\n",
       "    </tr>\n",
       "    <tr>\n",
       "      <th>4</th>\n",
       "      <td>1972-07-31</td>\n",
       "      <td>10153</td>\n",
       "      <td>-0.065600</td>\n",
       "      <td>0.0031</td>\n",
       "      <td>11.752572</td>\n",
       "      <td>0.944457</td>\n",
       "      <td>9</td>\n",
       "    </tr>\n",
       "    <tr>\n",
       "      <th>...</th>\n",
       "      <td>...</td>\n",
       "      <td>...</td>\n",
       "      <td>...</td>\n",
       "      <td>...</td>\n",
       "      <td>...</td>\n",
       "      <td>...</td>\n",
       "      <td>...</td>\n",
       "    </tr>\n",
       "    <tr>\n",
       "      <th>486422</th>\n",
       "      <td>2016-12-31</td>\n",
       "      <td>93420</td>\n",
       "      <td>0.011056</td>\n",
       "      <td>0.0003</td>\n",
       "      <td>14.337515</td>\n",
       "      <td>1.049163</td>\n",
       "      <td>9</td>\n",
       "    </tr>\n",
       "    <tr>\n",
       "      <th>486423</th>\n",
       "      <td>2016-12-31</td>\n",
       "      <td>93422</td>\n",
       "      <td>-0.063881</td>\n",
       "      <td>0.0003</td>\n",
       "      <td>15.256946</td>\n",
       "      <td>0.829353</td>\n",
       "      <td>9</td>\n",
       "    </tr>\n",
       "    <tr>\n",
       "      <th>486424</th>\n",
       "      <td>2016-12-31</td>\n",
       "      <td>93423</td>\n",
       "      <td>0.039950</td>\n",
       "      <td>0.0003</td>\n",
       "      <td>15.502888</td>\n",
       "      <td>-2.128977</td>\n",
       "      <td>1</td>\n",
       "    </tr>\n",
       "    <tr>\n",
       "      <th>486425</th>\n",
       "      <td>2016-12-31</td>\n",
       "      <td>93429</td>\n",
       "      <td>0.072124</td>\n",
       "      <td>0.0003</td>\n",
       "      <td>15.504722</td>\n",
       "      <td>-3.001095</td>\n",
       "      <td>0</td>\n",
       "    </tr>\n",
       "    <tr>\n",
       "      <th>486426</th>\n",
       "      <td>2016-12-31</td>\n",
       "      <td>93436</td>\n",
       "      <td>0.127947</td>\n",
       "      <td>0.0003</td>\n",
       "      <td>17.262975</td>\n",
       "      <td>-3.328269</td>\n",
       "      <td>0</td>\n",
       "    </tr>\n",
       "  </tbody>\n",
       "</table>\n",
       "<p>486427 rows × 7 columns</p>\n",
       "</div>"
      ],
      "text/plain": [
       "             date  permno        re      rf   log_mcap     value  value_group\n",
       "0      1972-07-31   10006  0.028600  0.0031  12.399869 -0.125361            7\n",
       "1      1972-07-31   10102  0.039757  0.0031  12.217334  0.354954            9\n",
       "2      1972-07-31   10137 -0.044767  0.0031  13.069874 -0.088697            7\n",
       "3      1972-07-31   10145 -0.062422  0.0031  13.608366  0.075484            8\n",
       "4      1972-07-31   10153 -0.065600  0.0031  11.752572  0.944457            9\n",
       "...           ...     ...       ...     ...        ...       ...          ...\n",
       "486422 2016-12-31   93420  0.011056  0.0003  14.337515  1.049163            9\n",
       "486423 2016-12-31   93422 -0.063881  0.0003  15.256946  0.829353            9\n",
       "486424 2016-12-31   93423  0.039950  0.0003  15.502888 -2.128977            1\n",
       "486425 2016-12-31   93429  0.072124  0.0003  15.504722 -3.001095            0\n",
       "486426 2016-12-31   93436  0.127947  0.0003  17.262975 -3.328269            0\n",
       "\n",
       "[486427 rows x 7 columns]"
      ]
     },
     "execution_count": 73,
     "metadata": {},
     "output_type": "execute_result"
    }
   ],
   "source": [
    "ngroups=10\n",
    "df['value_group']=df.groupby(['date'])['value'].transform(lambda x: pd.qcut(x, ngroups, labels=False,duplicates='drop'))\n",
    "df"
   ]
  },
  {
   "cell_type": "markdown",
   "metadata": {
    "colab_type": "text",
    "id": "6HafSxEB4qGD"
   },
   "source": [
    "**From signals to weights: Portfolio formation tradeoffs**\n",
    "\n",
    "* We will start by constructing Equal weighted portfolios within each signal bucket\n",
    "\n",
    "* Why not sort in 100 groups instead on only 10? This way your top value would be much more value\n",
    "\n",
    "* Why no simply focus on the highest value stock?\n",
    "\n",
    "\n",
    "  1. Individual stocks have $\\sigma$ = 40 − 80%, so $\\sigma/\\sqrt{T}$ makes it nearly impossible to accurately measure E(R). Portfolios have lower $\\sigma$ by diversification.\n",
    "  2. So if you have to trade-off strengh of the signal against benefits of diversification\n",
    "\n",
    "**Calculate the portfolio return**\n",
    "\n",
    "We will do market cap weights, but you could do Equal weight or even sginal weights\n",
    "\n",
    "$$\\sum_i^I w_{it} r_{it}$$\n",
    "\n",
    "Where the weights must add up to 1."
   ]
  },
  {
   "cell_type": "code",
   "execution_count": 87,
   "metadata": {},
   "outputs": [
    {
     "data": {
      "text/html": [
       "<div>\n",
       "<style scoped>\n",
       "    .dataframe tbody tr th:only-of-type {\n",
       "        vertical-align: middle;\n",
       "    }\n",
       "\n",
       "    .dataframe tbody tr th {\n",
       "        vertical-align: top;\n",
       "    }\n",
       "\n",
       "    .dataframe thead th {\n",
       "        text-align: right;\n",
       "    }\n",
       "</style>\n",
       "<table border=\"1\" class=\"dataframe\">\n",
       "  <thead>\n",
       "    <tr style=\"text-align: right;\">\n",
       "      <th>value_group</th>\n",
       "      <th>0</th>\n",
       "      <th>1</th>\n",
       "      <th>2</th>\n",
       "      <th>3</th>\n",
       "      <th>4</th>\n",
       "      <th>5</th>\n",
       "      <th>6</th>\n",
       "      <th>7</th>\n",
       "      <th>8</th>\n",
       "      <th>9</th>\n",
       "    </tr>\n",
       "    <tr>\n",
       "      <th>date</th>\n",
       "      <th></th>\n",
       "      <th></th>\n",
       "      <th></th>\n",
       "      <th></th>\n",
       "      <th></th>\n",
       "      <th></th>\n",
       "      <th></th>\n",
       "      <th></th>\n",
       "      <th></th>\n",
       "      <th></th>\n",
       "    </tr>\n",
       "  </thead>\n",
       "  <tbody>\n",
       "    <tr>\n",
       "      <th>2016-08-31</th>\n",
       "      <td>-0.008146</td>\n",
       "      <td>-0.018026</td>\n",
       "      <td>0.013913</td>\n",
       "      <td>0.000831</td>\n",
       "      <td>-0.005915</td>\n",
       "      <td>0.002180</td>\n",
       "      <td>0.012825</td>\n",
       "      <td>0.004144</td>\n",
       "      <td>0.007465</td>\n",
       "      <td>0.032755</td>\n",
       "    </tr>\n",
       "    <tr>\n",
       "      <th>2016-09-30</th>\n",
       "      <td>0.004864</td>\n",
       "      <td>-0.007485</td>\n",
       "      <td>-0.007687</td>\n",
       "      <td>0.010992</td>\n",
       "      <td>-0.000877</td>\n",
       "      <td>0.006886</td>\n",
       "      <td>-0.027498</td>\n",
       "      <td>0.007407</td>\n",
       "      <td>0.006084</td>\n",
       "      <td>0.008546</td>\n",
       "    </tr>\n",
       "    <tr>\n",
       "      <th>2016-10-31</th>\n",
       "      <td>-0.027080</td>\n",
       "      <td>-0.027432</td>\n",
       "      <td>-0.015324</td>\n",
       "      <td>-0.015828</td>\n",
       "      <td>-0.024748</td>\n",
       "      <td>-0.023871</td>\n",
       "      <td>0.002012</td>\n",
       "      <td>-0.022012</td>\n",
       "      <td>-0.000566</td>\n",
       "      <td>0.002411</td>\n",
       "    </tr>\n",
       "    <tr>\n",
       "      <th>2016-11-30</th>\n",
       "      <td>0.030611</td>\n",
       "      <td>0.018022</td>\n",
       "      <td>-0.002154</td>\n",
       "      <td>0.032235</td>\n",
       "      <td>0.048093</td>\n",
       "      <td>0.026520</td>\n",
       "      <td>0.094515</td>\n",
       "      <td>0.060076</td>\n",
       "      <td>0.091699</td>\n",
       "      <td>0.098315</td>\n",
       "    </tr>\n",
       "    <tr>\n",
       "      <th>2016-12-31</th>\n",
       "      <td>0.005570</td>\n",
       "      <td>0.009199</td>\n",
       "      <td>0.018899</td>\n",
       "      <td>0.018558</td>\n",
       "      <td>0.007404</td>\n",
       "      <td>0.007571</td>\n",
       "      <td>0.027476</td>\n",
       "      <td>0.022341</td>\n",
       "      <td>0.057782</td>\n",
       "      <td>0.030229</td>\n",
       "    </tr>\n",
       "  </tbody>\n",
       "</table>\n",
       "</div>"
      ],
      "text/plain": [
       "value_group         0         1         2         3         4         5  \\\n",
       "date                                                                      \n",
       "2016-08-31  -0.008146 -0.018026  0.013913  0.000831 -0.005915  0.002180   \n",
       "2016-09-30   0.004864 -0.007485 -0.007687  0.010992 -0.000877  0.006886   \n",
       "2016-10-31  -0.027080 -0.027432 -0.015324 -0.015828 -0.024748 -0.023871   \n",
       "2016-11-30   0.030611  0.018022 -0.002154  0.032235  0.048093  0.026520   \n",
       "2016-12-31   0.005570  0.009199  0.018899  0.018558  0.007404  0.007571   \n",
       "\n",
       "value_group         6         7         8         9  \n",
       "date                                                 \n",
       "2016-08-31   0.012825  0.004144  0.007465  0.032755  \n",
       "2016-09-30  -0.027498  0.007407  0.006084  0.008546  \n",
       "2016-10-31   0.002012 -0.022012 -0.000566  0.002411  \n",
       "2016-11-30   0.094515  0.060076  0.091699  0.098315  \n",
       "2016-12-31   0.027476  0.022341  0.057782  0.030229  "
      ]
     },
     "execution_count": 87,
     "metadata": {},
     "output_type": "execute_result"
    }
   ],
   "source": [
    "value_mktcapweighted =df.groupby(['date','value_group']).apply(lambda x:(x.re*np.exp(x.log_mcap)).sum()/np.exp(x.log_mcap).sum())\n",
    "value_mktcapweighted=value_mktcapweighted.unstack(level=-1)\n",
    "value_mktcapweighted.tail(5)"
   ]
  },
  {
   "cell_type": "code",
   "execution_count": 88,
   "metadata": {},
   "outputs": [
    {
     "data": {
      "text/plain": [
       "<AxesSubplot:xlabel='value_group'>"
      ]
     },
     "execution_count": 88,
     "metadata": {},
     "output_type": "execute_result"
    },
    {
     "data": {
      "image/png": "[encoded data removed]",
      "text/plain": [
       "<Figure size 432x288 with 1 Axes>"
      ]
     },
     "metadata": {
      "needs_background": "light"
     },
     "output_type": "display_data"
    }
   ],
   "source": [
    "(value_mktcapweighted.mean()*12).plot.bar()"
   ]
  },
  {
   "cell_type": "markdown",
   "metadata": {
    "colab_type": "text",
    "id": "9HuV_Dx8BS56"
   },
   "source": [
    "* It is important when constructing any weights that the weights you are using are a function only of variables known before the time of the trade.\n",
    "\n",
    "* Here in this case we are using the size variable which is the market cap of the firm last december as explained above\n",
    "\n",
    "* what is important is that this info is tradable, ideally we would use more recent market caps, but market caps are very persistent, so the result will be similar\n",
    "\n",
    "* If you didn't lag what would it be the problem? That is suppose that you use market cap from the end of the trading month? What bias would that introduce? Would this be a valid strategy?\n",
    "\n"
   ]
  },
  {
   "cell_type": "code",
   "execution_count": 96,
   "metadata": {},
   "outputs": [
    {
     "data": {
      "text/plain": [
       "<AxesSubplot:xlabel='date'>"
      ]
     },
     "execution_count": 96,
     "metadata": {},
     "output_type": "execute_result"
    },
    {
     "data": {
      "image/png": "[encoded data removed]",
      "text/plain": [
       "<Figure size 432x288 with 1 Axes>"
      ]
     },
     "metadata": {
      "needs_background": "light"
     },
     "output_type": "display_data"
    }
   ],
   "source": [
    "# recall that these portfolio are all excree returns becasue re was an excess return, \n",
    "# so we need to add back the risk-free rate to see the returns over time\n",
    "rf=df.groupby(by='date').rf.mean()\n",
    "(value_mktcapweighted.add(rf,axis='rows')+1).cumprod().plot(logy=True)"
   ]
  },
  {
   "cell_type": "markdown",
   "metadata": {
    "colab_type": "text",
    "id": "BpT0-kyKBS5Z"
   },
   "source": [
    "**What do you see here?**\n",
    "\n",
    "- Over time \"value\" (high book to market) stocks tend to perform well going forward\n",
    "\n",
    "- \"growth\" stocks  (low book to market) tend to perform poorly going forward\n",
    "\n",
    "- You can implement a value strategy in a varity of ways depending of what you can do\n",
    "\n",
    "     - instead of buying the market just buy portfolios 5 to 9, or even only portfolio 9\n",
    "     \n",
    "     - Or are you can also buy portfolio 9 and SHORT portfolio 0, that is a value minus growth strategy. Nice becasue it is close to market neutral so you can add market exposure on top of that. But of course, you do need to short!\n",
    "     \n",
    "   "
   ]
  },
  {
   "cell_type": "markdown",
   "metadata": {
    "colab_type": "text",
    "id": "FWVwD8yaBPBy"
   },
   "source": [
    "**Long-short portfolio**\n",
    "\n",
    "* It is a portfolio that is self-financed, for each dollar of stocks that it buys, it finances the position by shorting 1 dollar worth of stock in the other side\n",
    "\n",
    "* So the returns of long-short portfolio are already excess returns\n",
    "\n",
    "* We have been wroking with long-short portfolios since we discussed the concept of  excess returs\n",
    "\n",
    "* But there our short side was always the risk-free rate\n",
    "\n",
    "   * When we write $R^e_{mkt}=R_{mkt}-R_f$, we are constructing a long-short portfolio that goes long the market and short the risk-free asset\n",
    "   \n",
    "   * This portfolio as we discussed  has zero cost, i.e., you don't need any capital, so it allow us to completely separate the time-value of money question from the risk premium question\n",
    "   \n",
    "   * The only difference is that now our short side will be a risky asset too, but the logic is the same\n",
    "   \n",
    "This portfolio is nice because it isolates what the strategy is about.\n",
    "\n",
    "Below we construct the Value minus Growth portfolio"
   ]
  },
  {
   "cell_type": "code",
   "execution_count": 81,
   "metadata": {
    "colab": {
     "base_uri": "https://localhost:8080/",
     "height": 279
    },
    "colab_type": "code",
    "executionInfo": {
     "elapsed": 1118,
     "status": "ok",
     "timestamp": 1576958060999,
     "user": {
      "displayName": "yuchi yao",
      "photoUrl": "",
      "userId": "00457884373990713813"
     },
     "user_tz": 300
    },
    "id": "VeUNFQwJBS5h",
    "outputId": "40f3bb94-2e11-457d-a4b3-31f8252286ea"
   },
   "outputs": [
    {
     "data": {
      "image/png": "[encoded data removed]",
      "text/plain": [
       "<Figure size 432x288 with 1 Axes>"
      ]
     },
     "metadata": {
      "needs_background": "light"
     },
     "output_type": "display_data"
    }
   ],
   "source": [
    "R_VmG=value_mktcapweighted[9].subtract(value_mktcapweighted[0])\n",
    "\n",
    "(R_HmL).plot()\n",
    "plt.show()"
   ]
  },
  {
   "cell_type": "code",
   "execution_count": 97,
   "metadata": {},
   "outputs": [
    {
     "data": {
      "text/plain": [
       "<AxesSubplot:xlabel='date'>"
      ]
     },
     "execution_count": 97,
     "metadata": {},
     "output_type": "execute_result"
    },
    {
     "data": {
      "image/png": "[encoded data removed]",
      "text/plain": [
       "<Figure size 432x288 with 1 Axes>"
      ]
     },
     "metadata": {
      "needs_background": "light"
     },
     "output_type": "display_data"
    }
   ],
   "source": [
    "\n",
    "(R_HmL+rf+1).cumprod().plot()"
   ]
  }
 ],
 "metadata": {
  "colab": {
   "collapsed_sections": [],
   "name": "Notebook 6.ipynb",
   "provenance": []
  },
  "kernelspec": {
   "display_name": "Python 3",
   "language": "python",
   "name": "python3"
  },
  "language_info": {
   "codemirror_mode": {
    "name": "ipython",
    "version": 3
   },
   "file_extension": ".py",
   "mimetype": "text/x-python",
   "name": "python",
   "nbconvert_exporter": "python",
   "pygments_lexer": "ipython3",
   "version": "3.8.5"
  }
 },
 "nbformat": 4,
 "nbformat_minor": 4
}
